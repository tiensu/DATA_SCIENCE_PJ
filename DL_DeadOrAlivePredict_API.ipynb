{
  "nbformat": 4,
  "nbformat_minor": 0,
  "metadata": {
    "colab": {
      "name": "DL_DeadOrAlivePredict_API.ipynb",
      "version": "0.3.2",
      "provenance": [],
      "include_colab_link": true
    },
    "kernelspec": {
      "name": "python3",
      "display_name": "Python 3"
    },
    "accelerator": "GPU"
  },
  "cells": [
    {
      "cell_type": "markdown",
      "metadata": {
        "id": "view-in-github",
        "colab_type": "text"
      },
      "source": [
        "<a href=\"https://colab.research.google.com/github/tiensu/DATA_SCIENCE_PJ/blob/master/DL_DeadOrAlivePredict_API.ipynb\" target=\"_parent\"><img src=\"https://colab.research.google.com/assets/colab-badge.svg\" alt=\"Open In Colab\"/></a>"
      ]
    },
    {
      "metadata": {
        "id": "cDzeAPwtpjHK",
        "colab_type": "code",
        "colab": {
          "base_uri": "https://localhost:8080/",
          "height": 124
        },
        "outputId": "00971bf1-3adf-428c-c871-e39cee59212b"
      },
      "cell_type": "code",
      "source": [
        "from google.colab import drive\n",
        "drive.mount('/content/drive')"
      ],
      "execution_count": 11,
      "outputs": [
        {
          "output_type": "stream",
          "text": [
            "Go to this URL in a browser: https://accounts.google.com/o/oauth2/auth?client_id=947318989803-6bn6qk8qdgf4n4g3pfee6491hc0brc4i.apps.googleusercontent.com&redirect_uri=urn%3Aietf%3Awg%3Aoauth%3A2.0%3Aoob&scope=email%20https%3A%2F%2Fwww.googleapis.com%2Fauth%2Fdocs.test%20https%3A%2F%2Fwww.googleapis.com%2Fauth%2Fdrive%20https%3A%2F%2Fwww.googleapis.com%2Fauth%2Fdrive.photos.readonly%20https%3A%2F%2Fwww.googleapis.com%2Fauth%2Fpeopleapi.readonly&response_type=code\n",
            "\n",
            "Enter your authorization code:\n",
            "··········\n",
            "Mounted at /content/drive\n"
          ],
          "name": "stdout"
        }
      ]
    },
    {
      "metadata": {
        "id": "JFIuut79LAi_",
        "colab_type": "code",
        "colab": {
          "base_uri": "https://localhost:8080/",
          "height": 34
        },
        "outputId": "034a5ddb-4910-4ed6-e713-889ce230b753"
      },
      "cell_type": "code",
      "source": [
        "import flask\n",
        "import numpy as np\n",
        "import tensorflow as tf\n",
        "from keras.models import load_model"
      ],
      "execution_count": 4,
      "outputs": [
        {
          "output_type": "stream",
          "text": [
            "Using TensorFlow backend.\n"
          ],
          "name": "stderr"
        }
      ]
    },
    {
      "metadata": {
        "id": "BmnE9inxLV5i",
        "colab_type": "code",
        "colab": {}
      },
      "cell_type": "code",
      "source": [
        "# Initialize Flask application and the Keras model\n",
        "app = flask.Flask(__name__)\n",
        "def init():\n",
        "  global model, graph\n",
        "  # Load the pre-trained Keras model\n",
        "  model = load_model('./drive/My Drive/MACHINE_LEARNING_CODE/DATA_SET/game-of-thrones/model.h5')\n",
        "  graph = tf.get_default_graph()"
      ],
      "execution_count": 0,
      "outputs": []
    },
    {
      "metadata": {
        "id": "dKxFBTHBmbaH",
        "colab_type": "code",
        "colab": {}
      },
      "cell_type": "code",
      "source": [
        "# Getting parameters\n",
        "def getParameters():\n",
        "  parameters = []\n",
        "  parameters.append(flask.request.args.get('male'))\n",
        "  parameters.append(flask.request.args.get('book1'))\n",
        "  parameters.append(flask.request.args.get('book2'))\n",
        "  parameters.append(flask.request.args.get('book3'))\n",
        "  parameters.append(flask.request.args.get('book4'))\n",
        "  parameters.append(flask.request.args.get('book5'))\n",
        "  parameters.append(flask.request.args.get('isMarried'))\n",
        "  parameters.append(flask.request.args.get('isNoble'))\n",
        "  parameters.append(flask.request.args.get('numDeadRelations'))\n",
        "  parameters.append(flask.request.args.get('boolDeadRelations'))\n",
        "  parameters.append(flask.request.args.get('isPopular'))\n",
        "  parameters.append(flask.request.args.get('popularity'))\n",
        "  return parameters"
      ],
      "execution_count": 0,
      "outputs": []
    },
    {
      "metadata": {
        "id": "bAiEuSGwm_z6",
        "colab_type": "code",
        "colab": {}
      },
      "cell_type": "code",
      "source": [
        "# Sending response\n",
        "def sendResponse(responseObj):\n",
        "  response = flask.jsonify(responseObj)\n",
        "  response.headers.add('Access-Control-Allow-Origin', '*')\n",
        "  response.headers.add('Access-Control-Allow-Methods', 'GET')\n",
        "  response.headers.add('Access-Control-Allow-Headers', 'accept,content-type,Origin,X-Requested-With,Content-Type,access_token,Accept,Authorization,source')\n",
        "  response.headers.add('Access-Control-Allow-Credentials', True)\n",
        "  return response"
      ],
      "execution_count": 0,
      "outputs": []
    },
    {
      "metadata": {
        "id": "RLpj8_MHnXUP",
        "colab_type": "code",
        "colab": {}
      },
      "cell_type": "code",
      "source": [
        "# API for prediction\n",
        "@app.route('/predic', methods=['GET'])\n",
        "def predict():\n",
        "  nameOfCharacter = flask.request.args.get('name')\n",
        "  parameters = getParameters()\n",
        "  inputFeature = np.asarray(parameters).reshape(1, 12)\n",
        "  with graph.as_default():\n",
        "    raw_prediction = model.predict(inputFeature)[0][0]\n",
        "  if raw_prediction > 0.5:\n",
        "    prediction = 'Alive'\n",
        "  else:\n",
        "    prediction = 'Dead'\n",
        "  return sendResponse({nameOfCharacter: prediction})"
      ],
      "execution_count": 0,
      "outputs": []
    },
    {
      "metadata": {
        "id": "lEEvFzOPodNy",
        "colab_type": "code",
        "colab": {
          "base_uri": "https://localhost:8080/",
          "height": 158
        },
        "outputId": "762884fc-6fce-41c1-f70f-bc52854411a7"
      },
      "cell_type": "code",
      "source": [
        "# If this is main thread of execution first load the model and the start the server\n",
        "if __name__ == '__main__':\n",
        "  print(('* Loading Keras model and Flask starting server ... Please wait until server has fully started'))\n",
        "  init()\n",
        "  app.run(threaded=True)"
      ],
      "execution_count": 13,
      "outputs": [
        {
          "output_type": "stream",
          "text": [
            "* Loading Keras model and Flask starting server ... Please wait until server has fully started\n",
            " * Serving Flask app \"__main__\" (lazy loading)\n",
            " * Environment: production\n",
            "   WARNING: Do not use the development server in a production environment.\n",
            "   Use a production WSGI server instead.\n",
            " * Debug mode: off\n"
          ],
          "name": "stdout"
        },
        {
          "output_type": "stream",
          "text": [
            " * Running on http://127.0.0.1:5000/ (Press CTRL+C to quit)\n"
          ],
          "name": "stderr"
        }
      ]
    },
    {
      "metadata": {
        "id": "_LozHQ_spaJr",
        "colab_type": "code",
        "colab": {}
      },
      "cell_type": "code",
      "source": [
        ""
      ],
      "execution_count": 0,
      "outputs": []
    }
  ]
}