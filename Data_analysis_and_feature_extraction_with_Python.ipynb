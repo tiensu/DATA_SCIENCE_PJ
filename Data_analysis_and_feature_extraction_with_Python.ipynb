{
  "nbformat": 4,
  "nbformat_minor": 0,
  "metadata": {
    "colab": {
      "name": "Data analysis and feature extraction with Python.ipynb",
      "version": "0.3.2",
      "provenance": [],
      "include_colab_link": true
    },
    "kernelspec": {
      "name": "python3",
      "display_name": "Python 3"
    },
    "accelerator": "GPU"
  },
  "cells": [
    {
      "cell_type": "markdown",
      "metadata": {
        "id": "view-in-github",
        "colab_type": "text"
      },
      "source": [
        "<a href=\"https://colab.research.google.com/github/tiensu/DATA_SCIENCE_PJ/blob/master/Data_analysis_and_feature_extraction_with_Python.ipynb\" target=\"_parent\"><img src=\"https://colab.research.google.com/assets/colab-badge.svg\" alt=\"Open In Colab\"/></a>"
      ]
    },
    {
      "metadata": {
        "id": "SBdl8P2fFJuK",
        "colab_type": "text"
      },
      "cell_type": "markdown",
      "source": [
        "https://www.kaggle.com/pmarcelino/data-analysis-and-feature-extraction-with-python/notebook"
      ]
    },
    {
      "metadata": {
        "id": "UZXrEWprEKC6",
        "colab_type": "code",
        "outputId": "fa1fbdef-ab80-402c-b86e-e9e83cd1281d",
        "colab": {
          "base_uri": "https://localhost:8080/",
          "height": 124
        }
      },
      "cell_type": "code",
      "source": [
        "from google.colab import drive\n",
        "drive.mount('/content/drive')"
      ],
      "execution_count": 0,
      "outputs": [
        {
          "output_type": "stream",
          "text": [
            "Go to this URL in a browser: https://accounts.google.com/o/oauth2/auth?client_id=947318989803-6bn6qk8qdgf4n4g3pfee6491hc0brc4i.apps.googleusercontent.com&redirect_uri=urn%3Aietf%3Awg%3Aoauth%3A2.0%3Aoob&scope=email%20https%3A%2F%2Fwww.googleapis.com%2Fauth%2Fdocs.test%20https%3A%2F%2Fwww.googleapis.com%2Fauth%2Fdrive%20https%3A%2F%2Fwww.googleapis.com%2Fauth%2Fdrive.photos.readonly%20https%3A%2F%2Fwww.googleapis.com%2Fauth%2Fpeopleapi.readonly&response_type=code\n",
            "\n",
            "Enter your authorization code:\n",
            "··········\n",
            "Mounted at /content/drive\n"
          ],
          "name": "stdout"
        }
      ]
    },
    {
      "metadata": {
        "id": "nvwg-UBvaRQ5",
        "colab_type": "code",
        "colab": {}
      },
      "cell_type": "code",
      "source": [
        "# Import library\n",
        "import pandas as pd\n",
        "import numpy as np\n",
        "import seaborn as sns\n",
        "import matplotlib.pyplot as plt\n",
        "%matplotlib inline"
      ],
      "execution_count": 0,
      "outputs": []
    },
    {
      "metadata": {
        "id": "jp6x8P1slsrj",
        "colab_type": "code",
        "colab": {}
      },
      "cell_type": "code",
      "source": [
        "from sklearn.model_selection import train_test_split\n",
        "from sklearn.model_selection import learning_curve\n",
        "from sklearn.model_selection import validation_curve\n",
        "from sklearn.model_selection import cross_val_score\n",
        "from sklearn.linear_model import LogisticRegression"
      ],
      "execution_count": 0,
      "outputs": []
    },
    {
      "metadata": {
        "id": "1AMOXRJRmRla",
        "colab_type": "code",
        "colab": {}
      },
      "cell_type": "code",
      "source": [
        "# Function"
      ],
      "execution_count": 0,
      "outputs": []
    },
    {
      "metadata": {
        "id": "GA1HwaZemeQa",
        "colab_type": "code",
        "colab": {}
      },
      "cell_type": "code",
      "source": [
        "# Create table for missing data analysis\n",
        "def draw_missing_data_table(df):\n",
        "  total = df.isnull().sum().sort_values(ascending=False)\n",
        "  percent = (df.isnull().sum()/df.isnull().count()).sort_values(ascending=False)\n",
        "  missing_data = pd.concat([total, percent], axis=1, keys=['Total', 'Percent'])\n",
        "  return missing_data"
      ],
      "execution_count": 0,
      "outputs": []
    },
    {
      "metadata": {
        "id": "BHu-U2G0nfkV",
        "colab_type": "code",
        "colab": {}
      },
      "cell_type": "code",
      "source": [
        "# Plot learning curve\n",
        "def plot_learning_curve(estimator, title, X, y, ylim=None, cv=None, n_jobs=1, train_sizes=np.linspace(.1, 1.0, 5)):\n",
        "  train_sizes, train_scores, test_scores = learning_curve(estimator, X, y, cv=cv, n_jobs=n_jobs, train_sizes=train_sizes)\n",
        "  \n",
        "  train_scores_mean = np.mean(train_scores, axis=1)\n",
        "  train_scores_std = np.std(train_scores, axis=1)\n",
        "  test_scores_mean = np.mean(test_scores, axis=1)\n",
        "  test_scores_std = np.std(test_scores, axis=1)\n",
        "  \n",
        "  plt.figure()\n",
        "  plt.title(title)\n",
        "  if ylim is not None:\n",
        "    plt.ylim(*ylim)\n",
        "  plt.xlabel(\"Training examples\")\n",
        "  plt.ylabel(\"Score\")  \n",
        "  plt.grid(b=True, which='major', axis='both')\n",
        "  \n",
        "  plt.fill_between(train_sizes, train_scores_mean - train_scores_std, train_scores_mean + train_scores_std, alpha=0.1, color='r')\n",
        "  plt.fill_between(train_sizes, test_scores_mean - test_scores_std, test_scores_mean + test_scores_std, alpha=0.1, color='g')\n",
        "  plt.plot(train_sizes, train_scores_mean, 'o-', color='r', label='Training Score')\n",
        "  plt.plot(train_sizes, test_scores_mean, 'o-', color='g', label='Validation Score')\n",
        "  \n",
        "  plt.legend(loc='best')\n",
        "  return plt\n",
        "  \n",
        "  "
      ],
      "execution_count": 0,
      "outputs": []
    },
    {
      "metadata": {
        "id": "Poe09fSDu1Xq",
        "colab_type": "code",
        "colab": {}
      },
      "cell_type": "code",
      "source": [
        "# Plot validation curve\n",
        "def plot_validation_curve(estimator, title, X, y, param_name, param_range, ylim=None, cv=None,\n",
        "                        n_jobs=1, train_sizes=np.linspace(.1, 1.0, 5)):\n",
        "    train_scores, test_scores = validation_curve(estimator, X, y, param_name, param_range, cv)\n",
        "    \n",
        "    train_mean = np.mean(train_scores, axis=1)\n",
        "    train_std = np.std(train_scores, axis=1)\n",
        "    test_mean = np.mean(test_scores, axis=1)\n",
        "    test_std = np.std(test_scores, axis=1)\n",
        "    \n",
        "    plt.plot(param_range, train_mean, color='r', marker='o', markersize=5, label='Training score')\n",
        "    plt.fill_between(param_range, train_mean + train_std, train_mean - train_std, alpha=0.15, color='r')\n",
        "    \n",
        "    plt.plot(param_range, test_mean, color='g', linestyle='--', marker='s', markersize=5, label='Validation score')\n",
        "    plt.fill_between(param_range, test_mean + test_std, test_mean - test_std, alpha=0.15, color='g')\n",
        "    \n",
        "    plt.grid(b=True, which='major', axis='both') \n",
        "    plt.xscale('log')\n",
        "    plt.legend(loc='best') \n",
        "    plt.xlabel('Parameter') \n",
        "    plt.ylabel('Score') \n",
        "    plt.ylim(ylim)"
      ],
      "execution_count": 0,
      "outputs": []
    },
    {
      "metadata": {
        "id": "_47QruGKRZns",
        "colab_type": "text"
      },
      "cell_type": "markdown",
      "source": [
        "**1. The lean data set**\n",
        "\n",
        "Approach relies on a Build-Measure-Learn process. This process emphasizes rapid iteration as a critical ingredient to product development. It goes through the following phases:\n",
        "\n",
        "Build. Figure out the problem that needs to be solved, generate ideas about how to solve it, and select the best one. Turn your best idea into a Minimum Viable Product (MVP).\n",
        "Measure. Test your product. Go to your customers and measure their reactions and behaviors against your product.\n",
        "Learn. Analyse the data you collected when testing the product with your customers. Draw conclusions from the experiment and decide what to do next. In other words, this is a validated learning process that quickly builds, tests, and rebuilds products, according to users' feedback. This reduces your market risks by failing fast and cheap, to get you closer and closer to what the market really needs.\n",
        "\n",
        "This kernel does something similar. We will try to fail fast and cheap by quickly building a working end-to-end pipeline (Build). Then, we will instrument the system to evaluate its performance (Measure). Finally, we will make incremental changes to improve the system's performance (Learn).\n",
        "\n",
        "Initially, we will not invest much time with exploratory data analysis. We will just do the minimum viable effort to implement a reasonable model. This model will be our 'Minimum Viable Model'. Later, we will try to beat this model by enriching our data.\n",
        "\n",
        "**1.1. Doing the pitch**\n",
        "\n",
        "Startups use pitches to sell their idea. Accordingly, their pitch should be clear and concise, answering questions such as 'what do you do?', 'what do you want?', and 'who's on your team?'. The pitch is important because investors are more willing to invest when they understand what you're doing.\n",
        "\n",
        "Let's return the first rows of our data set to get a clear and concise picture of what is there and what we can do with it."
      ]
    },
    {
      "metadata": {
        "id": "WKuTwGpkEdvm",
        "colab_type": "code",
        "colab": {}
      },
      "cell_type": "code",
      "source": [
        "# Import data\n",
        "df = pd.read_csv('drive/My Drive/MACHINE_LEARNING_CODE/DATA_SET/titanic/train.csv')\n",
        "df_raw = df.copy() # Save original data set, just in case"
      ],
      "execution_count": 0,
      "outputs": []
    },
    {
      "metadata": {
        "id": "tFzagrZPEukH",
        "colab_type": "code",
        "outputId": "86d7e821-d882-47a0-939c-e4e66849db4a",
        "colab": {
          "base_uri": "https://localhost:8080/",
          "height": 495
        }
      },
      "cell_type": "code",
      "source": [
        "# Overview\n",
        "df.head()"
      ],
      "execution_count": 0,
      "outputs": [
        {
          "output_type": "execute_result",
          "data": {
            "text/html": [
              "<div>\n",
              "<style scoped>\n",
              "    .dataframe tbody tr th:only-of-type {\n",
              "        vertical-align: middle;\n",
              "    }\n",
              "\n",
              "    .dataframe tbody tr th {\n",
              "        vertical-align: top;\n",
              "    }\n",
              "\n",
              "    .dataframe thead th {\n",
              "        text-align: right;\n",
              "    }\n",
              "</style>\n",
              "<table border=\"1\" class=\"dataframe\">\n",
              "  <thead>\n",
              "    <tr style=\"text-align: right;\">\n",
              "      <th></th>\n",
              "      <th>PassengerId</th>\n",
              "      <th>Survived</th>\n",
              "      <th>Pclass</th>\n",
              "      <th>Name</th>\n",
              "      <th>Sex</th>\n",
              "      <th>Age</th>\n",
              "      <th>SibSp</th>\n",
              "      <th>Parch</th>\n",
              "      <th>Ticket</th>\n",
              "      <th>Fare</th>\n",
              "      <th>Cabin</th>\n",
              "      <th>Embarked</th>\n",
              "    </tr>\n",
              "  </thead>\n",
              "  <tbody>\n",
              "    <tr>\n",
              "      <th>0</th>\n",
              "      <td>1</td>\n",
              "      <td>0</td>\n",
              "      <td>3</td>\n",
              "      <td>Braund, Mr. Owen Harris</td>\n",
              "      <td>male</td>\n",
              "      <td>22.0</td>\n",
              "      <td>1</td>\n",
              "      <td>0</td>\n",
              "      <td>A/5 21171</td>\n",
              "      <td>7.2500</td>\n",
              "      <td>NaN</td>\n",
              "      <td>S</td>\n",
              "    </tr>\n",
              "    <tr>\n",
              "      <th>1</th>\n",
              "      <td>2</td>\n",
              "      <td>1</td>\n",
              "      <td>1</td>\n",
              "      <td>Cumings, Mrs. John Bradley (Florence Briggs Th...</td>\n",
              "      <td>female</td>\n",
              "      <td>38.0</td>\n",
              "      <td>1</td>\n",
              "      <td>0</td>\n",
              "      <td>PC 17599</td>\n",
              "      <td>71.2833</td>\n",
              "      <td>C85</td>\n",
              "      <td>C</td>\n",
              "    </tr>\n",
              "    <tr>\n",
              "      <th>2</th>\n",
              "      <td>3</td>\n",
              "      <td>1</td>\n",
              "      <td>3</td>\n",
              "      <td>Heikkinen, Miss. Laina</td>\n",
              "      <td>female</td>\n",
              "      <td>26.0</td>\n",
              "      <td>0</td>\n",
              "      <td>0</td>\n",
              "      <td>STON/O2. 3101282</td>\n",
              "      <td>7.9250</td>\n",
              "      <td>NaN</td>\n",
              "      <td>S</td>\n",
              "    </tr>\n",
              "    <tr>\n",
              "      <th>3</th>\n",
              "      <td>4</td>\n",
              "      <td>1</td>\n",
              "      <td>1</td>\n",
              "      <td>Futrelle, Mrs. Jacques Heath (Lily May Peel)</td>\n",
              "      <td>female</td>\n",
              "      <td>35.0</td>\n",
              "      <td>1</td>\n",
              "      <td>0</td>\n",
              "      <td>113803</td>\n",
              "      <td>53.1000</td>\n",
              "      <td>C123</td>\n",
              "      <td>S</td>\n",
              "    </tr>\n",
              "    <tr>\n",
              "      <th>4</th>\n",
              "      <td>5</td>\n",
              "      <td>0</td>\n",
              "      <td>3</td>\n",
              "      <td>Allen, Mr. William Henry</td>\n",
              "      <td>male</td>\n",
              "      <td>35.0</td>\n",
              "      <td>0</td>\n",
              "      <td>0</td>\n",
              "      <td>373450</td>\n",
              "      <td>8.0500</td>\n",
              "      <td>NaN</td>\n",
              "      <td>S</td>\n",
              "    </tr>\n",
              "  </tbody>\n",
              "</table>\n",
              "</div>"
            ],
            "text/plain": [
              "   PassengerId  Survived  Pclass  \\\n",
              "0            1         0       3   \n",
              "1            2         1       1   \n",
              "2            3         1       3   \n",
              "3            4         1       1   \n",
              "4            5         0       3   \n",
              "\n",
              "                                                Name     Sex   Age  SibSp  \\\n",
              "0                            Braund, Mr. Owen Harris    male  22.0      1   \n",
              "1  Cumings, Mrs. John Bradley (Florence Briggs Th...  female  38.0      1   \n",
              "2                             Heikkinen, Miss. Laina  female  26.0      0   \n",
              "3       Futrelle, Mrs. Jacques Heath (Lily May Peel)  female  35.0      1   \n",
              "4                           Allen, Mr. William Henry    male  35.0      0   \n",
              "\n",
              "   Parch            Ticket     Fare Cabin Embarked  \n",
              "0      0         A/5 21171   7.2500   NaN        S  \n",
              "1      0          PC 17599  71.2833   C85        C  \n",
              "2      0  STON/O2. 3101282   7.9250   NaN        S  \n",
              "3      0            113803  53.1000  C123        S  \n",
              "4      0            373450   8.0500   NaN        S  "
            ]
          },
          "metadata": {
            "tags": []
          },
          "execution_count": 12
        }
      ]
    },
    {
      "metadata": {
        "id": "bp1K9W3mTLY6",
        "colab_type": "text"
      },
      "cell_type": "markdown",
      "source": [
        "Definitions and quick thoughts:\n",
        "\n",
        "1.   **PassengerId**. Unique identification of the passenger. It shouldn't be necessary for the machine learning model.\n",
        "2.  **Survived**. Survival (0 = No, 1 = Yes). Binary variable that will be our target variable.\n",
        "3.  **Pclass**. Ticket class (1 = 1st, 2 = 2nd, 3 = 3rd). Ready to go.\n",
        "4.  **Name**. Name of the passenger. We need to parse before using it.\n",
        "5.  **Sex**. Sex. Categorical variable that should be encoded.\n",
        "6.  **Age**. Age in years. Ready to go.\n",
        "7.  **SibSp**. # of siblings / spouses aboard the Titanic. Ready to go.\n",
        "8.  **Parch**. # of parents / children aboard the Titanic. Ready to go.\n",
        "9.  **Ticket**. Ticket number. Big mess. We need to understand its structure first.\n",
        "10. **Fare**. Passenger fare. Ready to go.\n",
        "11. **Cabin**. Cabin number. It needs to be parsed.\n",
        "12. **Embarked**. Port of Embarkation (C = Cherbourg, Q = Queenstown, S = Southampton). Categorical feature that should be encoded.\n",
        "\n",
        "The main conclusion is that we already have a set of features that we can easily use in our machine learning model. Other features, like 'Name', 'Ticket', and 'Fare', require an additional effort before we can integrate them.\n",
        "\n",
        "**1.2. Showing the numbers**\n",
        "\n",
        "Numbers are crucial to set goals, to make sound business decisions, and to obtain money from investors. With numbers you can project the future of your startup, so that everyone can understand which are the expectations around your idea.\n",
        "\n",
        "In the same way, we will generate the descriptive statistics to get the basic quantitative information about the features of our data set."
      ]
    },
    {
      "metadata": {
        "id": "4nW9q8tYE5MI",
        "colab_type": "code",
        "outputId": "8a02f4e3-9fe0-4dbb-cbdb-4ce7b53fcc99",
        "colab": {
          "base_uri": "https://localhost:8080/",
          "height": 288
        }
      },
      "cell_type": "code",
      "source": [
        "# Desciptive statistics\n",
        "df.describe()"
      ],
      "execution_count": 0,
      "outputs": [
        {
          "output_type": "execute_result",
          "data": {
            "text/html": [
              "<div>\n",
              "<style scoped>\n",
              "    .dataframe tbody tr th:only-of-type {\n",
              "        vertical-align: middle;\n",
              "    }\n",
              "\n",
              "    .dataframe tbody tr th {\n",
              "        vertical-align: top;\n",
              "    }\n",
              "\n",
              "    .dataframe thead th {\n",
              "        text-align: right;\n",
              "    }\n",
              "</style>\n",
              "<table border=\"1\" class=\"dataframe\">\n",
              "  <thead>\n",
              "    <tr style=\"text-align: right;\">\n",
              "      <th></th>\n",
              "      <th>PassengerId</th>\n",
              "      <th>Survived</th>\n",
              "      <th>Pclass</th>\n",
              "      <th>Age</th>\n",
              "      <th>SibSp</th>\n",
              "      <th>Parch</th>\n",
              "      <th>Fare</th>\n",
              "    </tr>\n",
              "  </thead>\n",
              "  <tbody>\n",
              "    <tr>\n",
              "      <th>count</th>\n",
              "      <td>891.000000</td>\n",
              "      <td>891.000000</td>\n",
              "      <td>891.000000</td>\n",
              "      <td>714.000000</td>\n",
              "      <td>891.000000</td>\n",
              "      <td>891.000000</td>\n",
              "      <td>891.000000</td>\n",
              "    </tr>\n",
              "    <tr>\n",
              "      <th>mean</th>\n",
              "      <td>446.000000</td>\n",
              "      <td>0.383838</td>\n",
              "      <td>2.308642</td>\n",
              "      <td>29.699118</td>\n",
              "      <td>0.523008</td>\n",
              "      <td>0.381594</td>\n",
              "      <td>32.204208</td>\n",
              "    </tr>\n",
              "    <tr>\n",
              "      <th>std</th>\n",
              "      <td>257.353842</td>\n",
              "      <td>0.486592</td>\n",
              "      <td>0.836071</td>\n",
              "      <td>14.526497</td>\n",
              "      <td>1.102743</td>\n",
              "      <td>0.806057</td>\n",
              "      <td>49.693429</td>\n",
              "    </tr>\n",
              "    <tr>\n",
              "      <th>min</th>\n",
              "      <td>1.000000</td>\n",
              "      <td>0.000000</td>\n",
              "      <td>1.000000</td>\n",
              "      <td>0.420000</td>\n",
              "      <td>0.000000</td>\n",
              "      <td>0.000000</td>\n",
              "      <td>0.000000</td>\n",
              "    </tr>\n",
              "    <tr>\n",
              "      <th>25%</th>\n",
              "      <td>223.500000</td>\n",
              "      <td>0.000000</td>\n",
              "      <td>2.000000</td>\n",
              "      <td>20.125000</td>\n",
              "      <td>0.000000</td>\n",
              "      <td>0.000000</td>\n",
              "      <td>7.910400</td>\n",
              "    </tr>\n",
              "    <tr>\n",
              "      <th>50%</th>\n",
              "      <td>446.000000</td>\n",
              "      <td>0.000000</td>\n",
              "      <td>3.000000</td>\n",
              "      <td>28.000000</td>\n",
              "      <td>0.000000</td>\n",
              "      <td>0.000000</td>\n",
              "      <td>14.454200</td>\n",
              "    </tr>\n",
              "    <tr>\n",
              "      <th>75%</th>\n",
              "      <td>668.500000</td>\n",
              "      <td>1.000000</td>\n",
              "      <td>3.000000</td>\n",
              "      <td>38.000000</td>\n",
              "      <td>1.000000</td>\n",
              "      <td>0.000000</td>\n",
              "      <td>31.000000</td>\n",
              "    </tr>\n",
              "    <tr>\n",
              "      <th>max</th>\n",
              "      <td>891.000000</td>\n",
              "      <td>1.000000</td>\n",
              "      <td>3.000000</td>\n",
              "      <td>80.000000</td>\n",
              "      <td>8.000000</td>\n",
              "      <td>6.000000</td>\n",
              "      <td>512.329200</td>\n",
              "    </tr>\n",
              "  </tbody>\n",
              "</table>\n",
              "</div>"
            ],
            "text/plain": [
              "       PassengerId    Survived      Pclass         Age       SibSp  \\\n",
              "count   891.000000  891.000000  891.000000  714.000000  891.000000   \n",
              "mean    446.000000    0.383838    2.308642   29.699118    0.523008   \n",
              "std     257.353842    0.486592    0.836071   14.526497    1.102743   \n",
              "min       1.000000    0.000000    1.000000    0.420000    0.000000   \n",
              "25%     223.500000    0.000000    2.000000   20.125000    0.000000   \n",
              "50%     446.000000    0.000000    3.000000   28.000000    0.000000   \n",
              "75%     668.500000    1.000000    3.000000   38.000000    1.000000   \n",
              "max     891.000000    1.000000    3.000000   80.000000    8.000000   \n",
              "\n",
              "            Parch        Fare  \n",
              "count  891.000000  891.000000  \n",
              "mean     0.381594   32.204208  \n",
              "std      0.806057   49.693429  \n",
              "min      0.000000    0.000000  \n",
              "25%      0.000000    7.910400  \n",
              "50%      0.000000   14.454200  \n",
              "75%      0.000000   31.000000  \n",
              "max      6.000000  512.329200  "
            ]
          },
          "metadata": {
            "tags": []
          },
          "execution_count": 13
        }
      ]
    },
    {
      "metadata": {
        "id": "VVTpq0l0Ud5n",
        "colab_type": "text"
      },
      "cell_type": "markdown",
      "source": [
        "There are three aspects that usually catch my attention when I analyse descriptive statistics:\n",
        "\n",
        "1. **Min and max values**. This can give us an idea about the range of values and is helpful to detect outliers. In our case, all the min and max values seem reasonable and in a reasonable range of values. The only exception could eventually be the max value of 'Fare', but for now we will leave it as it is.\n",
        "\n",
        "2. **Mean and standard deviation**. The mean shows us the central tendency of the distribution, while the standard deviation quantifies its amount of variation. For example, a low standard deviation suggests that data points tend to be close to the mean. Giving a quick look to our values, there's nothing that looks like obviously wrong.\n",
        "\n",
        "3. **Count**. This is important to give us a first perception about the volume of missing data. Here, we can see that some 'Age' data is missing.\n",
        "\n",
        "Since there's nothing shocking about the variables, let's proceed to the next step: missing data.\n",
        "\n",
        "\n",
        "**1.3. Filling the gaps**\n",
        "One of my favourite definitions of startup belongs to Eric Ries: 'a startup is a human institution designed to create a new product or service under conditions of extreme uncertainty'.\n",
        "\n",
        "The word 'uncertainty' is key in this definition and it's also key in missing data. Missing data occurs when no data value on one or more variables is available. Consequently, it reduces the size of the data set and is a possible source of bias, since some non-random mechanism can be generating the missing data. As a result, missing data introduces uncertainty in our analysis.\n",
        "\n",
        "There are several strategies to deal with missing data. Some of the most common are:\n",
        "\n",
        "- Use only valid data, deleting the cases where data is missing.\n",
        "\n",
        "- Impute data using values from similar cases or using the mean value.\n",
        "\n",
        "- Impute data using model-based methods, in which models are defined to predict the missing values.\n",
        "\n",
        "Until today, I've never found a 'one size fits all' solution. I have some dogmas (e.g. I usually exclude variables with more than 25% of missing data), but what usually guides my analysis is intuition, critical thinking and need (sometimes we need to leave our dogmas at the door, if we want to generate some results).\n",
        "\n",
        "My practical advice to handle missing data is to learn a different set of tools. Play with them according to your needs, test them and you should be fine. A good introduction to the subject can be found in Hair et al. (2013). This book has a practical summary about missing data and provides a framework that you can apply in almost all situations. Also, I wrote a technical paper comparing different imputation techniques, which I can share with you if you want.\n",
        "\n",
        "Now that we can see the tip of the iceberg, let's dive into the subject."
      ]
    },
    {
      "metadata": {
        "id": "sRwMJLs_FV2f",
        "colab_type": "code",
        "outputId": "75c7b872-d4f7-4e41-92df-81c6364cb932",
        "colab": {
          "base_uri": "https://localhost:8080/",
          "height": 469
        }
      },
      "cell_type": "code",
      "source": [
        "# Analyse missing data\n",
        "draw_missing_data_table(df)"
      ],
      "execution_count": 0,
      "outputs": [
        {
          "output_type": "execute_result",
          "data": {
            "text/html": [
              "<div>\n",
              "<style scoped>\n",
              "    .dataframe tbody tr th:only-of-type {\n",
              "        vertical-align: middle;\n",
              "    }\n",
              "\n",
              "    .dataframe tbody tr th {\n",
              "        vertical-align: top;\n",
              "    }\n",
              "\n",
              "    .dataframe thead th {\n",
              "        text-align: right;\n",
              "    }\n",
              "</style>\n",
              "<table border=\"1\" class=\"dataframe\">\n",
              "  <thead>\n",
              "    <tr style=\"text-align: right;\">\n",
              "      <th></th>\n",
              "      <th>Total</th>\n",
              "      <th>Percent</th>\n",
              "    </tr>\n",
              "  </thead>\n",
              "  <tbody>\n",
              "    <tr>\n",
              "      <th>Title_Other</th>\n",
              "      <td>0</td>\n",
              "      <td>0.0</td>\n",
              "    </tr>\n",
              "    <tr>\n",
              "      <th>Title_Mrs</th>\n",
              "      <td>0</td>\n",
              "      <td>0.0</td>\n",
              "    </tr>\n",
              "    <tr>\n",
              "      <th>Title_Mr</th>\n",
              "      <td>0</td>\n",
              "      <td>0.0</td>\n",
              "    </tr>\n",
              "    <tr>\n",
              "      <th>Title_Miss</th>\n",
              "      <td>0</td>\n",
              "      <td>0.0</td>\n",
              "    </tr>\n",
              "    <tr>\n",
              "      <th>Embarked_S</th>\n",
              "      <td>0</td>\n",
              "      <td>0.0</td>\n",
              "    </tr>\n",
              "    <tr>\n",
              "      <th>Embarked_Q</th>\n",
              "      <td>0</td>\n",
              "      <td>0.0</td>\n",
              "    </tr>\n",
              "    <tr>\n",
              "      <th>Age_Elder</th>\n",
              "      <td>0</td>\n",
              "      <td>0.0</td>\n",
              "    </tr>\n",
              "    <tr>\n",
              "      <th>Age_Adult</th>\n",
              "      <td>0</td>\n",
              "      <td>0.0</td>\n",
              "    </tr>\n",
              "    <tr>\n",
              "      <th>Sex_male</th>\n",
              "      <td>0</td>\n",
              "      <td>0.0</td>\n",
              "    </tr>\n",
              "    <tr>\n",
              "      <th>Pclass_3</th>\n",
              "      <td>0</td>\n",
              "      <td>0.0</td>\n",
              "    </tr>\n",
              "    <tr>\n",
              "      <th>Pclass_2</th>\n",
              "      <td>0</td>\n",
              "      <td>0.0</td>\n",
              "    </tr>\n",
              "    <tr>\n",
              "      <th>Imputed</th>\n",
              "      <td>0</td>\n",
              "      <td>0.0</td>\n",
              "    </tr>\n",
              "    <tr>\n",
              "      <th>FamilySize</th>\n",
              "      <td>0</td>\n",
              "      <td>0.0</td>\n",
              "    </tr>\n",
              "    <tr>\n",
              "      <th>Fare</th>\n",
              "      <td>0</td>\n",
              "      <td>0.0</td>\n",
              "    </tr>\n",
              "  </tbody>\n",
              "</table>\n",
              "</div>"
            ],
            "text/plain": [
              "             Total  Percent\n",
              "Title_Other      0      0.0\n",
              "Title_Mrs        0      0.0\n",
              "Title_Mr         0      0.0\n",
              "Title_Miss       0      0.0\n",
              "Embarked_S       0      0.0\n",
              "Embarked_Q       0      0.0\n",
              "Age_Elder        0      0.0\n",
              "Age_Adult        0      0.0\n",
              "Sex_male         0      0.0\n",
              "Pclass_3         0      0.0\n",
              "Pclass_2         0      0.0\n",
              "Imputed          0      0.0\n",
              "FamilySize       0      0.0\n",
              "Fare             0      0.0"
            ]
          },
          "metadata": {
            "tags": []
          },
          "execution_count": 102
        }
      ]
    },
    {
      "metadata": {
        "id": "AOaLuOGjVBdj",
        "colab_type": "text"
      },
      "cell_type": "markdown",
      "source": [
        "First thoughts:\n",
        "\n",
        "- 'Cabin' has too many missing values (>25%). Dogma! We need to delete this variable right away.\n",
        "\n",
        "- 'Age' can be imputed. For now, I'll associate a value that allows me to know that I'm imputing data. Later, I'll revise this strategy.\n",
        "\n",
        "- Due to the low percentage of missing values, I'll delete the observations where we don't know 'Embarked'."
      ]
    },
    {
      "metadata": {
        "id": "P9BisInIGLQz",
        "colab_type": "code",
        "outputId": "cfe53038-6be7-4af3-edbf-fe3b28bffa2c",
        "colab": {
          "base_uri": "https://localhost:8080/",
          "height": 198
        }
      },
      "cell_type": "code",
      "source": [
        "# Drop cabin since missing values > 25%\n",
        "df.drop('Cabin', axis=1, inplace=True)\n",
        "df.head()\n"
      ],
      "execution_count": 0,
      "outputs": [
        {
          "output_type": "execute_result",
          "data": {
            "text/html": [
              "<div>\n",
              "<style scoped>\n",
              "    .dataframe tbody tr th:only-of-type {\n",
              "        vertical-align: middle;\n",
              "    }\n",
              "\n",
              "    .dataframe tbody tr th {\n",
              "        vertical-align: top;\n",
              "    }\n",
              "\n",
              "    .dataframe thead th {\n",
              "        text-align: right;\n",
              "    }\n",
              "</style>\n",
              "<table border=\"1\" class=\"dataframe\">\n",
              "  <thead>\n",
              "    <tr style=\"text-align: right;\">\n",
              "      <th></th>\n",
              "      <th>PassengerId</th>\n",
              "      <th>Survived</th>\n",
              "      <th>Pclass</th>\n",
              "      <th>Name</th>\n",
              "      <th>Sex</th>\n",
              "      <th>Age</th>\n",
              "      <th>SibSp</th>\n",
              "      <th>Parch</th>\n",
              "      <th>Ticket</th>\n",
              "      <th>Fare</th>\n",
              "      <th>Embarked</th>\n",
              "    </tr>\n",
              "  </thead>\n",
              "  <tbody>\n",
              "    <tr>\n",
              "      <th>0</th>\n",
              "      <td>1</td>\n",
              "      <td>0</td>\n",
              "      <td>3</td>\n",
              "      <td>Braund, Mr. Owen Harris</td>\n",
              "      <td>male</td>\n",
              "      <td>22.0</td>\n",
              "      <td>1</td>\n",
              "      <td>0</td>\n",
              "      <td>A/5 21171</td>\n",
              "      <td>7.2500</td>\n",
              "      <td>S</td>\n",
              "    </tr>\n",
              "    <tr>\n",
              "      <th>1</th>\n",
              "      <td>2</td>\n",
              "      <td>1</td>\n",
              "      <td>1</td>\n",
              "      <td>Cumings, Mrs. John Bradley (Florence Briggs Th...</td>\n",
              "      <td>female</td>\n",
              "      <td>38.0</td>\n",
              "      <td>1</td>\n",
              "      <td>0</td>\n",
              "      <td>PC 17599</td>\n",
              "      <td>71.2833</td>\n",
              "      <td>C</td>\n",
              "    </tr>\n",
              "    <tr>\n",
              "      <th>2</th>\n",
              "      <td>3</td>\n",
              "      <td>1</td>\n",
              "      <td>3</td>\n",
              "      <td>Heikkinen, Miss. Laina</td>\n",
              "      <td>female</td>\n",
              "      <td>26.0</td>\n",
              "      <td>0</td>\n",
              "      <td>0</td>\n",
              "      <td>STON/O2. 3101282</td>\n",
              "      <td>7.9250</td>\n",
              "      <td>S</td>\n",
              "    </tr>\n",
              "    <tr>\n",
              "      <th>3</th>\n",
              "      <td>4</td>\n",
              "      <td>1</td>\n",
              "      <td>1</td>\n",
              "      <td>Futrelle, Mrs. Jacques Heath (Lily May Peel)</td>\n",
              "      <td>female</td>\n",
              "      <td>35.0</td>\n",
              "      <td>1</td>\n",
              "      <td>0</td>\n",
              "      <td>113803</td>\n",
              "      <td>53.1000</td>\n",
              "      <td>S</td>\n",
              "    </tr>\n",
              "    <tr>\n",
              "      <th>4</th>\n",
              "      <td>5</td>\n",
              "      <td>0</td>\n",
              "      <td>3</td>\n",
              "      <td>Allen, Mr. William Henry</td>\n",
              "      <td>male</td>\n",
              "      <td>35.0</td>\n",
              "      <td>0</td>\n",
              "      <td>0</td>\n",
              "      <td>373450</td>\n",
              "      <td>8.0500</td>\n",
              "      <td>S</td>\n",
              "    </tr>\n",
              "  </tbody>\n",
              "</table>\n",
              "</div>"
            ],
            "text/plain": [
              "   PassengerId  Survived  Pclass  \\\n",
              "0            1         0       3   \n",
              "1            2         1       1   \n",
              "2            3         1       3   \n",
              "3            4         1       1   \n",
              "4            5         0       3   \n",
              "\n",
              "                                                Name     Sex   Age  SibSp  \\\n",
              "0                            Braund, Mr. Owen Harris    male  22.0      1   \n",
              "1  Cumings, Mrs. John Bradley (Florence Briggs Th...  female  38.0      1   \n",
              "2                             Heikkinen, Miss. Laina  female  26.0      0   \n",
              "3       Futrelle, Mrs. Jacques Heath (Lily May Peel)  female  35.0      1   \n",
              "4                           Allen, Mr. William Henry    male  35.0      0   \n",
              "\n",
              "   Parch            Ticket     Fare Embarked  \n",
              "0      0         A/5 21171   7.2500        S  \n",
              "1      0          PC 17599  71.2833        C  \n",
              "2      0  STON/O2. 3101282   7.9250        S  \n",
              "3      0            113803  53.1000        S  \n",
              "4      0            373450   8.0500        S  "
            ]
          },
          "metadata": {
            "tags": []
          },
          "execution_count": 126
        }
      ]
    },
    {
      "metadata": {
        "id": "jSUd2V4uGt-M",
        "colab_type": "code",
        "outputId": "6b554d0b-be2d-4a6a-98c7-3cc6258893c4",
        "colab": {
          "base_uri": "https://localhost:8080/",
          "height": 34
        }
      },
      "cell_type": "code",
      "source": [
        "# Fill missing value in Age with a specific value\n",
        "value = 1000\n",
        "df['Age'].fillna(1000, inplace=True)\n",
        "df.Age.max()"
      ],
      "execution_count": 0,
      "outputs": [
        {
          "output_type": "execute_result",
          "data": {
            "text/plain": [
              "1000.0"
            ]
          },
          "metadata": {
            "tags": []
          },
          "execution_count": 127
        }
      ]
    },
    {
      "metadata": {
        "id": "iffiuSdiHYpa",
        "colab_type": "code",
        "outputId": "da5cbe92-202a-444c-f15b-bc2c87ff8daa",
        "colab": {
          "base_uri": "https://localhost:8080/",
          "height": 48
        }
      },
      "cell_type": "code",
      "source": [
        "# Delete observations without Embarked\n",
        "df.drop(df[pd.isnull(df['Embarked'])].index, inplace=True) # Get index of points where Embarked is null\n",
        "df[pd.isnull(df['Embarked'])]"
      ],
      "execution_count": 0,
      "outputs": [
        {
          "output_type": "execute_result",
          "data": {
            "text/html": [
              "<div>\n",
              "<style scoped>\n",
              "    .dataframe tbody tr th:only-of-type {\n",
              "        vertical-align: middle;\n",
              "    }\n",
              "\n",
              "    .dataframe tbody tr th {\n",
              "        vertical-align: top;\n",
              "    }\n",
              "\n",
              "    .dataframe thead th {\n",
              "        text-align: right;\n",
              "    }\n",
              "</style>\n",
              "<table border=\"1\" class=\"dataframe\">\n",
              "  <thead>\n",
              "    <tr style=\"text-align: right;\">\n",
              "      <th></th>\n",
              "      <th>PassengerId</th>\n",
              "      <th>Survived</th>\n",
              "      <th>Pclass</th>\n",
              "      <th>Name</th>\n",
              "      <th>Sex</th>\n",
              "      <th>Age</th>\n",
              "      <th>SibSp</th>\n",
              "      <th>Parch</th>\n",
              "      <th>Ticket</th>\n",
              "      <th>Fare</th>\n",
              "      <th>Embarked</th>\n",
              "    </tr>\n",
              "  </thead>\n",
              "  <tbody>\n",
              "  </tbody>\n",
              "</table>\n",
              "</div>"
            ],
            "text/plain": [
              "Empty DataFrame\n",
              "Columns: [PassengerId, Survived, Pclass, Name, Sex, Age, SibSp, Parch, Ticket, Fare, Embarked]\n",
              "Index: []"
            ]
          },
          "metadata": {
            "tags": []
          },
          "execution_count": 128
        }
      ]
    },
    {
      "metadata": {
        "id": "WcfYsu4LVNdX",
        "colab_type": "text"
      },
      "cell_type": "markdown",
      "source": [
        "**1.4. Minimum viable model**\n",
        "\n",
        "The 'Minimum Viable Product' (MVP) is a key concept for any lean startup. Once the problem to solve is figured out, the focus of the startup should be in the development of a solution, the MVP, as fast as they can. Thanks to the MVP, it is possible to begin the learning process and improve the solution towards users needs.\n",
        "\n",
        "Goodfellow et al. (2016) proposes an analogous approach for the application of machine learning models. As the authors point out, the successful application of machine learning techniques goes beyond the knowledge of algorithms and their principles. To successfully apply machine learning techniques, we need to start with a simple model that we can master and understand. Only then we should move to more complex algorithms.\n",
        "\n",
        "The authors propose a practical four-steps methodology:\n",
        "\n",
        "1. Select a performance metric and a target value for this metric. This metric will guide your work and allow you to know how well you're performing. In our case, our performance metric will be 'accuracy' because it is the one defined by Kaggle.\n",
        "2. Quickly set up a working end-to-end pipeline. This should allow you to estimate the selected performance metric.\n",
        "3. Monitor the system to understand its behaviour, in particular to understand whether its poor performance is related to underfitting, overfitting or defects.\n",
        "4. Improve the system by iteration. Here we can apply feature engineering, tune hyperparameters or even change the algorithm, according to the outputs of our monitoring system.\n",
        "\n",
        "We will follow this methodology. Accordingly, our aim will be to get an initial model that we can use as a first baseline approach. This model will be our 'Minimum Viable Model' (MVM). Note that right now it doesn't matter much how well the model performs. We just need a starting point. All in all, we're entrepreneurs. Worst case scenario, we name this model as 'beta version' :P\n",
        "\n",
        "Ok, let's prepare the data for the MVM launching, fit a logistic regression to it, and analyse the performance of the model through learning and validation curves.\n",
        "\n",
        "*1.4.1. Preparing the data*"
      ]
    },
    {
      "metadata": {
        "id": "eFYVsfx9JQJB",
        "colab_type": "code",
        "outputId": "c8726525-21dc-4de9-9acf-8b2dd6a61867",
        "colab": {
          "base_uri": "https://localhost:8080/",
          "height": 207
        }
      },
      "cell_type": "code",
      "source": [
        "# Data types\n",
        "df.dtypes"
      ],
      "execution_count": 0,
      "outputs": [
        {
          "output_type": "execute_result",
          "data": {
            "text/plain": [
              "Survived      int64\n",
              "Pclass        int64\n",
              "Name         object\n",
              "Sex          object\n",
              "Age         float64\n",
              "SibSp         int64\n",
              "Parch         int64\n",
              "Ticket       object\n",
              "Fare        float64\n",
              "Embarked     object\n",
              "dtype: object"
            ]
          },
          "metadata": {
            "tags": []
          },
          "execution_count": 27
        }
      ]
    },
    {
      "metadata": {
        "id": "5mYSlbD0WPfI",
        "colab_type": "text"
      },
      "cell_type": "markdown",
      "source": [
        "- We don't need 'PassengerId' for prediction purposes, so we will exclude it.\n",
        "- 'Sex', 'Embarked', and 'Pclass' should be categorical. I'll not consider 'Survived' as categorical because it's the output variable.\n",
        "- We need to parse 'Name' and 'Ticket'. For now, I'll ignore these features.\n",
        "- 'SibSp' could be grouped with 'Parch' to create a 'Family' feature. For now, I'll just identify if the passenger is travelling alone or with family."
      ]
    },
    {
      "metadata": {
        "id": "vHSxDOruJTbg",
        "colab_type": "code",
        "outputId": "a648fdce-db37-4a53-aef2-4ccdd198d269",
        "colab": {
          "base_uri": "https://localhost:8080/",
          "height": 198
        }
      },
      "cell_type": "code",
      "source": [
        "# Drop passenger Id\n",
        "df.drop('PassengerId', axis=1, inplace=True)\n",
        "df.head()"
      ],
      "execution_count": 0,
      "outputs": [
        {
          "output_type": "execute_result",
          "data": {
            "text/html": [
              "<div>\n",
              "<style scoped>\n",
              "    .dataframe tbody tr th:only-of-type {\n",
              "        vertical-align: middle;\n",
              "    }\n",
              "\n",
              "    .dataframe tbody tr th {\n",
              "        vertical-align: top;\n",
              "    }\n",
              "\n",
              "    .dataframe thead th {\n",
              "        text-align: right;\n",
              "    }\n",
              "</style>\n",
              "<table border=\"1\" class=\"dataframe\">\n",
              "  <thead>\n",
              "    <tr style=\"text-align: right;\">\n",
              "      <th></th>\n",
              "      <th>Survived</th>\n",
              "      <th>Pclass</th>\n",
              "      <th>Name</th>\n",
              "      <th>Sex</th>\n",
              "      <th>Age</th>\n",
              "      <th>SibSp</th>\n",
              "      <th>Parch</th>\n",
              "      <th>Ticket</th>\n",
              "      <th>Fare</th>\n",
              "      <th>Embarked</th>\n",
              "    </tr>\n",
              "  </thead>\n",
              "  <tbody>\n",
              "    <tr>\n",
              "      <th>0</th>\n",
              "      <td>0</td>\n",
              "      <td>3</td>\n",
              "      <td>Braund, Mr. Owen Harris</td>\n",
              "      <td>male</td>\n",
              "      <td>22.0</td>\n",
              "      <td>1</td>\n",
              "      <td>0</td>\n",
              "      <td>A/5 21171</td>\n",
              "      <td>7.2500</td>\n",
              "      <td>S</td>\n",
              "    </tr>\n",
              "    <tr>\n",
              "      <th>1</th>\n",
              "      <td>1</td>\n",
              "      <td>1</td>\n",
              "      <td>Cumings, Mrs. John Bradley (Florence Briggs Th...</td>\n",
              "      <td>female</td>\n",
              "      <td>38.0</td>\n",
              "      <td>1</td>\n",
              "      <td>0</td>\n",
              "      <td>PC 17599</td>\n",
              "      <td>71.2833</td>\n",
              "      <td>C</td>\n",
              "    </tr>\n",
              "    <tr>\n",
              "      <th>2</th>\n",
              "      <td>1</td>\n",
              "      <td>3</td>\n",
              "      <td>Heikkinen, Miss. Laina</td>\n",
              "      <td>female</td>\n",
              "      <td>26.0</td>\n",
              "      <td>0</td>\n",
              "      <td>0</td>\n",
              "      <td>STON/O2. 3101282</td>\n",
              "      <td>7.9250</td>\n",
              "      <td>S</td>\n",
              "    </tr>\n",
              "    <tr>\n",
              "      <th>3</th>\n",
              "      <td>1</td>\n",
              "      <td>1</td>\n",
              "      <td>Futrelle, Mrs. Jacques Heath (Lily May Peel)</td>\n",
              "      <td>female</td>\n",
              "      <td>35.0</td>\n",
              "      <td>1</td>\n",
              "      <td>0</td>\n",
              "      <td>113803</td>\n",
              "      <td>53.1000</td>\n",
              "      <td>S</td>\n",
              "    </tr>\n",
              "    <tr>\n",
              "      <th>4</th>\n",
              "      <td>0</td>\n",
              "      <td>3</td>\n",
              "      <td>Allen, Mr. William Henry</td>\n",
              "      <td>male</td>\n",
              "      <td>35.0</td>\n",
              "      <td>0</td>\n",
              "      <td>0</td>\n",
              "      <td>373450</td>\n",
              "      <td>8.0500</td>\n",
              "      <td>S</td>\n",
              "    </tr>\n",
              "  </tbody>\n",
              "</table>\n",
              "</div>"
            ],
            "text/plain": [
              "   Survived  Pclass                                               Name  \\\n",
              "0         0       3                            Braund, Mr. Owen Harris   \n",
              "1         1       1  Cumings, Mrs. John Bradley (Florence Briggs Th...   \n",
              "2         1       3                             Heikkinen, Miss. Laina   \n",
              "3         1       1       Futrelle, Mrs. Jacques Heath (Lily May Peel)   \n",
              "4         0       3                           Allen, Mr. William Henry   \n",
              "\n",
              "      Sex   Age  SibSp  Parch            Ticket     Fare Embarked  \n",
              "0    male  22.0      1      0         A/5 21171   7.2500        S  \n",
              "1  female  38.0      1      0          PC 17599  71.2833        C  \n",
              "2  female  26.0      0      0  STON/O2. 3101282   7.9250        S  \n",
              "3  female  35.0      1      0            113803  53.1000        S  \n",
              "4    male  35.0      0      0            373450   8.0500        S  "
            ]
          },
          "metadata": {
            "tags": []
          },
          "execution_count": 129
        }
      ]
    },
    {
      "metadata": {
        "id": "Ko3sj3NHJuC6",
        "colab_type": "code",
        "outputId": "0baf837d-132e-4df2-9aca-bce8f1ac4a9b",
        "colab": {
          "base_uri": "https://localhost:8080/",
          "height": 198
        }
      },
      "cell_type": "code",
      "source": [
        "# Define categorical variables\n",
        "df.Sex = pd.Categorical(df.Sex)\n",
        "df.Embarked = pd.Categorical(df.Embarked)\n",
        "\n",
        "# Create family feature\n",
        "df['FamilySize'] = df['SibSp'] + df['Parch']\n",
        "\n",
        "df.head()"
      ],
      "execution_count": 0,
      "outputs": [
        {
          "output_type": "execute_result",
          "data": {
            "text/html": [
              "<div>\n",
              "<style scoped>\n",
              "    .dataframe tbody tr th:only-of-type {\n",
              "        vertical-align: middle;\n",
              "    }\n",
              "\n",
              "    .dataframe tbody tr th {\n",
              "        vertical-align: top;\n",
              "    }\n",
              "\n",
              "    .dataframe thead th {\n",
              "        text-align: right;\n",
              "    }\n",
              "</style>\n",
              "<table border=\"1\" class=\"dataframe\">\n",
              "  <thead>\n",
              "    <tr style=\"text-align: right;\">\n",
              "      <th></th>\n",
              "      <th>Survived</th>\n",
              "      <th>Pclass</th>\n",
              "      <th>Name</th>\n",
              "      <th>Sex</th>\n",
              "      <th>Age</th>\n",
              "      <th>SibSp</th>\n",
              "      <th>Parch</th>\n",
              "      <th>Ticket</th>\n",
              "      <th>Fare</th>\n",
              "      <th>Embarked</th>\n",
              "      <th>FamilySize</th>\n",
              "    </tr>\n",
              "  </thead>\n",
              "  <tbody>\n",
              "    <tr>\n",
              "      <th>0</th>\n",
              "      <td>0</td>\n",
              "      <td>3</td>\n",
              "      <td>Braund, Mr. Owen Harris</td>\n",
              "      <td>male</td>\n",
              "      <td>22.0</td>\n",
              "      <td>1</td>\n",
              "      <td>0</td>\n",
              "      <td>A/5 21171</td>\n",
              "      <td>7.2500</td>\n",
              "      <td>S</td>\n",
              "      <td>1</td>\n",
              "    </tr>\n",
              "    <tr>\n",
              "      <th>1</th>\n",
              "      <td>1</td>\n",
              "      <td>1</td>\n",
              "      <td>Cumings, Mrs. John Bradley (Florence Briggs Th...</td>\n",
              "      <td>female</td>\n",
              "      <td>38.0</td>\n",
              "      <td>1</td>\n",
              "      <td>0</td>\n",
              "      <td>PC 17599</td>\n",
              "      <td>71.2833</td>\n",
              "      <td>C</td>\n",
              "      <td>1</td>\n",
              "    </tr>\n",
              "    <tr>\n",
              "      <th>2</th>\n",
              "      <td>1</td>\n",
              "      <td>3</td>\n",
              "      <td>Heikkinen, Miss. Laina</td>\n",
              "      <td>female</td>\n",
              "      <td>26.0</td>\n",
              "      <td>0</td>\n",
              "      <td>0</td>\n",
              "      <td>STON/O2. 3101282</td>\n",
              "      <td>7.9250</td>\n",
              "      <td>S</td>\n",
              "      <td>0</td>\n",
              "    </tr>\n",
              "    <tr>\n",
              "      <th>3</th>\n",
              "      <td>1</td>\n",
              "      <td>1</td>\n",
              "      <td>Futrelle, Mrs. Jacques Heath (Lily May Peel)</td>\n",
              "      <td>female</td>\n",
              "      <td>35.0</td>\n",
              "      <td>1</td>\n",
              "      <td>0</td>\n",
              "      <td>113803</td>\n",
              "      <td>53.1000</td>\n",
              "      <td>S</td>\n",
              "      <td>1</td>\n",
              "    </tr>\n",
              "    <tr>\n",
              "      <th>4</th>\n",
              "      <td>0</td>\n",
              "      <td>3</td>\n",
              "      <td>Allen, Mr. William Henry</td>\n",
              "      <td>male</td>\n",
              "      <td>35.0</td>\n",
              "      <td>0</td>\n",
              "      <td>0</td>\n",
              "      <td>373450</td>\n",
              "      <td>8.0500</td>\n",
              "      <td>S</td>\n",
              "      <td>0</td>\n",
              "    </tr>\n",
              "  </tbody>\n",
              "</table>\n",
              "</div>"
            ],
            "text/plain": [
              "   Survived  Pclass                                               Name  \\\n",
              "0         0       3                            Braund, Mr. Owen Harris   \n",
              "1         1       1  Cumings, Mrs. John Bradley (Florence Briggs Th...   \n",
              "2         1       3                             Heikkinen, Miss. Laina   \n",
              "3         1       1       Futrelle, Mrs. Jacques Heath (Lily May Peel)   \n",
              "4         0       3                           Allen, Mr. William Henry   \n",
              "\n",
              "      Sex   Age  SibSp  Parch            Ticket     Fare Embarked  FamilySize  \n",
              "0    male  22.0      1      0         A/5 21171   7.2500        S           1  \n",
              "1  female  38.0      1      0          PC 17599  71.2833        C           1  \n",
              "2  female  26.0      0      0  STON/O2. 3101282   7.9250        S           0  \n",
              "3  female  35.0      1      0            113803  53.1000        S           1  \n",
              "4    male  35.0      0      0            373450   8.0500        S           0  "
            ]
          },
          "metadata": {
            "tags": []
          },
          "execution_count": 130
        }
      ]
    },
    {
      "metadata": {
        "id": "4GUVb7EiKW2W",
        "colab_type": "code",
        "outputId": "d782e8a9-8a1a-4451-e490-484c801bee01",
        "colab": {
          "base_uri": "https://localhost:8080/",
          "height": 198
        }
      },
      "cell_type": "code",
      "source": [
        "# Drop SibSp and Parch\n",
        "df.drop(['SibSp', 'Parch'], axis=1, inplace=True)\n",
        "df.head()"
      ],
      "execution_count": 0,
      "outputs": [
        {
          "output_type": "execute_result",
          "data": {
            "text/html": [
              "<div>\n",
              "<style scoped>\n",
              "    .dataframe tbody tr th:only-of-type {\n",
              "        vertical-align: middle;\n",
              "    }\n",
              "\n",
              "    .dataframe tbody tr th {\n",
              "        vertical-align: top;\n",
              "    }\n",
              "\n",
              "    .dataframe thead th {\n",
              "        text-align: right;\n",
              "    }\n",
              "</style>\n",
              "<table border=\"1\" class=\"dataframe\">\n",
              "  <thead>\n",
              "    <tr style=\"text-align: right;\">\n",
              "      <th></th>\n",
              "      <th>Survived</th>\n",
              "      <th>Pclass</th>\n",
              "      <th>Name</th>\n",
              "      <th>Sex</th>\n",
              "      <th>Age</th>\n",
              "      <th>Ticket</th>\n",
              "      <th>Fare</th>\n",
              "      <th>Embarked</th>\n",
              "      <th>FamilySize</th>\n",
              "    </tr>\n",
              "  </thead>\n",
              "  <tbody>\n",
              "    <tr>\n",
              "      <th>0</th>\n",
              "      <td>0</td>\n",
              "      <td>3</td>\n",
              "      <td>Braund, Mr. Owen Harris</td>\n",
              "      <td>male</td>\n",
              "      <td>22.0</td>\n",
              "      <td>A/5 21171</td>\n",
              "      <td>7.2500</td>\n",
              "      <td>S</td>\n",
              "      <td>1</td>\n",
              "    </tr>\n",
              "    <tr>\n",
              "      <th>1</th>\n",
              "      <td>1</td>\n",
              "      <td>1</td>\n",
              "      <td>Cumings, Mrs. John Bradley (Florence Briggs Th...</td>\n",
              "      <td>female</td>\n",
              "      <td>38.0</td>\n",
              "      <td>PC 17599</td>\n",
              "      <td>71.2833</td>\n",
              "      <td>C</td>\n",
              "      <td>1</td>\n",
              "    </tr>\n",
              "    <tr>\n",
              "      <th>2</th>\n",
              "      <td>1</td>\n",
              "      <td>3</td>\n",
              "      <td>Heikkinen, Miss. Laina</td>\n",
              "      <td>female</td>\n",
              "      <td>26.0</td>\n",
              "      <td>STON/O2. 3101282</td>\n",
              "      <td>7.9250</td>\n",
              "      <td>S</td>\n",
              "      <td>0</td>\n",
              "    </tr>\n",
              "    <tr>\n",
              "      <th>3</th>\n",
              "      <td>1</td>\n",
              "      <td>1</td>\n",
              "      <td>Futrelle, Mrs. Jacques Heath (Lily May Peel)</td>\n",
              "      <td>female</td>\n",
              "      <td>35.0</td>\n",
              "      <td>113803</td>\n",
              "      <td>53.1000</td>\n",
              "      <td>S</td>\n",
              "      <td>1</td>\n",
              "    </tr>\n",
              "    <tr>\n",
              "      <th>4</th>\n",
              "      <td>0</td>\n",
              "      <td>3</td>\n",
              "      <td>Allen, Mr. William Henry</td>\n",
              "      <td>male</td>\n",
              "      <td>35.0</td>\n",
              "      <td>373450</td>\n",
              "      <td>8.0500</td>\n",
              "      <td>S</td>\n",
              "      <td>0</td>\n",
              "    </tr>\n",
              "  </tbody>\n",
              "</table>\n",
              "</div>"
            ],
            "text/plain": [
              "   Survived  Pclass                                               Name  \\\n",
              "0         0       3                            Braund, Mr. Owen Harris   \n",
              "1         1       1  Cumings, Mrs. John Bradley (Florence Briggs Th...   \n",
              "2         1       3                             Heikkinen, Miss. Laina   \n",
              "3         1       1       Futrelle, Mrs. Jacques Heath (Lily May Peel)   \n",
              "4         0       3                           Allen, Mr. William Henry   \n",
              "\n",
              "      Sex   Age            Ticket     Fare Embarked  FamilySize  \n",
              "0    male  22.0         A/5 21171   7.2500        S           1  \n",
              "1  female  38.0          PC 17599  71.2833        C           1  \n",
              "2  female  26.0  STON/O2. 3101282   7.9250        S           0  \n",
              "3  female  35.0            113803  53.1000        S           1  \n",
              "4    male  35.0            373450   8.0500        S           0  "
            ]
          },
          "metadata": {
            "tags": []
          },
          "execution_count": 131
        }
      ]
    },
    {
      "metadata": {
        "id": "fPb68bwBMGR5",
        "colab_type": "code",
        "outputId": "5588db42-d22a-431b-b098-382b08dd6a24",
        "colab": {
          "base_uri": "https://localhost:8080/",
          "height": 198
        }
      },
      "cell_type": "code",
      "source": [
        "# Drop Name and Ticket\n",
        "df.drop(['Name', 'Ticket'], axis=1, inplace=True)\n",
        "df.head()"
      ],
      "execution_count": 0,
      "outputs": [
        {
          "output_type": "execute_result",
          "data": {
            "text/html": [
              "<div>\n",
              "<style scoped>\n",
              "    .dataframe tbody tr th:only-of-type {\n",
              "        vertical-align: middle;\n",
              "    }\n",
              "\n",
              "    .dataframe tbody tr th {\n",
              "        vertical-align: top;\n",
              "    }\n",
              "\n",
              "    .dataframe thead th {\n",
              "        text-align: right;\n",
              "    }\n",
              "</style>\n",
              "<table border=\"1\" class=\"dataframe\">\n",
              "  <thead>\n",
              "    <tr style=\"text-align: right;\">\n",
              "      <th></th>\n",
              "      <th>Survived</th>\n",
              "      <th>Pclass</th>\n",
              "      <th>Sex</th>\n",
              "      <th>Age</th>\n",
              "      <th>Fare</th>\n",
              "      <th>Embarked</th>\n",
              "      <th>FamilySize</th>\n",
              "    </tr>\n",
              "  </thead>\n",
              "  <tbody>\n",
              "    <tr>\n",
              "      <th>0</th>\n",
              "      <td>0</td>\n",
              "      <td>3</td>\n",
              "      <td>male</td>\n",
              "      <td>22.0</td>\n",
              "      <td>7.2500</td>\n",
              "      <td>S</td>\n",
              "      <td>1</td>\n",
              "    </tr>\n",
              "    <tr>\n",
              "      <th>1</th>\n",
              "      <td>1</td>\n",
              "      <td>1</td>\n",
              "      <td>female</td>\n",
              "      <td>38.0</td>\n",
              "      <td>71.2833</td>\n",
              "      <td>C</td>\n",
              "      <td>1</td>\n",
              "    </tr>\n",
              "    <tr>\n",
              "      <th>2</th>\n",
              "      <td>1</td>\n",
              "      <td>3</td>\n",
              "      <td>female</td>\n",
              "      <td>26.0</td>\n",
              "      <td>7.9250</td>\n",
              "      <td>S</td>\n",
              "      <td>0</td>\n",
              "    </tr>\n",
              "    <tr>\n",
              "      <th>3</th>\n",
              "      <td>1</td>\n",
              "      <td>1</td>\n",
              "      <td>female</td>\n",
              "      <td>35.0</td>\n",
              "      <td>53.1000</td>\n",
              "      <td>S</td>\n",
              "      <td>1</td>\n",
              "    </tr>\n",
              "    <tr>\n",
              "      <th>4</th>\n",
              "      <td>0</td>\n",
              "      <td>3</td>\n",
              "      <td>male</td>\n",
              "      <td>35.0</td>\n",
              "      <td>8.0500</td>\n",
              "      <td>S</td>\n",
              "      <td>0</td>\n",
              "    </tr>\n",
              "  </tbody>\n",
              "</table>\n",
              "</div>"
            ],
            "text/plain": [
              "   Survived  Pclass     Sex   Age     Fare Embarked  FamilySize\n",
              "0         0       3    male  22.0   7.2500        S           1\n",
              "1         1       1  female  38.0  71.2833        C           1\n",
              "2         1       3  female  26.0   7.9250        S           0\n",
              "3         1       1  female  35.0  53.1000        S           1\n",
              "4         0       3    male  35.0   8.0500        S           0"
            ]
          },
          "metadata": {
            "tags": []
          },
          "execution_count": 132
        }
      ]
    },
    {
      "metadata": {
        "id": "QIQTtF6vXECU",
        "colab_type": "text"
      },
      "cell_type": "markdown",
      "source": [
        "*1.4.2. Launching the model*"
      ]
    },
    {
      "metadata": {
        "id": "m_5qoyzZMemW",
        "colab_type": "code",
        "outputId": "be591e2e-8d16-43f9-e5b4-6a81876dcbe4",
        "colab": {
          "base_uri": "https://localhost:8080/",
          "height": 198
        }
      },
      "cell_type": "code",
      "source": [
        "# Transform categorical variables into dummy variables\n",
        "df = pd.get_dummies(df, drop_first=True) # To avoid dummy trap\n",
        "df.head()"
      ],
      "execution_count": 0,
      "outputs": [
        {
          "output_type": "execute_result",
          "data": {
            "text/html": [
              "<div>\n",
              "<style scoped>\n",
              "    .dataframe tbody tr th:only-of-type {\n",
              "        vertical-align: middle;\n",
              "    }\n",
              "\n",
              "    .dataframe tbody tr th {\n",
              "        vertical-align: top;\n",
              "    }\n",
              "\n",
              "    .dataframe thead th {\n",
              "        text-align: right;\n",
              "    }\n",
              "</style>\n",
              "<table border=\"1\" class=\"dataframe\">\n",
              "  <thead>\n",
              "    <tr style=\"text-align: right;\">\n",
              "      <th></th>\n",
              "      <th>Survived</th>\n",
              "      <th>Pclass</th>\n",
              "      <th>Age</th>\n",
              "      <th>Fare</th>\n",
              "      <th>FamilySize</th>\n",
              "      <th>Sex_male</th>\n",
              "      <th>Embarked_Q</th>\n",
              "      <th>Embarked_S</th>\n",
              "    </tr>\n",
              "  </thead>\n",
              "  <tbody>\n",
              "    <tr>\n",
              "      <th>0</th>\n",
              "      <td>0</td>\n",
              "      <td>3</td>\n",
              "      <td>22.0</td>\n",
              "      <td>7.2500</td>\n",
              "      <td>1</td>\n",
              "      <td>1</td>\n",
              "      <td>0</td>\n",
              "      <td>1</td>\n",
              "    </tr>\n",
              "    <tr>\n",
              "      <th>1</th>\n",
              "      <td>1</td>\n",
              "      <td>1</td>\n",
              "      <td>38.0</td>\n",
              "      <td>71.2833</td>\n",
              "      <td>1</td>\n",
              "      <td>0</td>\n",
              "      <td>0</td>\n",
              "      <td>0</td>\n",
              "    </tr>\n",
              "    <tr>\n",
              "      <th>2</th>\n",
              "      <td>1</td>\n",
              "      <td>3</td>\n",
              "      <td>26.0</td>\n",
              "      <td>7.9250</td>\n",
              "      <td>0</td>\n",
              "      <td>0</td>\n",
              "      <td>0</td>\n",
              "      <td>1</td>\n",
              "    </tr>\n",
              "    <tr>\n",
              "      <th>3</th>\n",
              "      <td>1</td>\n",
              "      <td>1</td>\n",
              "      <td>35.0</td>\n",
              "      <td>53.1000</td>\n",
              "      <td>1</td>\n",
              "      <td>0</td>\n",
              "      <td>0</td>\n",
              "      <td>1</td>\n",
              "    </tr>\n",
              "    <tr>\n",
              "      <th>4</th>\n",
              "      <td>0</td>\n",
              "      <td>3</td>\n",
              "      <td>35.0</td>\n",
              "      <td>8.0500</td>\n",
              "      <td>0</td>\n",
              "      <td>1</td>\n",
              "      <td>0</td>\n",
              "      <td>1</td>\n",
              "    </tr>\n",
              "  </tbody>\n",
              "</table>\n",
              "</div>"
            ],
            "text/plain": [
              "   Survived  Pclass   Age     Fare  FamilySize  Sex_male  Embarked_Q  \\\n",
              "0         0       3  22.0   7.2500           1         1           0   \n",
              "1         1       1  38.0  71.2833           1         0           0   \n",
              "2         1       3  26.0   7.9250           0         0           0   \n",
              "3         1       1  35.0  53.1000           1         0           0   \n",
              "4         0       3  35.0   8.0500           0         1           0   \n",
              "\n",
              "   Embarked_S  \n",
              "0           1  \n",
              "1           0  \n",
              "2           1  \n",
              "3           1  \n",
              "4           1  "
            ]
          },
          "metadata": {
            "tags": []
          },
          "execution_count": 133
        }
      ]
    },
    {
      "metadata": {
        "id": "E6K3d85RM4dJ",
        "colab_type": "code",
        "colab": {}
      },
      "cell_type": "code",
      "source": [
        "# Create dataset to train data imputation methods\n",
        "X = df[df.loc[:, df.columns != 'Survived'].columns]\n",
        "y = df.Survived\n",
        "X_train, X_test, y_train, y_test = train_test_split(X, y, test_size=0.2,random_state=1)"
      ],
      "execution_count": 0,
      "outputs": []
    },
    {
      "metadata": {
        "id": "59UKJaNWPXmd",
        "colab_type": "code",
        "outputId": "e0e0e723-7607-4abb-aea5-04031009c9ca",
        "colab": {
          "base_uri": "https://localhost:8080/",
          "height": 259
        }
      },
      "cell_type": "code",
      "source": [
        "# Debug\n",
        "print('Inputs: \\n', X_train.head())\n",
        "print('Outputs: \\n', y_train.head())"
      ],
      "execution_count": 0,
      "outputs": [
        {
          "output_type": "stream",
          "text": [
            "Inputs: \n",
            "      Pclass     Age      Fare  FamilySize  Sex_male  Embarked_Q  Embarked_S\n",
            "121       3  1000.0    8.0500           0         1           0           1\n",
            "687       3    19.0   10.1708           0         1           0           1\n",
            "790       3  1000.0    7.7500           0         1           1           0\n",
            "837       3  1000.0    8.0500           0         1           0           1\n",
            "659       1    58.0  113.2750           2         1           0           0\n",
            "Outputs: \n",
            " 121    0\n",
            "687    0\n",
            "790    0\n",
            "837    0\n",
            "659    0\n",
            "Name: Survived, dtype: int64\n"
          ],
          "name": "stdout"
        }
      ]
    },
    {
      "metadata": {
        "id": "8Rlt1nO4Pkmi",
        "colab_type": "code",
        "outputId": "b75253cf-1f04-4b0d-93ee-f0dad2215e25",
        "colab": {
          "base_uri": "https://localhost:8080/",
          "height": 86
        }
      },
      "cell_type": "code",
      "source": [
        "# Fit logistic regression\n",
        "logreg = LogisticRegression()\n",
        "logreg.fit(X_train, y_train)"
      ],
      "execution_count": 0,
      "outputs": [
        {
          "output_type": "execute_result",
          "data": {
            "text/plain": [
              "LogisticRegression(C=1.0, class_weight=None, dual=False, fit_intercept=True,\n",
              "          intercept_scaling=1, max_iter=100, multi_class='ovr', n_jobs=1,\n",
              "          penalty='l2', random_state=None, solver='liblinear', tol=0.0001,\n",
              "          verbose=0, warm_start=False)"
            ]
          },
          "metadata": {
            "tags": []
          },
          "execution_count": 136
        }
      ]
    },
    {
      "metadata": {
        "id": "SObPZphzP2zX",
        "colab_type": "code",
        "outputId": "ba18d7e8-fb77-49f8-c81d-0a19332f9c32",
        "colab": {
          "base_uri": "https://localhost:8080/",
          "height": 34
        }
      },
      "cell_type": "code",
      "source": [
        "# Model performance\n",
        "scores = cross_val_score(logreg, X_train, y_train, cv=10)\n",
        "print('CV accuracy: %.3f +/- %.3f' % (np.mean(scores), np.std(scores)))"
      ],
      "execution_count": 0,
      "outputs": [
        {
          "output_type": "stream",
          "text": [
            "CV accuracy: 0.786 +/- 0.026\n"
          ],
          "name": "stdout"
        }
      ]
    },
    {
      "metadata": {
        "id": "WKG0i5I3aRm5",
        "colab_type": "text"
      },
      "cell_type": "markdown",
      "source": [
        "*1.4.3. Assessing model performance*"
      ]
    },
    {
      "metadata": {
        "id": "W4QZtVylQQdq",
        "colab_type": "code",
        "outputId": "ab58c7f4-65a3-4eb5-95cc-db62e1da6e96",
        "colab": {
          "base_uri": "https://localhost:8080/",
          "height": 312
        }
      },
      "cell_type": "code",
      "source": [
        "# Plot learning curves\n",
        "title = 'Learning Curves (Logistic Regression)'\n",
        "cv = 10\n",
        "plot_learning_curve(logreg, title, X_train, y_train, ylim=(0.7, 1.01), cv=cv, n_jobs=1)"
      ],
      "execution_count": 0,
      "outputs": [
        {
          "output_type": "execute_result",
          "data": {
            "text/plain": [
              "<module 'matplotlib.pyplot' from '/usr/local/lib/python3.6/dist-packages/matplotlib/pyplot.py'>"
            ]
          },
          "metadata": {
            "tags": []
          },
          "execution_count": 145
        },
        {
          "output_type": "display_data",
          "data": {
            "image/png": "[encoded data removed]",
            "text/plain": [
              "<matplotlib.figure.Figure at 0x7f3a4a2d50f0>"
            ]
          },
          "metadata": {
            "tags": []
          }
        }
      ]
    },
    {
      "metadata": {
        "id": "rSgsJOk7cflZ",
        "colab_type": "text"
      },
      "cell_type": "markdown",
      "source": [
        "Learning curves in a nutshell:\n",
        "\n",
        "- Learning curves allow us to diagnose if the is **overfitting** or **underfitting**.\n",
        "- When the model **overfits**, it means that it performs well on the training set, but not not on the validation set. Accordingly, the model is not able to generalize to unseen data. If the model is overfitting, the learning curve will present a gap between the training and validation scores. Two common solutions for overfitting are reducing the complexity of the model and/or collect more data.\n",
        "- On the other hand, **underfitting** means that the model is not able to perform well in either training or validations sets. In those cases, the learning curves will converge to a low score value. When the model underfits, gathering more data is not helpful because the model is already not being able to learn the training data. Therefore, the best approaches for these cases are to improve the model (e.g., tuning the hyperparameters) or to improve the quality of the data (e.g., collecting a different set of features).\n",
        "\n",
        "Discussion of our results:\n",
        "\n",
        "- The model doesn't overfit. As we can see, the curves converge and no gap between the training and the validation score exists in the last points of the curve.\n",
        "- The model underfits. Our final score is about 0.786. Although our model does better predictions than a flip-a-coin strategy, it is still far from being an 'intelligent' model. For now, it's just an 'artificial' model."
      ]
    },
    {
      "metadata": {
        "id": "iy_W3XuESPai",
        "colab_type": "code",
        "outputId": "28ff2caa-b82d-4617-e18d-ddfb49a1dadf",
        "colab": {
          "base_uri": "https://localhost:8080/",
          "height": 283
        }
      },
      "cell_type": "code",
      "source": [
        "# Plot validation curve\n",
        "title = 'Validation Curve (Logistic Regression)'\n",
        "param_name = 'C'\n",
        "param_range = [0.001, 0.01, 0.1, 1.0, 10.0, 100.0]\n",
        "cv = 10\n",
        "plot_validation_curve(estimator=logreg, title=title, X=X_train, y=y_train, param_name=param_name, ylim=(0.5, 1.01), param_range=param_range)"
      ],
      "execution_count": 0,
      "outputs": [
        {
          "output_type": "display_data",
          "data": {
            "image/png": "[encoded data removed]",
            "text/plain": [
              "<matplotlib.figure.Figure at 0x7f3a4abfe208>"
            ]
          },
          "metadata": {
            "tags": []
          }
        }
      ]
    },
    {
      "metadata": {
        "id": "DngD0yPjgFXQ",
        "colab_type": "text"
      },
      "cell_type": "markdown",
      "source": [
        "Validation curves in a nutshell:\n",
        "\n",
        "- Validation curves are a tool that we can use to improve the performance of our model. It counts as a way of tuning our hyperparameters.\n",
        "- They are different from the learning curves. Here, the goal is to see how the model parameter impacts the training and validation scores. This allow us to choose a different value for the parameter, to improve the model.\n",
        "- Once again, if there is a gap between the training and the validation score, the model is probably overfitting. In contrast, if there is no gap but the score value is low, we can say that the model underfits.\n",
        "\n",
        "Discussion of our results:\n",
        "\n",
        "- The figure shows that there is no huge difference in model's performance as far as we choose a C value of  10−1  or higher. Note that in a logistic regression, C is the only model parameter that we can change (see scikit-learn documentation)."
      ]
    },
    {
      "metadata": {
        "id": "vEWY_mfqhTHF",
        "colab_type": "text"
      },
      "cell_type": "markdown",
      "source": [
        "**2. The chubby data set**\n",
        "\n",
        "At this point, our model:\n",
        "\n",
        "- Can achieve a 0.786 +/- 0.026 accuracy.\n",
        "- Is based on a logistic regression.\n",
        "- Uses 'Pclass', 'Age', 'Fare', 'FamilySize', 'Sex', and 'Embarked as inputs; and 'Survived' as output.\n",
        "\n",
        "Moreover, concerning the practical methodology that we mentioned before, we can say that:\n",
        "\n",
        "- The choice of the performance metric is a closed topic because we're following Kaggle's specifications.\n",
        "- Our current model can work as a baseline model and resulted from a working end-to-end pipeline.\n",
        "- The learning and validation curves allow us to monitor system's performance.\n",
        "\n",
        "As a consequence, only the fourth and last step of the practical methodology is missing: to improve the model by iteration. This can be done by:\n",
        "\n",
        "- Improving the way how we handled 'Age' missing data. In our lean approach we decided to replace missing data by a unique value, but now we can go deeper and search for a better imputation strategy.\n",
        "- Exploring data to understand which features can have impact in the model and how they can be manipulated to boost that impact.\n",
        "- Building new features that can increase the predictive power of our model.\n",
        "\n",
        "This will lead us to a heavy data analysis process, which aims to improve model's performance just by the data quality side. In other words, we will not change our learning algorithm neither we will try to improve its parameters. We will only try to improve the performance of our model by enriching our data.\n",
        "\n",
        "That said, let's say goodbye to the lean approach and welcome the chubby approach!"
      ]
    },
    {
      "metadata": {
        "id": "q439lkoM_OJc",
        "colab_type": "code",
        "colab": {}
      },
      "cell_type": "code",
      "source": [
        "# Restart dataset\n",
        "df = df_raw.copy()"
      ],
      "execution_count": 0,
      "outputs": []
    },
    {
      "metadata": {
        "id": "-j38FL1SgYrD",
        "colab_type": "code",
        "outputId": "2068f1df-edb4-4921-c95c-f68b8d882e89",
        "colab": {
          "base_uri": "https://localhost:8080/",
          "height": 233
        }
      },
      "cell_type": "code",
      "source": [
        "# Family size feature\n",
        "df['FamilySize'] = df['SibSp'] + df['Parch']\n",
        "\n",
        "# Drop SibSp and Parch\n",
        "df.drop(['SibSp', 'Parch'], axis=1, inplace=True)\n",
        "df.head()"
      ],
      "execution_count": 0,
      "outputs": [
        {
          "output_type": "execute_result",
          "data": {
            "text/html": [
              "<div>\n",
              "<style scoped>\n",
              "    .dataframe tbody tr th:only-of-type {\n",
              "        vertical-align: middle;\n",
              "    }\n",
              "\n",
              "    .dataframe tbody tr th {\n",
              "        vertical-align: top;\n",
              "    }\n",
              "\n",
              "    .dataframe thead th {\n",
              "        text-align: right;\n",
              "    }\n",
              "</style>\n",
              "<table border=\"1\" class=\"dataframe\">\n",
              "  <thead>\n",
              "    <tr style=\"text-align: right;\">\n",
              "      <th></th>\n",
              "      <th>PassengerId</th>\n",
              "      <th>Survived</th>\n",
              "      <th>Pclass</th>\n",
              "      <th>Name</th>\n",
              "      <th>Sex</th>\n",
              "      <th>Age</th>\n",
              "      <th>Ticket</th>\n",
              "      <th>Fare</th>\n",
              "      <th>Cabin</th>\n",
              "      <th>Embarked</th>\n",
              "      <th>FamilySize</th>\n",
              "    </tr>\n",
              "  </thead>\n",
              "  <tbody>\n",
              "    <tr>\n",
              "      <th>0</th>\n",
              "      <td>1</td>\n",
              "      <td>0</td>\n",
              "      <td>3</td>\n",
              "      <td>Braund, Mr. Owen Harris</td>\n",
              "      <td>male</td>\n",
              "      <td>22.0</td>\n",
              "      <td>A/5 21171</td>\n",
              "      <td>7.2500</td>\n",
              "      <td>NaN</td>\n",
              "      <td>S</td>\n",
              "      <td>1</td>\n",
              "    </tr>\n",
              "    <tr>\n",
              "      <th>1</th>\n",
              "      <td>2</td>\n",
              "      <td>1</td>\n",
              "      <td>1</td>\n",
              "      <td>Cumings, Mrs. John Bradley (Florence Briggs Th...</td>\n",
              "      <td>female</td>\n",
              "      <td>38.0</td>\n",
              "      <td>PC 17599</td>\n",
              "      <td>71.2833</td>\n",
              "      <td>C85</td>\n",
              "      <td>C</td>\n",
              "      <td>1</td>\n",
              "    </tr>\n",
              "    <tr>\n",
              "      <th>2</th>\n",
              "      <td>3</td>\n",
              "      <td>1</td>\n",
              "      <td>3</td>\n",
              "      <td>Heikkinen, Miss. Laina</td>\n",
              "      <td>female</td>\n",
              "      <td>26.0</td>\n",
              "      <td>STON/O2. 3101282</td>\n",
              "      <td>7.9250</td>\n",
              "      <td>NaN</td>\n",
              "      <td>S</td>\n",
              "      <td>0</td>\n",
              "    </tr>\n",
              "    <tr>\n",
              "      <th>3</th>\n",
              "      <td>4</td>\n",
              "      <td>1</td>\n",
              "      <td>1</td>\n",
              "      <td>Futrelle, Mrs. Jacques Heath (Lily May Peel)</td>\n",
              "      <td>female</td>\n",
              "      <td>35.0</td>\n",
              "      <td>113803</td>\n",
              "      <td>53.1000</td>\n",
              "      <td>C123</td>\n",
              "      <td>S</td>\n",
              "      <td>1</td>\n",
              "    </tr>\n",
              "    <tr>\n",
              "      <th>4</th>\n",
              "      <td>5</td>\n",
              "      <td>0</td>\n",
              "      <td>3</td>\n",
              "      <td>Allen, Mr. William Henry</td>\n",
              "      <td>male</td>\n",
              "      <td>35.0</td>\n",
              "      <td>373450</td>\n",
              "      <td>8.0500</td>\n",
              "      <td>NaN</td>\n",
              "      <td>S</td>\n",
              "      <td>0</td>\n",
              "    </tr>\n",
              "  </tbody>\n",
              "</table>\n",
              "</div>"
            ],
            "text/plain": [
              "   PassengerId  Survived  Pclass  \\\n",
              "0            1         0       3   \n",
              "1            2         1       1   \n",
              "2            3         1       3   \n",
              "3            4         1       1   \n",
              "4            5         0       3   \n",
              "\n",
              "                                                Name     Sex   Age  \\\n",
              "0                            Braund, Mr. Owen Harris    male  22.0   \n",
              "1  Cumings, Mrs. John Bradley (Florence Briggs Th...  female  38.0   \n",
              "2                             Heikkinen, Miss. Laina  female  26.0   \n",
              "3       Futrelle, Mrs. Jacques Heath (Lily May Peel)  female  35.0   \n",
              "4                           Allen, Mr. William Henry    male  35.0   \n",
              "\n",
              "             Ticket     Fare Cabin Embarked  FamilySize  \n",
              "0         A/5 21171   7.2500   NaN        S           1  \n",
              "1          PC 17599  71.2833   C85        C           1  \n",
              "2  STON/O2. 3101282   7.9250   NaN        S           0  \n",
              "3            113803  53.1000  C123        S           1  \n",
              "4            373450   8.0500   NaN        S           0  "
            ]
          },
          "metadata": {
            "tags": []
          },
          "execution_count": 151
        }
      ]
    },
    {
      "metadata": {
        "id": "aK3OotFPgynr",
        "colab_type": "code",
        "outputId": "db3200cf-e061-44e9-c456-5477c12c19c6",
        "colab": {
          "base_uri": "https://localhost:8080/",
          "height": 198
        }
      },
      "cell_type": "code",
      "source": [
        "# Drop inrelevant features\n",
        "df.drop(['Name', 'Ticket', 'Cabin'], axis=1, inplace=True)\n",
        "df.head()"
      ],
      "execution_count": 0,
      "outputs": [
        {
          "output_type": "execute_result",
          "data": {
            "text/html": [
              "<div>\n",
              "<style scoped>\n",
              "    .dataframe tbody tr th:only-of-type {\n",
              "        vertical-align: middle;\n",
              "    }\n",
              "\n",
              "    .dataframe tbody tr th {\n",
              "        vertical-align: top;\n",
              "    }\n",
              "\n",
              "    .dataframe thead th {\n",
              "        text-align: right;\n",
              "    }\n",
              "</style>\n",
              "<table border=\"1\" class=\"dataframe\">\n",
              "  <thead>\n",
              "    <tr style=\"text-align: right;\">\n",
              "      <th></th>\n",
              "      <th>PassengerId</th>\n",
              "      <th>Survived</th>\n",
              "      <th>Pclass</th>\n",
              "      <th>Sex</th>\n",
              "      <th>Age</th>\n",
              "      <th>Fare</th>\n",
              "      <th>Embarked</th>\n",
              "      <th>FamilySize</th>\n",
              "    </tr>\n",
              "  </thead>\n",
              "  <tbody>\n",
              "    <tr>\n",
              "      <th>0</th>\n",
              "      <td>1</td>\n",
              "      <td>0</td>\n",
              "      <td>3</td>\n",
              "      <td>male</td>\n",
              "      <td>22.0</td>\n",
              "      <td>7.2500</td>\n",
              "      <td>S</td>\n",
              "      <td>1</td>\n",
              "    </tr>\n",
              "    <tr>\n",
              "      <th>1</th>\n",
              "      <td>2</td>\n",
              "      <td>1</td>\n",
              "      <td>1</td>\n",
              "      <td>female</td>\n",
              "      <td>38.0</td>\n",
              "      <td>71.2833</td>\n",
              "      <td>C</td>\n",
              "      <td>1</td>\n",
              "    </tr>\n",
              "    <tr>\n",
              "      <th>2</th>\n",
              "      <td>3</td>\n",
              "      <td>1</td>\n",
              "      <td>3</td>\n",
              "      <td>female</td>\n",
              "      <td>26.0</td>\n",
              "      <td>7.9250</td>\n",
              "      <td>S</td>\n",
              "      <td>0</td>\n",
              "    </tr>\n",
              "    <tr>\n",
              "      <th>3</th>\n",
              "      <td>4</td>\n",
              "      <td>1</td>\n",
              "      <td>1</td>\n",
              "      <td>female</td>\n",
              "      <td>35.0</td>\n",
              "      <td>53.1000</td>\n",
              "      <td>S</td>\n",
              "      <td>1</td>\n",
              "    </tr>\n",
              "    <tr>\n",
              "      <th>4</th>\n",
              "      <td>5</td>\n",
              "      <td>0</td>\n",
              "      <td>3</td>\n",
              "      <td>male</td>\n",
              "      <td>35.0</td>\n",
              "      <td>8.0500</td>\n",
              "      <td>S</td>\n",
              "      <td>0</td>\n",
              "    </tr>\n",
              "  </tbody>\n",
              "</table>\n",
              "</div>"
            ],
            "text/plain": [
              "   PassengerId  Survived  Pclass     Sex   Age     Fare Embarked  FamilySize\n",
              "0            1         0       3    male  22.0   7.2500        S           1\n",
              "1            2         1       1  female  38.0  71.2833        C           1\n",
              "2            3         1       3  female  26.0   7.9250        S           0\n",
              "3            4         1       1  female  35.0  53.1000        S           1\n",
              "4            5         0       3    male  35.0   8.0500        S           0"
            ]
          },
          "metadata": {
            "tags": []
          },
          "execution_count": 152
        }
      ]
    },
    {
      "metadata": {
        "id": "nAjy_Eh6iPGO",
        "colab_type": "text"
      },
      "cell_type": "markdown",
      "source": [
        "**2.1. Imputation of 'Age' missing data**\n",
        "\n",
        "Our initial approach to estimate 'Age' missing values was to fill with a placeholder value (1000). This allowed us to quickly get a complete data set, in which was easy to identify imputed values. Since our goal was to have a working end-to-end pipeline as fast as possible, this approach was ok. However, it has several limitations. For example, we are using unrealistic replacement values, which are out of range and distort data distribution. Accordingly, now that we are improving the model, it makes sense to develop a different imputation method.\n",
        "\n",
        "One way to improve our imputation method is to estimate the missing values based on known relationships. In our case, we can do this by using the information in the variable 'Name'. Looking to 'Name' values, we can see person's name and title. Person's title is a relevant information to estimate ages. To give an example, we know that a person with the title 'Master' is someone under 13 years old, since 'a boy can be addressed as master only until age 12'. Therefore, employing the information in 'Name' we can improve our imputation method.\n",
        "\n",
        "The steps to implement this new imputation method are:\n",
        "\n",
        "- Extract titles from 'Name'.\n",
        "- Plot a figure with both features and confirm that there is a connection between titles and age.\n",
        "- For each title, get people's average age and use it to fill missing values.\n",
        "\n",
        "Let's see how this work, before you start with sinking feelings."
      ]
    },
    {
      "metadata": {
        "id": "U99Xh54-hjbt",
        "colab_type": "code",
        "outputId": "4d5815cd-487f-437e-8576-572d7f657923",
        "colab": {
          "base_uri": "https://localhost:8080/",
          "height": 155
        }
      },
      "cell_type": "code",
      "source": [
        "# Inspect names\n",
        "df_raw['Name'].unique()[:10]"
      ],
      "execution_count": 0,
      "outputs": [
        {
          "output_type": "execute_result",
          "data": {
            "text/plain": [
              "array(['Braund, Mr. Owen Harris',\n",
              "       'Cumings, Mrs. John Bradley (Florence Briggs Thayer)',\n",
              "       'Heikkinen, Miss. Laina',\n",
              "       'Futrelle, Mrs. Jacques Heath (Lily May Peel)',\n",
              "       'Allen, Mr. William Henry', 'Moran, Mr. James',\n",
              "       'McCarthy, Mr. Timothy J', 'Palsson, Master. Gosta Leonard',\n",
              "       'Johnson, Mrs. Oscar W (Elisabeth Vilhelmina Berg)',\n",
              "       'Nasser, Mrs. Nicholas (Adele Achem)'], dtype=object)"
            ]
          },
          "metadata": {
            "tags": []
          },
          "execution_count": 27
        }
      ]
    },
    {
      "metadata": {
        "id": "hNlE4tOjijOt",
        "colab_type": "text"
      },
      "cell_type": "markdown",
      "source": [
        "- The rule seems to be: 'last name' + ',' + 'title' + 'other names'"
      ]
    },
    {
      "metadata": {
        "id": "v2blfmwyhuhE",
        "colab_type": "code",
        "outputId": "bf7a446c-f436-4f8a-bb29-95df5806e6f8",
        "colab": {
          "base_uri": "https://localhost:8080/",
          "height": 198
        }
      },
      "cell_type": "code",
      "source": [
        "# Extract title from name\n",
        "df['Title'] = 0\n",
        "for i in df:\n",
        "  df['Title'] = df_raw['Name'].str.extract('([A-Za-z]+)\\.', expand=False) # Use REGEX to define a search pattern\n",
        "\n",
        "df.head()"
      ],
      "execution_count": 0,
      "outputs": [
        {
          "output_type": "execute_result",
          "data": {
            "text/html": [
              "<div>\n",
              "<style scoped>\n",
              "    .dataframe tbody tr th:only-of-type {\n",
              "        vertical-align: middle;\n",
              "    }\n",
              "\n",
              "    .dataframe tbody tr th {\n",
              "        vertical-align: top;\n",
              "    }\n",
              "\n",
              "    .dataframe thead th {\n",
              "        text-align: right;\n",
              "    }\n",
              "</style>\n",
              "<table border=\"1\" class=\"dataframe\">\n",
              "  <thead>\n",
              "    <tr style=\"text-align: right;\">\n",
              "      <th></th>\n",
              "      <th>PassengerId</th>\n",
              "      <th>Survived</th>\n",
              "      <th>Pclass</th>\n",
              "      <th>Sex</th>\n",
              "      <th>Age</th>\n",
              "      <th>Fare</th>\n",
              "      <th>Embarked</th>\n",
              "      <th>FamilySize</th>\n",
              "      <th>Title</th>\n",
              "    </tr>\n",
              "  </thead>\n",
              "  <tbody>\n",
              "    <tr>\n",
              "      <th>0</th>\n",
              "      <td>1</td>\n",
              "      <td>0</td>\n",
              "      <td>3</td>\n",
              "      <td>male</td>\n",
              "      <td>22.0</td>\n",
              "      <td>7.2500</td>\n",
              "      <td>S</td>\n",
              "      <td>1</td>\n",
              "      <td>Mr</td>\n",
              "    </tr>\n",
              "    <tr>\n",
              "      <th>1</th>\n",
              "      <td>2</td>\n",
              "      <td>1</td>\n",
              "      <td>1</td>\n",
              "      <td>female</td>\n",
              "      <td>38.0</td>\n",
              "      <td>71.2833</td>\n",
              "      <td>C</td>\n",
              "      <td>1</td>\n",
              "      <td>Mrs</td>\n",
              "    </tr>\n",
              "    <tr>\n",
              "      <th>2</th>\n",
              "      <td>3</td>\n",
              "      <td>1</td>\n",
              "      <td>3</td>\n",
              "      <td>female</td>\n",
              "      <td>26.0</td>\n",
              "      <td>7.9250</td>\n",
              "      <td>S</td>\n",
              "      <td>0</td>\n",
              "      <td>Miss</td>\n",
              "    </tr>\n",
              "    <tr>\n",
              "      <th>3</th>\n",
              "      <td>4</td>\n",
              "      <td>1</td>\n",
              "      <td>1</td>\n",
              "      <td>female</td>\n",
              "      <td>35.0</td>\n",
              "      <td>53.1000</td>\n",
              "      <td>S</td>\n",
              "      <td>1</td>\n",
              "      <td>Mrs</td>\n",
              "    </tr>\n",
              "    <tr>\n",
              "      <th>4</th>\n",
              "      <td>5</td>\n",
              "      <td>0</td>\n",
              "      <td>3</td>\n",
              "      <td>male</td>\n",
              "      <td>35.0</td>\n",
              "      <td>8.0500</td>\n",
              "      <td>S</td>\n",
              "      <td>0</td>\n",
              "      <td>Mr</td>\n",
              "    </tr>\n",
              "  </tbody>\n",
              "</table>\n",
              "</div>"
            ],
            "text/plain": [
              "   PassengerId  Survived  Pclass     Sex   Age     Fare Embarked  FamilySize  \\\n",
              "0            1         0       3    male  22.0   7.2500        S           1   \n",
              "1            2         1       1  female  38.0  71.2833        C           1   \n",
              "2            3         1       3  female  26.0   7.9250        S           0   \n",
              "3            4         1       1  female  35.0  53.1000        S           1   \n",
              "4            5         0       3    male  35.0   8.0500        S           0   \n",
              "\n",
              "  Title  \n",
              "0    Mr  \n",
              "1   Mrs  \n",
              "2  Miss  \n",
              "3   Mrs  \n",
              "4    Mr  "
            ]
          },
          "metadata": {
            "tags": []
          },
          "execution_count": 153
        }
      ]
    },
    {
      "metadata": {
        "id": "hku-i8k5igiO",
        "colab_type": "code",
        "outputId": "ec38cffd-104c-4f88-ee0e-739a0ec96b88",
        "colab": {
          "base_uri": "https://localhost:8080/",
          "height": 69
        }
      },
      "cell_type": "code",
      "source": [
        "# Unique titles\n",
        "df['Title'].unique()"
      ],
      "execution_count": 0,
      "outputs": [
        {
          "output_type": "execute_result",
          "data": {
            "text/plain": [
              "array(['Mr', 'Mrs', 'Miss', 'Master', 'Don', 'Rev', 'Dr', 'Mme', 'Ms',\n",
              "       'Major', 'Lady', 'Sir', 'Mlle', 'Col', 'Capt', 'Countess',\n",
              "       'Jonkheer'], dtype=object)"
            ]
          },
          "metadata": {
            "tags": []
          },
          "execution_count": 154
        }
      ]
    },
    {
      "metadata": {
        "id": "LLFAuVeFipie",
        "colab_type": "code",
        "outputId": "d2cf9bbe-0e1d-40fc-f937-44e748044bbd",
        "colab": {
          "base_uri": "https://localhost:8080/",
          "height": 406
        }
      },
      "cell_type": "code",
      "source": [
        "# Plot bar chart (titles, age and sex)\n",
        "plt.figure(figsize=(15, 5))\n",
        "sns.barplot(x=df['Title'], y=df['Age'])"
      ],
      "execution_count": 0,
      "outputs": [
        {
          "output_type": "stream",
          "text": [
            "/usr/local/lib/python3.6/dist-packages/seaborn/categorical.py:1428: FutureWarning: remove_na is deprecated and is a private function. Do not use.\n",
            "  stat_data = remove_na(group_data)\n"
          ],
          "name": "stderr"
        },
        {
          "output_type": "execute_result",
          "data": {
            "text/plain": [
              "<matplotlib.axes._subplots.AxesSubplot at 0x7f3a4a26b2b0>"
            ]
          },
          "metadata": {
            "tags": []
          },
          "execution_count": 155
        },
        {
          "output_type": "display_data",
          "data": {
            "image/png": "[encoded data removed]",
            "text/plain": [
              "<matplotlib.figure.Figure at 0x7f3a4a15aa58>"
            ]
          },
          "metadata": {
            "tags": []
          }
        }
      ]
    },
    {
      "metadata": {
        "id": "e-d92vbbizNC",
        "colab_type": "text"
      },
      "cell_type": "markdown",
      "source": [
        "- Bar plot gives us an estimate of central tendency for a numeric variable (height of each rectangle) and an indication of the uncertainty around that estimate (error bars in black).\n",
        "- Apart from Rev and Dr, which have a larger error bar, the mean value seems to accurately represent the data of all the other features. This validates our approach.\n",
        "- Here you can find a short and sweet intro to error bars interpretation."
      ]
    },
    {
      "metadata": {
        "id": "HM5EMzlYx7af",
        "colab_type": "code",
        "outputId": "3b410ad5-32dd-409d-f70f-7a289c51a5bf",
        "colab": {
          "base_uri": "https://localhost:8080/",
          "height": 138
        }
      },
      "cell_type": "code",
      "source": [
        "# Means per title\n",
        "means = df.groupby('Title')['Age'].mean()\n",
        "means.head()"
      ],
      "execution_count": 0,
      "outputs": [
        {
          "output_type": "execute_result",
          "data": {
            "text/plain": [
              "Title\n",
              "Capt        70.0\n",
              "Col         58.0\n",
              "Countess    33.0\n",
              "Don         40.0\n",
              "Dr          42.0\n",
              "Name: Age, dtype: float64"
            ]
          },
          "metadata": {
            "tags": []
          },
          "execution_count": 156
        }
      ]
    },
    {
      "metadata": {
        "id": "YXpz_tIjzo78",
        "colab_type": "code",
        "outputId": "3053efaf-5546-4db4-e833-36e5711543ac",
        "colab": {
          "base_uri": "https://localhost:8080/",
          "height": 311
        }
      },
      "cell_type": "code",
      "source": [
        "# Transform means into a dictionary for future mapping\n",
        "map_means = means.to_dict()\n",
        "map_means"
      ],
      "execution_count": 0,
      "outputs": [
        {
          "output_type": "execute_result",
          "data": {
            "text/plain": [
              "{'Capt': 70.0,\n",
              " 'Col': 58.0,\n",
              " 'Countess': 33.0,\n",
              " 'Don': 40.0,\n",
              " 'Dr': 42.0,\n",
              " 'Jonkheer': 38.0,\n",
              " 'Lady': 48.0,\n",
              " 'Major': 48.5,\n",
              " 'Master': 4.574166666666667,\n",
              " 'Miss': 21.773972602739725,\n",
              " 'Mlle': 24.0,\n",
              " 'Mme': 24.0,\n",
              " 'Mr': 32.368090452261306,\n",
              " 'Mrs': 35.898148148148145,\n",
              " 'Ms': 28.0,\n",
              " 'Rev': 43.166666666666664,\n",
              " 'Sir': 49.0}"
            ]
          },
          "metadata": {
            "tags": []
          },
          "execution_count": 157
        }
      ]
    },
    {
      "metadata": {
        "id": "vC32g3hSz_Ls",
        "colab_type": "code",
        "colab": {}
      },
      "cell_type": "code",
      "source": [
        "# Impute ages based on titles\n",
        "idx_nan_age = df[np.isnan(df['Age'])].index\n",
        "df.loc[idx_nan_age, 'Age'] = df['Title'].loc[idx_nan_age].map(map_means)"
      ],
      "execution_count": 0,
      "outputs": []
    },
    {
      "metadata": {
        "id": "B9EDBQm71aPG",
        "colab_type": "code",
        "outputId": "1aaf33c0-c13a-4ccd-919e-c8b46237571b",
        "colab": {
          "base_uri": "https://localhost:8080/",
          "height": 198
        }
      },
      "cell_type": "code",
      "source": [
        "# Identify imputed data\n",
        "df['Imputed'] = 0\n",
        "df.at[idx_nan_age.values, 'Imputed'] = 1\n",
        "df.head()"
      ],
      "execution_count": 0,
      "outputs": [
        {
          "output_type": "execute_result",
          "data": {
            "text/html": [
              "<div>\n",
              "<style scoped>\n",
              "    .dataframe tbody tr th:only-of-type {\n",
              "        vertical-align: middle;\n",
              "    }\n",
              "\n",
              "    .dataframe tbody tr th {\n",
              "        vertical-align: top;\n",
              "    }\n",
              "\n",
              "    .dataframe thead th {\n",
              "        text-align: right;\n",
              "    }\n",
              "</style>\n",
              "<table border=\"1\" class=\"dataframe\">\n",
              "  <thead>\n",
              "    <tr style=\"text-align: right;\">\n",
              "      <th></th>\n",
              "      <th>PassengerId</th>\n",
              "      <th>Survived</th>\n",
              "      <th>Pclass</th>\n",
              "      <th>Sex</th>\n",
              "      <th>Age</th>\n",
              "      <th>Fare</th>\n",
              "      <th>Embarked</th>\n",
              "      <th>FamilySize</th>\n",
              "      <th>Title</th>\n",
              "      <th>Imputed</th>\n",
              "    </tr>\n",
              "  </thead>\n",
              "  <tbody>\n",
              "    <tr>\n",
              "      <th>0</th>\n",
              "      <td>1</td>\n",
              "      <td>0</td>\n",
              "      <td>3</td>\n",
              "      <td>male</td>\n",
              "      <td>22.0</td>\n",
              "      <td>7.2500</td>\n",
              "      <td>S</td>\n",
              "      <td>1</td>\n",
              "      <td>Mr</td>\n",
              "      <td>0</td>\n",
              "    </tr>\n",
              "    <tr>\n",
              "      <th>1</th>\n",
              "      <td>2</td>\n",
              "      <td>1</td>\n",
              "      <td>1</td>\n",
              "      <td>female</td>\n",
              "      <td>38.0</td>\n",
              "      <td>71.2833</td>\n",
              "      <td>C</td>\n",
              "      <td>1</td>\n",
              "      <td>Mrs</td>\n",
              "      <td>0</td>\n",
              "    </tr>\n",
              "    <tr>\n",
              "      <th>2</th>\n",
              "      <td>3</td>\n",
              "      <td>1</td>\n",
              "      <td>3</td>\n",
              "      <td>female</td>\n",
              "      <td>26.0</td>\n",
              "      <td>7.9250</td>\n",
              "      <td>S</td>\n",
              "      <td>0</td>\n",
              "      <td>Miss</td>\n",
              "      <td>0</td>\n",
              "    </tr>\n",
              "    <tr>\n",
              "      <th>3</th>\n",
              "      <td>4</td>\n",
              "      <td>1</td>\n",
              "      <td>1</td>\n",
              "      <td>female</td>\n",
              "      <td>35.0</td>\n",
              "      <td>53.1000</td>\n",
              "      <td>S</td>\n",
              "      <td>1</td>\n",
              "      <td>Mrs</td>\n",
              "      <td>0</td>\n",
              "    </tr>\n",
              "    <tr>\n",
              "      <th>4</th>\n",
              "      <td>5</td>\n",
              "      <td>0</td>\n",
              "      <td>3</td>\n",
              "      <td>male</td>\n",
              "      <td>35.0</td>\n",
              "      <td>8.0500</td>\n",
              "      <td>S</td>\n",
              "      <td>0</td>\n",
              "      <td>Mr</td>\n",
              "      <td>0</td>\n",
              "    </tr>\n",
              "  </tbody>\n",
              "</table>\n",
              "</div>"
            ],
            "text/plain": [
              "   PassengerId  Survived  Pclass     Sex   Age     Fare Embarked  FamilySize  \\\n",
              "0            1         0       3    male  22.0   7.2500        S           1   \n",
              "1            2         1       1  female  38.0  71.2833        C           1   \n",
              "2            3         1       3  female  26.0   7.9250        S           0   \n",
              "3            4         1       1  female  35.0  53.1000        S           1   \n",
              "4            5         0       3    male  35.0   8.0500        S           0   \n",
              "\n",
              "  Title  Imputed  \n",
              "0    Mr        0  \n",
              "1   Mrs        0  \n",
              "2  Miss        0  \n",
              "3   Mrs        0  \n",
              "4    Mr        0  "
            ]
          },
          "metadata": {
            "tags": []
          },
          "execution_count": 169
        }
      ]
    },
    {
      "metadata": {
        "id": "QiLxJgt6kBFZ",
        "colab_type": "text"
      },
      "cell_type": "markdown",
      "source": [
        "**2.2. Exploratory data analysis**\n",
        "Exploratory data analysis is often mentioned as one of the most important steps in the data analysis process. However, it's fairly easy to fall into a 'data diving' trap (especially if you're solving problems about sunken ships) and get lost into the process. When that happens, your analysis can end up like this.\n",
        "\n",
        "We can avoid this by following a hypothesis driven approach. The hypothesis driven approach consists in establishing hypothesis about the variables behaviour and their relationships, early in the process, to then focus on using data to prove (or disprove) those hypothesis. This makes our analysis very objective because we will be collecting just enough data to test specific hypothesis. As a result, we:\n",
        "\n",
        "- Increase speed. Since we will limit our analysis to some hypothesis and move forward.\n",
        "- Reduce effort. The amount of data and the number of tests will be only what is needed to verify your hypothesis.\n",
        "- Reduce risk. If you're right you succeed fast, if you're wrong you fail fast.\n",
        "\n",
        "Here you can find one of my favourite PowerPoint presentations about the benefits and procedures of a hypothesis driven approach in problem solving. Please note that, particularly when you really need to learn about the data set, it makes sense to put the diving cylinder and go dive into the depths of data analysis. However, if at the outset you can generate an educated guess of what the answer of your problem is, I think that you should test your hypothesis and learn from it as fast as you can.\n",
        "\n",
        "Ok, now that I convinced you that the hypothesis driven approach is the last coke in the desert, let me show you how to apply it. Cases like the one we have are easy targets for the hypothesis driven approach because we don't have many variables, so we can more or less guess their impact. Accordingly, we will start by listing each of the variables and generate hypothesis about their relationship with the target variable ('Survived'). Then, we will test those hypothesis through a set of exploratory data analysis tools. As a result, we'll end up with a comprehensive view about the variables that should belong to our prediction model.\n",
        "\n"
      ]
    },
    {
      "metadata": {
        "id": "ox6weu95kjjJ",
        "colab_type": "text"
      },
      "cell_type": "markdown",
      "source": [
        "Let's get started:\n",
        "\n",
        "- **PassengerId**. This is just an unique identification of each passenger. It's not expected to be relevant to our analysis.\n",
        "- **Survived**. Target variable. To sink or not to sink is the question of this exercise.\n",
        "- **Pclass**. This is the ticket class. According to Karl Marx, this should affect our target variable. First class should have a higher survival rate.\n",
        "- **Name**. Names are a form of social tagging, especially when accompanied by a title. As a consequence, it can lead to different forms of treatment. Let's keep an eye on this.\n",
        "- **Sex**. Always important.\n",
        "- **Age**. It should make a difference. For example, children are usually evacuated first in a disaster, so that we can think about a solution in silence... Joking, the true reason why 'Age' matters is this one.\n",
        "- **SibSp**. Number of siblings/spouses aboard the Titanic. I'd say that it's easier to survive if you're with your family than if you're travelling alone. Teamwork!\n",
        "- **Parch**. Number of parents/children aboard the Titanic. It should play with 'SibSp'.\n",
        "- **Ticket**. This is the ticket number. Unless it has some information about places, it shouldn't be important for prediction purposes.\n",
        "- **Fare**. Same logic as 'Pclass'.\n",
        "- **Cabin**. The cabin number can indicate where people were during the disaster. It wouldn't be surprising if it had some influence in survival chances, but this variable was excluded due to the high percentage of missing values.\n",
        "\n",
        "- **Embarked**. When the sun rises, it rises for everyone. It's not expectable that people coming from Cherbourg are more unlucky than people coming from Southampton. Unless there is some second order effect, like refusing to run away to keep your honor as a man, I would say that this variable is not important.\n",
        "\n",
        "Now, step by step, let's perform our analysis."
      ]
    },
    {
      "metadata": {
        "id": "IGKNuCcekzQG",
        "colab_type": "text"
      },
      "cell_type": "markdown",
      "source": [
        "*2.2.1. Pclass*\n",
        "\n",
        "Our hypothesis is that the higher the class, the higher the chances of survival. This means that a person travelling in the first class has a higher chance of survival than a person traveling on the second or third class.\n",
        "\n",
        "To visualize if there is a relationship between 'Pclass' and 'Survival', let's do a bar plot."
      ]
    },
    {
      "metadata": {
        "id": "am3BavGXRV_h",
        "colab_type": "code",
        "outputId": "c72a2d0d-6633-4d2b-8fa9-1b3b75e92866",
        "colab": {
          "base_uri": "https://localhost:8080/",
          "height": 351
        }
      },
      "cell_type": "code",
      "source": [
        "# Pclass\n",
        "sns.barplot(x='Pclass', y='Survived', data=df)"
      ],
      "execution_count": 0,
      "outputs": [
        {
          "output_type": "stream",
          "text": [
            "/usr/local/lib/python3.6/dist-packages/seaborn/categorical.py:1428: FutureWarning: remove_na is deprecated and is a private function. Do not use.\n",
            "  stat_data = remove_na(group_data)\n"
          ],
          "name": "stderr"
        },
        {
          "output_type": "execute_result",
          "data": {
            "text/plain": [
              "<matplotlib.axes._subplots.AxesSubplot at 0x7f3a4a889d30>"
            ]
          },
          "metadata": {
            "tags": []
          },
          "execution_count": 172
        },
        {
          "output_type": "display_data",
          "data": {
            "image/png": "[encoded data removed]",
            "text/plain": [
              "<matplotlib.figure.Figure at 0x7f3a4a600470>"
            ]
          },
          "metadata": {
            "tags": []
          }
        }
      ]
    },
    {
      "metadata": {
        "id": "BwiM7sBelN62",
        "colab_type": "text"
      },
      "cell_type": "markdown",
      "source": [
        "As we can see, about 60% of the people travelling in the first class survived. In contrast, only approximately 25% of the people travelling in the third class survived. Accordingly, this plot suggests that the class in which people travel affects the chances of survival.\n",
        "\n",
        "*2.2.2. Name/Title*\n",
        "\n",
        "Our assumption is that people's title influences how they are treated. In our case, we have several titles, but only some of them are shared by a significant number of people. Accordingly, it would be interesting if we could group some of the titles and simplify our analysis.\n",
        "\n",
        "Let's analyse the title and see if we can can find a sensible way to group them. Then, we test our new groups and, if it works in an acceptable way, we keep it. For now, optimization will not be a goal. The focus is on getting something that can improve our current situation."
      ]
    },
    {
      "metadata": {
        "id": "jHTcnGIQRguJ",
        "colab_type": "code",
        "outputId": "6ea6438d-1ee6-4005-ccf6-d4ab2239e9d5",
        "colab": {
          "base_uri": "https://localhost:8080/",
          "height": 345
        }
      },
      "cell_type": "code",
      "source": [
        "# Count how many people have each of titles\n",
        "df.groupby(['Title'])['PassengerId'].count()"
      ],
      "execution_count": 0,
      "outputs": [
        {
          "output_type": "execute_result",
          "data": {
            "text/plain": [
              "Title\n",
              "Capt          1\n",
              "Col           2\n",
              "Countess      1\n",
              "Don           1\n",
              "Dr            7\n",
              "Jonkheer      1\n",
              "Lady          1\n",
              "Major         2\n",
              "Master       40\n",
              "Miss        182\n",
              "Mlle          2\n",
              "Mme           1\n",
              "Mr          517\n",
              "Mrs         125\n",
              "Ms            1\n",
              "Rev           6\n",
              "Sir           1\n",
              "Name: PassengerId, dtype: int64"
            ]
          },
          "metadata": {
            "tags": []
          },
          "execution_count": 173
        }
      ]
    },
    {
      "metadata": {
        "id": "HUq6k183laoV",
        "colab_type": "text"
      },
      "cell_type": "markdown",
      "source": [
        "From the results above we can see that:\n",
        "\n",
        "- Titles like 'Master', 'Miss', 'Mr', and 'Mrs', appear several times. Accordingly, we will not group them.\n",
        "- Regarding Mme and Mlle, we can see here that they correspond to the categories Mrs and Miss, respectively. As a consequence, we will assign them to those titles.\n",
        "- Finally, we will group all the other titles in a new title named 'Other'. Then, we will define 'Title' as a categorical feature and plot it to see how it looks like. If it looks ok, we will proceed with this new categorization."
      ]
    },
    {
      "metadata": {
        "id": "gKQzu89iSVKR",
        "colab_type": "code",
        "colab": {}
      },
      "cell_type": "code",
      "source": [
        "# Map of aggregated titles\n",
        "titles_dict = {'Capt': 'Other',\n",
        "               'Major': 'Other',\n",
        "               'Jonkheer': 'Other',\n",
        "               'Don': 'Other',\n",
        "               'Sir': 'Other',\n",
        "               'Dr': 'Other',\n",
        "               'Rev': 'Other',\n",
        "               'Countess': 'Other',\n",
        "               'Dona': 'Other',\n",
        "               'Mms' : 'Mrs',\n",
        "               'Mlle': 'Miss',\n",
        "               'Ms' : 'Miss',\n",
        "               'Mr' : 'Mr',\n",
        "               'Mrs' : 'Mrs',\n",
        "               'Miss' : 'Miss',\n",
        "               'Master' : 'Master',\n",
        "               'Lady' : 'Other'}"
      ],
      "execution_count": 0,
      "outputs": []
    },
    {
      "metadata": {
        "id": "PpsveD6UTbYI",
        "colab_type": "code",
        "outputId": "368cf0ea-f1e9-44ca-98a7-8c0136272903",
        "colab": {
          "base_uri": "https://localhost:8080/",
          "height": 121
        }
      },
      "cell_type": "code",
      "source": [
        "# Group titles\n",
        "df['Title'] = df['Title'].map(titles_dict)\n",
        "df['Title'].head()"
      ],
      "execution_count": 0,
      "outputs": [
        {
          "output_type": "execute_result",
          "data": {
            "text/plain": [
              "0      Mr\n",
              "1     Mrs\n",
              "2    Miss\n",
              "3     Mrs\n",
              "4      Mr\n",
              "Name: Title, dtype: object"
            ]
          },
          "metadata": {
            "tags": []
          },
          "execution_count": 175
        }
      ]
    },
    {
      "metadata": {
        "id": "TvyzzMsrTqRR",
        "colab_type": "code",
        "outputId": "f6f2308b-bac7-466e-f9bf-89199f406e40",
        "colab": {
          "base_uri": "https://localhost:8080/",
          "height": 207
        }
      },
      "cell_type": "code",
      "source": [
        "# Transform into categorical variable\n",
        "df['Title'] = pd.Categorical(df['Title'])\n",
        "df.dtypes"
      ],
      "execution_count": 0,
      "outputs": [
        {
          "output_type": "execute_result",
          "data": {
            "text/plain": [
              "PassengerId       int64\n",
              "Survived          int64\n",
              "Pclass            int64\n",
              "Sex              object\n",
              "Age             float64\n",
              "Fare            float64\n",
              "Embarked         object\n",
              "FamilySize        int64\n",
              "Title          category\n",
              "Imputed           int64\n",
              "dtype: object"
            ]
          },
          "metadata": {
            "tags": []
          },
          "execution_count": 176
        }
      ]
    },
    {
      "metadata": {
        "id": "FkwDkxS0U9t5",
        "colab_type": "code",
        "outputId": "37e4f37c-019e-47af-9e54-760bb088f849",
        "colab": {
          "base_uri": "https://localhost:8080/",
          "height": 351
        }
      },
      "cell_type": "code",
      "source": [
        "# Plot\n",
        "sns.barplot(x='Title', y='Survived', data=df)"
      ],
      "execution_count": 0,
      "outputs": [
        {
          "output_type": "stream",
          "text": [
            "/usr/local/lib/python3.6/dist-packages/seaborn/categorical.py:1428: FutureWarning: remove_na is deprecated and is a private function. Do not use.\n",
            "  stat_data = remove_na(group_data)\n"
          ],
          "name": "stderr"
        },
        {
          "output_type": "execute_result",
          "data": {
            "text/plain": [
              "<matplotlib.axes._subplots.AxesSubplot at 0x7f3a4a1675f8>"
            ]
          },
          "metadata": {
            "tags": []
          },
          "execution_count": 177
        },
        {
          "output_type": "display_data",
          "data": {
            "image/png": "[encoded data removed]",
            "text/plain": [
              "<matplotlib.figure.Figure at 0x7f3a4a167eb8>"
            ]
          },
          "metadata": {
            "tags": []
          }
        }
      ]
    },
    {
      "metadata": {
        "id": "0PXU_QuNlsKe",
        "colab_type": "text"
      },
      "cell_type": "markdown",
      "source": [
        "As we already know, the bar plot shows us an estimate of the mean value (height of each rectangle) and an indication of the uncertainty around that central tendency (error bars).\n",
        "\n",
        "Our results suggest that:\n",
        "\n",
        "- People with the title 'Mr' survived less than people with any other title.\n",
        "- Titles with a survival rate higher than 50% are those that correspond to female (Miss or Mrs) or children (Master) titles.\n",
        "- Our new category, 'Other', should be more discretized. As we can see by the error bar (black line), there is a significant uncertainty around the mean value. Probably, one of the problems is that we are mixing male and female titles in the 'Other' category. We should proceed with a more detailed analysis to sort this out. Also, the category 'Master' seems to have a similar problem. For now, we will not make any changes, but we will keep these two situations in our mind for future improvement of our data set."
      ]
    },
    {
      "metadata": {
        "id": "rR8hRB1IlyiF",
        "colab_type": "text"
      },
      "cell_type": "markdown",
      "source": [
        "*2.2.3. Sex*\n",
        "\n",
        "Sex is one of the most discussed topics in Human history. There are several perspective about the topic, but I must confess that Freud's perspectives had a significant impact on me because they have shown me the subject in a new perspective. What's new about Freud is that he associated many 'normal' behaviours to sexual drives, almost to the point of making us question everything we do. In the end, Freud realized that not everything was about sex. As he said, 'sometimes a cigar is just a cigar' (Freud used to smoke cigars).\n",
        "\n",
        "Preambles aside, what we really need to know is if sometimes a cigar is just a cigar or not. We already have some clues that, in Titanic, women had a higher survival rate. But, nothing better than a plot to see what's going on."
      ]
    },
    {
      "metadata": {
        "id": "En9fqINdVJZg",
        "colab_type": "code",
        "colab": {}
      },
      "cell_type": "code",
      "source": [
        "# Transform into categorical variable\n",
        "df['Sex'] = pd.Categorical(df['Sex'])"
      ],
      "execution_count": 0,
      "outputs": []
    },
    {
      "metadata": {
        "id": "0wLOP9hLW6n_",
        "colab_type": "code",
        "outputId": "aba00f25-f79e-45b9-9a4c-e38154074fa2",
        "colab": {
          "base_uri": "https://localhost:8080/",
          "height": 351
        }
      },
      "cell_type": "code",
      "source": [
        "# Plot\n",
        "sns.barplot(df['Sex'], df['Survived'])"
      ],
      "execution_count": 0,
      "outputs": [
        {
          "output_type": "stream",
          "text": [
            "/usr/local/lib/python3.6/dist-packages/seaborn/categorical.py:1428: FutureWarning: remove_na is deprecated and is a private function. Do not use.\n",
            "  stat_data = remove_na(group_data)\n"
          ],
          "name": "stderr"
        },
        {
          "output_type": "execute_result",
          "data": {
            "text/plain": [
              "<matplotlib.axes._subplots.AxesSubplot at 0x7f3a4a167e10>"
            ]
          },
          "metadata": {
            "tags": []
          },
          "execution_count": 179
        },
        {
          "output_type": "display_data",
          "data": {
            "image/png": "[encoded data removed]",
            "text/plain": [
              "<matplotlib.figure.Figure at 0x7f3a4b202320>"
            ]
          },
          "metadata": {
            "tags": []
          }
        }
      ]
    },
    {
      "metadata": {
        "id": "ierXodCgl8qJ",
        "colab_type": "text"
      },
      "cell_type": "markdown",
      "source": [
        "Our hypothesis seems to be right. The world belongs to women, and so does the Titanic.\n",
        "\n",
        "*2.2.4. Age*\n",
        "\n",
        "Age' is the next variable in the list. Our hypothesis is that children are more prone to survive, while people in its adult life may have a lower rate of survival. Personally, I don't have any special intuition about elders, since they are the most vulnerable. This can play for both sides: either people help elders because they are more vulnerable, or they they are not able to cope with the challenges posed by the wreck of a ship.\n",
        "\n",
        "Let's call the usual suspect (bar plot) to help us understanding the situation."
      ]
    },
    {
      "metadata": {
        "id": "X7GuxO53XBWf",
        "colab_type": "code",
        "outputId": "9ceca9e2-9bf8-42f5-ae05-f6ce203a2c59",
        "colab": {
          "base_uri": "https://localhost:8080/",
          "height": 494
        }
      },
      "cell_type": "code",
      "source": [
        "# Age\n",
        "# Plot\n",
        "plt.figure(figsize=(20, 5))\n",
        "plt.xticks(rotation=90)\n",
        "sns.barplot(df['Age'], df['Survived'], ci=None)"
      ],
      "execution_count": 0,
      "outputs": [
        {
          "output_type": "stream",
          "text": [
            "/usr/local/lib/python3.6/dist-packages/seaborn/categorical.py:1428: FutureWarning: remove_na is deprecated and is a private function. Do not use.\n",
            "  stat_data = remove_na(group_data)\n"
          ],
          "name": "stderr"
        },
        {
          "output_type": "execute_result",
          "data": {
            "text/plain": [
              "<matplotlib.axes._subplots.AxesSubplot at 0x7f3a4a102278>"
            ]
          },
          "metadata": {
            "tags": []
          },
          "execution_count": 181
        },
        {
          "output_type": "display_data",
          "data": {
            "image/png": "[encoded data removed]",
            "text/plain": [
              "<matplotlib.figure.Figure at 0x7f3a4a1023c8>"
            ]
          },
          "metadata": {
            "tags": []
          }
        }
      ]
    },
    {
      "metadata": {
        "id": "o-6UVWpTmbkb",
        "colab_type": "text"
      },
      "cell_type": "markdown",
      "source": [
        "With a little bit of creativity, we can say that the plot has three regions:\n",
        "\n",
        "- One region that goes between age 0 and 15;\n",
        "- One between age 15 and 48;\n",
        "- A last one between age 48 and 80.\n",
        "\n",
        "I know that this division is arguable, especially in what concerns the last two categories. However, the point is that this categories split fits into what we know about the way our society is organized: childrens, adults and elders. For now, let's proceed this way."
      ]
    },
    {
      "metadata": {
        "id": "OPVaLgUpXqCv",
        "colab_type": "code",
        "outputId": "9eaddc04-a075-481e-bb34-9f81cd12d381",
        "colab": {
          "base_uri": "https://localhost:8080/",
          "height": 494
        }
      },
      "cell_type": "code",
      "source": [
        "# Plot\n",
        "limit_1 = 12\n",
        "limit_2 = 50\n",
        "\n",
        "x_limit_1 = np.size(df[df['Age'] < limit_1]['Age'].unique())\n",
        "x_limit_2 = np.size(df[df['Age'] < limit_2]['Age'].unique())\n",
        "\n",
        "plt.figure(figsize=(20, 5))\n",
        "plt.axvspan(0, x_limit_1, color='g')\n",
        "plt.axvspan(x_limit_1, x_limit_2, color='r')\n",
        "plt.axvspan(x_limit_2, 90, color='y')\n",
        "plt.xticks(rotation=90)\n",
        "\n",
        "sns.barplot(df['Age'], df['Survived'], ci=None)"
      ],
      "execution_count": 0,
      "outputs": [
        {
          "output_type": "stream",
          "text": [
            "/usr/local/lib/python3.6/dist-packages/seaborn/categorical.py:1428: FutureWarning: remove_na is deprecated and is a private function. Do not use.\n",
            "  stat_data = remove_na(group_data)\n"
          ],
          "name": "stderr"
        },
        {
          "output_type": "execute_result",
          "data": {
            "text/plain": [
              "<matplotlib.axes._subplots.AxesSubplot at 0x7f3a4a841e10>"
            ]
          },
          "metadata": {
            "tags": []
          },
          "execution_count": 182
        },
        {
          "output_type": "display_data",
          "data": {
            "image/png": "[encoded data removed]",
            "text/plain": [
              "<matplotlib.figure.Figure at 0x7f3a4a38a898>"
            ]
          },
          "metadata": {
            "tags": []
          }
        }
      ]
    },
    {
      "metadata": {
        "id": "7MPUvJ2nZXpe",
        "colab_type": "code",
        "outputId": "decd3412-3355-4eb2-aea6-40a1887c16cb",
        "colab": {
          "base_uri": "https://localhost:8080/",
          "height": 138
        }
      },
      "cell_type": "code",
      "source": [
        "# Bind data\n",
        "df['Age'] = pd.cut(df['Age'], bins=[0, 12, 50, 100], labels=['Child', 'Adult', 'Elder'])\n",
        "df['Age'].head()"
      ],
      "execution_count": 0,
      "outputs": [
        {
          "output_type": "execute_result",
          "data": {
            "text/plain": [
              "0    Adult\n",
              "1    Adult\n",
              "2    Adult\n",
              "3    Adult\n",
              "4    Adult\n",
              "Name: Age, dtype: category\n",
              "Categories (3, object): [Child < Adult < Elder]"
            ]
          },
          "metadata": {
            "tags": []
          },
          "execution_count": 183
        }
      ]
    },
    {
      "metadata": {
        "id": "RZazrwQeb3qN",
        "colab_type": "code",
        "outputId": "a58b420f-5581-46a3-cef5-dad1af1fa643",
        "colab": {
          "base_uri": "https://localhost:8080/",
          "height": 351
        }
      },
      "cell_type": "code",
      "source": [
        "# Plot\n",
        "sns.barplot(df['Age'], df['Survived'])"
      ],
      "execution_count": 0,
      "outputs": [
        {
          "output_type": "stream",
          "text": [
            "/usr/local/lib/python3.6/dist-packages/seaborn/categorical.py:1428: FutureWarning: remove_na is deprecated and is a private function. Do not use.\n",
            "  stat_data = remove_na(group_data)\n"
          ],
          "name": "stderr"
        },
        {
          "output_type": "execute_result",
          "data": {
            "text/plain": [
              "<matplotlib.axes._subplots.AxesSubplot at 0x7f3a49ed4588>"
            ]
          },
          "metadata": {
            "tags": []
          },
          "execution_count": 184
        },
        {
          "output_type": "display_data",
          "data": {
            "image/png": "[encoded data removed]",
            "text/plain": [
              "<matplotlib.figure.Figure at 0x7f3a4a0c4e48>"
            ]
          },
          "metadata": {
            "tags": []
          }
        }
      ]
    },
    {
      "metadata": {
        "id": "kljyw5gSmrAD",
        "colab_type": "text"
      },
      "cell_type": "markdown",
      "source": [
        "The plot shows that children have a higher survival rate. It also shows that, in terms of survival, there is not a significant difference between the categories 'Adult' and 'Elder'. For now, we will not make any change because there is a theoretical rationale behind this categorization. Nonetheless, it seems that it would be enough to just distinguish between children and adults."
      ]
    },
    {
      "metadata": {
        "id": "PZ8xSzV-mtq6",
        "colab_type": "text"
      },
      "cell_type": "markdown",
      "source": [
        "*2.2.5. FamilySize*\n",
        "\n",
        "Regarding family size, our hypothesis is that those who travel alone, have a lower survival rate. The idea is that people with family can collaborate and help each other escaping."
      ]
    },
    {
      "metadata": {
        "id": "EeuTTapcXf_P",
        "colab_type": "code",
        "outputId": "4abb80ec-c6d2-416a-d3cd-0a82dd776c9f",
        "colab": {
          "base_uri": "https://localhost:8080/",
          "height": 351
        }
      },
      "cell_type": "code",
      "source": [
        "# Family size\n",
        "# Plot\n",
        "sns.barplot(df['FamilySize'], df['Survived'])"
      ],
      "execution_count": 0,
      "outputs": [
        {
          "output_type": "stream",
          "text": [
            "/usr/local/lib/python3.6/dist-packages/seaborn/categorical.py:1428: FutureWarning: remove_na is deprecated and is a private function. Do not use.\n",
            "  stat_data = remove_na(group_data)\n"
          ],
          "name": "stderr"
        },
        {
          "output_type": "execute_result",
          "data": {
            "text/plain": [
              "<matplotlib.axes._subplots.AxesSubplot at 0x7f3a4a84e0b8>"
            ]
          },
          "metadata": {
            "tags": []
          },
          "execution_count": 185
        },
        {
          "output_type": "display_data",
          "data": {
            "image/png": "[encoded data removed]",
            "text/plain": [
              "<matplotlib.figure.Figure at 0x7f3a49e91b00>"
            ]
          },
          "metadata": {
            "tags": []
          }
        }
      ]
    },
    {
      "metadata": {
        "id": "FjkOucoVm1M0",
        "colab_type": "text"
      },
      "cell_type": "markdown",
      "source": [
        "As we can see, when 'FamilySize' is between 0 and 3, our hypothesis finds some support. People that are travelling alone have a lower survival rate than people who are travelling with one, two or three people more.\n",
        "\n",
        "However, when FamilySize is between 4 and 10, things start to change. Despite the large variability of the results, the survival rate drops. This may suggest that our hypothesis should be revised when 'FamilySize' is higher than 3.\n",
        "\n",
        "This variable seems to be more complex than expected. Accordingly, we will not make any transformation in this variable and we will leave it as a continuous variable to preserve all the information it has."
      ]
    },
    {
      "metadata": {
        "id": "S6jqYImEm5_5",
        "colab_type": "text"
      },
      "cell_type": "markdown",
      "source": [
        "*2.2.6. Fare*\n",
        "\n",
        "The same logic applied to 'Pclass' should work for 'Fare': higher fares, higher survival rate.\n",
        "\n",
        "Since now we want to establish comparisons across different levels of a categorical variable, we will use a box plot instead of a bar plot."
      ]
    },
    {
      "metadata": {
        "id": "0NTBblV9cxfs",
        "colab_type": "code",
        "outputId": "925993f6-628e-4a03-e4f4-8124b1a46b61",
        "colab": {
          "base_uri": "https://localhost:8080/",
          "height": 388
        }
      },
      "cell_type": "code",
      "source": [
        "# Plot\n",
        "plt.figure(figsize=(7.5,5))\n",
        "sns.boxplot(df['Survived'], df['Fare']);"
      ],
      "execution_count": 0,
      "outputs": [
        {
          "output_type": "stream",
          "text": [
            "/usr/local/lib/python3.6/dist-packages/seaborn/categorical.py:454: FutureWarning: remove_na is deprecated and is a private function. Do not use.\n",
            "  box_data = remove_na(group_data)\n"
          ],
          "name": "stderr"
        },
        {
          "output_type": "display_data",
          "data": {
            "image/png": "[encoded data removed]",
            "text/plain": [
              "<matplotlib.figure.Figure at 0x7f3a49c91438>"
            ]
          },
          "metadata": {
            "tags": []
          }
        }
      ]
    },
    {
      "metadata": {
        "id": "vVE3vtL5q8ov",
        "colab_type": "text"
      },
      "cell_type": "markdown",
      "source": [
        "The plot suggests that those who survived paid a higher fare. Since we believe this variable is connected with 'Pclass', let's see how they work together."
      ]
    },
    {
      "metadata": {
        "id": "mgM1xk9rds5N",
        "colab_type": "code",
        "outputId": "e84a9d81-201c-49fb-9a8e-c7884b58b621",
        "colab": {
          "base_uri": "https://localhost:8080/",
          "height": 351
        }
      },
      "cell_type": "code",
      "source": [
        "# Plot\n",
        "sns.barplot(df['Survived'], df['Fare'], df['Pclass'])"
      ],
      "execution_count": 0,
      "outputs": [
        {
          "output_type": "stream",
          "text": [
            "/usr/local/lib/python3.6/dist-packages/seaborn/categorical.py:1468: FutureWarning: remove_na is deprecated and is a private function. Do not use.\n",
            "  stat_data = remove_na(group_data[hue_mask])\n"
          ],
          "name": "stderr"
        },
        {
          "output_type": "execute_result",
          "data": {
            "text/plain": [
              "<matplotlib.axes._subplots.AxesSubplot at 0x7f3a49be1198>"
            ]
          },
          "metadata": {
            "tags": []
          },
          "execution_count": 189
        },
        {
          "output_type": "display_data",
          "data": {
            "image/png": "[encoded data removed]",
            "text/plain": [
              "<matplotlib.figure.Figure at 0x7f3a49c71438>"
            ]
          },
          "metadata": {
            "tags": []
          }
        }
      ]
    },
    {
      "metadata": {
        "id": "LVyKAn71rCQL",
        "colab_type": "text"
      },
      "cell_type": "markdown",
      "source": [
        "Here we have an interesting result. It seems that 'Fare' doesn't make difference, in terms of survival, if you are travelling in second or third class. However, if you are travelling in first class, the higher the fare, the higher the chances of survival. Considering this, it would make sense to create interaction features between 'Fare' and 'Pclass'."
      ]
    },
    {
      "metadata": {
        "id": "LcXYW9f9rHea",
        "colab_type": "text"
      },
      "cell_type": "markdown",
      "source": [
        "*2.2.7. Embarked*\n",
        "\n",
        "The hypothesis regarding 'Embarked' is that it doesn't influence the chances of survival. It is hard to imagine a scenario in which people from Southampton, for instance, would such a competitive advantage, that it would make them more apt for survival than people from Queensland. Yes, in Darwin we believe.\n",
        "\n",
        "A simple plot can enlighten us."
      ]
    },
    {
      "metadata": {
        "id": "1BKbFTv2fmm8",
        "colab_type": "code",
        "outputId": "3676dc7d-80c2-48b2-f317-772dd87a59da",
        "colab": {
          "base_uri": "https://localhost:8080/",
          "height": 351
        }
      },
      "cell_type": "code",
      "source": [
        "# Plot\n",
        "sns.barplot(df['Embarked'], df['Survived'])"
      ],
      "execution_count": 0,
      "outputs": [
        {
          "output_type": "stream",
          "text": [
            "/usr/local/lib/python3.6/dist-packages/seaborn/categorical.py:1428: FutureWarning: remove_na is deprecated and is a private function. Do not use.\n",
            "  stat_data = remove_na(group_data)\n"
          ],
          "name": "stderr"
        },
        {
          "output_type": "execute_result",
          "data": {
            "text/plain": [
              "<matplotlib.axes._subplots.AxesSubplot at 0x7f3a49aea978>"
            ]
          },
          "metadata": {
            "tags": []
          },
          "execution_count": 191
        },
        {
          "output_type": "display_data",
          "data": {
            "image/png": "[encoded data removed]",
            "text/plain": [
              "<matplotlib.figure.Figure at 0x7f3a49bd7390>"
            ]
          },
          "metadata": {
            "tags": []
          }
        }
      ]
    },
    {
      "metadata": {
        "id": "wnEPvyfurSdS",
        "colab_type": "text"
      },
      "cell_type": "markdown",
      "source": [
        "Ups... It seems that people embarking on C were selected by a superior entity to survive. This is strange and may be hidding some relationship that is not obvious with this plot (e.g. people embarking on C were mostly women).\n",
        "\n",
        "Let's dive deeper."
      ]
    },
    {
      "metadata": {
        "id": "_EPZIAWxgFIk",
        "colab_type": "code",
        "outputId": "f1e5507a-e37f-4126-c723-2c21154b9500",
        "colab": {
          "base_uri": "https://localhost:8080/",
          "height": 168
        }
      },
      "cell_type": "code",
      "source": [
        "# Compare with other variables\n",
        "df.groupby(['Embarked']).mean()"
      ],
      "execution_count": 0,
      "outputs": [
        {
          "output_type": "execute_result",
          "data": {
            "text/html": [
              "<div>\n",
              "<style scoped>\n",
              "    .dataframe tbody tr th:only-of-type {\n",
              "        vertical-align: middle;\n",
              "    }\n",
              "\n",
              "    .dataframe tbody tr th {\n",
              "        vertical-align: top;\n",
              "    }\n",
              "\n",
              "    .dataframe thead th {\n",
              "        text-align: right;\n",
              "    }\n",
              "</style>\n",
              "<table border=\"1\" class=\"dataframe\">\n",
              "  <thead>\n",
              "    <tr style=\"text-align: right;\">\n",
              "      <th></th>\n",
              "      <th>PassengerId</th>\n",
              "      <th>Survived</th>\n",
              "      <th>Pclass</th>\n",
              "      <th>Fare</th>\n",
              "      <th>FamilySize</th>\n",
              "      <th>Imputed</th>\n",
              "    </tr>\n",
              "    <tr>\n",
              "      <th>Embarked</th>\n",
              "      <th></th>\n",
              "      <th></th>\n",
              "      <th></th>\n",
              "      <th></th>\n",
              "      <th></th>\n",
              "      <th></th>\n",
              "    </tr>\n",
              "  </thead>\n",
              "  <tbody>\n",
              "    <tr>\n",
              "      <th>C</th>\n",
              "      <td>445.357143</td>\n",
              "      <td>0.553571</td>\n",
              "      <td>1.886905</td>\n",
              "      <td>59.954144</td>\n",
              "      <td>0.750000</td>\n",
              "      <td>0.0</td>\n",
              "    </tr>\n",
              "    <tr>\n",
              "      <th>Q</th>\n",
              "      <td>417.896104</td>\n",
              "      <td>0.389610</td>\n",
              "      <td>2.909091</td>\n",
              "      <td>13.276030</td>\n",
              "      <td>0.597403</td>\n",
              "      <td>0.0</td>\n",
              "    </tr>\n",
              "    <tr>\n",
              "      <th>S</th>\n",
              "      <td>449.527950</td>\n",
              "      <td>0.336957</td>\n",
              "      <td>2.350932</td>\n",
              "      <td>27.079812</td>\n",
              "      <td>0.984472</td>\n",
              "      <td>0.0</td>\n",
              "    </tr>\n",
              "  </tbody>\n",
              "</table>\n",
              "</div>"
            ],
            "text/plain": [
              "          PassengerId  Survived    Pclass       Fare  FamilySize  Imputed\n",
              "Embarked                                                                 \n",
              "C          445.357143  0.553571  1.886905  59.954144    0.750000      0.0\n",
              "Q          417.896104  0.389610  2.909091  13.276030    0.597403      0.0\n",
              "S          449.527950  0.336957  2.350932  27.079812    0.984472      0.0"
            ]
          },
          "metadata": {
            "tags": []
          },
          "execution_count": 192
        }
      ]
    },
    {
      "metadata": {
        "id": "9-7baWsNrcVO",
        "colab_type": "text"
      },
      "cell_type": "markdown",
      "source": [
        "It seems that people embarking on C were paying more and travelling in a better class than people embarking on Q and S."
      ]
    },
    {
      "metadata": {
        "id": "Sh2PVxY_gcaL",
        "colab_type": "code",
        "outputId": "47e6cde2-92ce-4830-e288-7a6dacf4bd30",
        "colab": {
          "base_uri": "https://localhost:8080/",
          "height": 207
        }
      },
      "cell_type": "code",
      "source": [
        "# Relationship with age\n",
        "df.groupby(['Embarked', 'Age'])['PassengerId'].count()"
      ],
      "execution_count": 0,
      "outputs": [
        {
          "output_type": "execute_result",
          "data": {
            "text/plain": [
              "Embarked  Age  \n",
              "C         Child     13\n",
              "          Adult    140\n",
              "          Elder     15\n",
              "Q         Child      4\n",
              "          Adult     70\n",
              "          Elder      3\n",
              "S         Child     56\n",
              "          Adult    543\n",
              "          Elder     45\n",
              "Name: PassengerId, dtype: int64"
            ]
          },
          "metadata": {
            "tags": []
          },
          "execution_count": 193
        }
      ]
    },
    {
      "metadata": {
        "id": "QHZajQCorg6d",
        "colab_type": "text"
      },
      "cell_type": "markdown",
      "source": [
        "No significant differences can be found."
      ]
    },
    {
      "metadata": {
        "id": "LGwjFp6Xg80U",
        "colab_type": "code",
        "outputId": "11dcd269-4e74-416b-f727-a24414173f49",
        "colab": {
          "base_uri": "https://localhost:8080/",
          "height": 155
        }
      },
      "cell_type": "code",
      "source": [
        "# Relationship with sex\n",
        "df.groupby(['Embarked', 'Sex'])['PassengerId'].count()"
      ],
      "execution_count": 0,
      "outputs": [
        {
          "output_type": "execute_result",
          "data": {
            "text/plain": [
              "Embarked  Sex   \n",
              "C         female     73\n",
              "          male       95\n",
              "Q         female     36\n",
              "          male       41\n",
              "S         female    203\n",
              "          male      441\n",
              "Name: PassengerId, dtype: int64"
            ]
          },
          "metadata": {
            "tags": []
          },
          "execution_count": 194
        }
      ]
    },
    {
      "metadata": {
        "id": "rQcR8KclrnIQ",
        "colab_type": "text"
      },
      "cell_type": "markdown",
      "source": [
        "No significant differences can be found.\n",
        "\n",
        "Considering the results above, I feel tempted to say that the embarkment point doesn't influence the survival rate. What really seems to be influencing is the class where people were travelling and how much they were spending.\n",
        "\n",
        "For now, I will not delete the variable because I feel that I'm a little bit biased and trying to force a conclusion. However, let's keep in mind that maybe 'Embarked' doesn't affect 'Survived'."
      ]
    },
    {
      "metadata": {
        "id": "A8xZFrOYrqlp",
        "colab_type": "text"
      },
      "cell_type": "markdown",
      "source": [
        "**2.3. Feature extraction**\n",
        "\n",
        "Feature extraction is our technological insight in machine learning. It addresses the problem of attaining the most informative and compact set of features, to improve the performance of machine learning models. Let's go step-by-step. First, we are talking about 'informative'. This means that we are looking for features that can characterize the behaviour of what we are trying to model. For instance, if we want to model the weather, features like temperature, humidity and wind are informative (they are related to the problem). By contrast, the result of a football game will not be an informative feature because it doesn't affect the weather.\n",
        "\n",
        "Regarding 'compact', what we mean is that we want to exclude irrelevant features from our model. There are several reasons to exclude irrelevant features. In our case, I'd say that the most important is to reduce overfitting. Taking the weather example again: we know that football scores do not affect weather, but suppose that all rain instances in our training set happen to occur after a Benfica victory. Then, our model might learn that rain is related to Benfica's victories, which is not true. Such an incorrect generalization from an irrelevant feature of the training set would result in a machine learning model that fits a particular set of data, but fails to predict future observations reliably (overfitting).\n",
        "\n",
        "These two main issues are addressed in the following sub-sections:\n",
        "\n",
        "- Feature engineering, which is related to the generation of informative features;\n",
        "- Feature selection, which regards the choice of a compact set of features."
      ]
    },
    {
      "metadata": {
        "id": "eit9j4Rvr7z4",
        "colab_type": "text"
      },
      "cell_type": "markdown",
      "source": [
        "*2.3.1. Feature engineering*\n",
        "\n",
        "Feature engineering is the art of converting raw data into useful features. There are several feature engineering techniques that you can apply to be an artist. A comprehensive list of them is presented by Heaton (2016). We will use just two techniques:\n",
        "\n",
        "- Box-Cox transformations (Box & Cox 1964);\n",
        "- Polynomials generation through non-linear expansions.\n",
        "Before the application of these techniques, we will just make some adjustments to the data, in order to prepare it for the modelling process."
      ]
    },
    {
      "metadata": {
        "id": "deIHGYZtsjbO",
        "colab_type": "text"
      },
      "cell_type": "markdown",
      "source": [
        "**Data preparation**"
      ]
    },
    {
      "metadata": {
        "id": "U4tDyNj6hvCC",
        "colab_type": "code",
        "colab": {}
      },
      "cell_type": "code",
      "source": [
        "# Drop feature\n",
        "df.drop(['PassengerId'], axis=1, inplace=True)"
      ],
      "execution_count": 0,
      "outputs": []
    },
    {
      "metadata": {
        "id": "ULLI45Tniwn0",
        "colab_type": "code",
        "outputId": "881d55fe-1375-474d-b1b3-5d10b0e3c70a",
        "colab": {
          "base_uri": "https://localhost:8080/",
          "height": 190
        }
      },
      "cell_type": "code",
      "source": [
        "# Check feature types\n",
        "df.dtypes"
      ],
      "execution_count": 0,
      "outputs": [
        {
          "output_type": "execute_result",
          "data": {
            "text/plain": [
              "Survived         int64\n",
              "Pclass           int64\n",
              "Sex           category\n",
              "Age           category\n",
              "Fare           float64\n",
              "Embarked        object\n",
              "FamilySize       int64\n",
              "Title         category\n",
              "Imputed          int64\n",
              "dtype: object"
            ]
          },
          "metadata": {
            "tags": []
          },
          "execution_count": 196
        }
      ]
    },
    {
      "metadata": {
        "id": "GWHWLCbVi11b",
        "colab_type": "code",
        "outputId": "f70cbcbf-4b25-4d60-d7cb-4ea8699bc690",
        "colab": {
          "base_uri": "https://localhost:8080/",
          "height": 190
        }
      },
      "cell_type": "code",
      "source": [
        "# Transform object into categorical\n",
        "df['Embarked'] = pd.Categorical(df['Embarked'])\n",
        "df['Pclass'] = pd.Categorical(df['Pclass'])\n",
        "df.dtypes"
      ],
      "execution_count": 0,
      "outputs": [
        {
          "output_type": "execute_result",
          "data": {
            "text/plain": [
              "Survived         int64\n",
              "Pclass        category\n",
              "Sex           category\n",
              "Age           category\n",
              "Fare           float64\n",
              "Embarked      category\n",
              "FamilySize       int64\n",
              "Title         category\n",
              "Imputed          int64\n",
              "dtype: object"
            ]
          },
          "metadata": {
            "tags": []
          },
          "execution_count": 197
        }
      ]
    },
    {
      "metadata": {
        "id": "tbkfX6nVjHbS",
        "colab_type": "code",
        "outputId": "d1ace989-4a2f-424f-d0cd-5faf8df7bdcf",
        "colab": {
          "base_uri": "https://localhost:8080/",
          "height": 218
        }
      },
      "cell_type": "code",
      "source": [
        "# Transform categorical features into dumy variable\n",
        "df = pd.get_dummies(df, drop_first=True)\n",
        "df.head()"
      ],
      "execution_count": 0,
      "outputs": [
        {
          "output_type": "execute_result",
          "data": {
            "text/html": [
              "<div>\n",
              "<style scoped>\n",
              "    .dataframe tbody tr th:only-of-type {\n",
              "        vertical-align: middle;\n",
              "    }\n",
              "\n",
              "    .dataframe tbody tr th {\n",
              "        vertical-align: top;\n",
              "    }\n",
              "\n",
              "    .dataframe thead th {\n",
              "        text-align: right;\n",
              "    }\n",
              "</style>\n",
              "<table border=\"1\" class=\"dataframe\">\n",
              "  <thead>\n",
              "    <tr style=\"text-align: right;\">\n",
              "      <th></th>\n",
              "      <th>Survived</th>\n",
              "      <th>Fare</th>\n",
              "      <th>FamilySize</th>\n",
              "      <th>Imputed</th>\n",
              "      <th>Pclass_2</th>\n",
              "      <th>Pclass_3</th>\n",
              "      <th>Sex_male</th>\n",
              "      <th>Age_Adult</th>\n",
              "      <th>Age_Elder</th>\n",
              "      <th>Embarked_Q</th>\n",
              "      <th>Embarked_S</th>\n",
              "      <th>Title_Miss</th>\n",
              "      <th>Title_Mr</th>\n",
              "      <th>Title_Mrs</th>\n",
              "      <th>Title_Other</th>\n",
              "    </tr>\n",
              "  </thead>\n",
              "  <tbody>\n",
              "    <tr>\n",
              "      <th>0</th>\n",
              "      <td>0</td>\n",
              "      <td>7.2500</td>\n",
              "      <td>1</td>\n",
              "      <td>0</td>\n",
              "      <td>0</td>\n",
              "      <td>1</td>\n",
              "      <td>1</td>\n",
              "      <td>1</td>\n",
              "      <td>0</td>\n",
              "      <td>0</td>\n",
              "      <td>1</td>\n",
              "      <td>0</td>\n",
              "      <td>1</td>\n",
              "      <td>0</td>\n",
              "      <td>0</td>\n",
              "    </tr>\n",
              "    <tr>\n",
              "      <th>1</th>\n",
              "      <td>1</td>\n",
              "      <td>71.2833</td>\n",
              "      <td>1</td>\n",
              "      <td>0</td>\n",
              "      <td>0</td>\n",
              "      <td>0</td>\n",
              "      <td>0</td>\n",
              "      <td>1</td>\n",
              "      <td>0</td>\n",
              "      <td>0</td>\n",
              "      <td>0</td>\n",
              "      <td>0</td>\n",
              "      <td>0</td>\n",
              "      <td>1</td>\n",
              "      <td>0</td>\n",
              "    </tr>\n",
              "    <tr>\n",
              "      <th>2</th>\n",
              "      <td>1</td>\n",
              "      <td>7.9250</td>\n",
              "      <td>0</td>\n",
              "      <td>0</td>\n",
              "      <td>0</td>\n",
              "      <td>1</td>\n",
              "      <td>0</td>\n",
              "      <td>1</td>\n",
              "      <td>0</td>\n",
              "      <td>0</td>\n",
              "      <td>1</td>\n",
              "      <td>1</td>\n",
              "      <td>0</td>\n",
              "      <td>0</td>\n",
              "      <td>0</td>\n",
              "    </tr>\n",
              "    <tr>\n",
              "      <th>3</th>\n",
              "      <td>1</td>\n",
              "      <td>53.1000</td>\n",
              "      <td>1</td>\n",
              "      <td>0</td>\n",
              "      <td>0</td>\n",
              "      <td>0</td>\n",
              "      <td>0</td>\n",
              "      <td>1</td>\n",
              "      <td>0</td>\n",
              "      <td>0</td>\n",
              "      <td>1</td>\n",
              "      <td>0</td>\n",
              "      <td>0</td>\n",
              "      <td>1</td>\n",
              "      <td>0</td>\n",
              "    </tr>\n",
              "    <tr>\n",
              "      <th>4</th>\n",
              "      <td>0</td>\n",
              "      <td>8.0500</td>\n",
              "      <td>0</td>\n",
              "      <td>0</td>\n",
              "      <td>0</td>\n",
              "      <td>1</td>\n",
              "      <td>1</td>\n",
              "      <td>1</td>\n",
              "      <td>0</td>\n",
              "      <td>0</td>\n",
              "      <td>1</td>\n",
              "      <td>0</td>\n",
              "      <td>1</td>\n",
              "      <td>0</td>\n",
              "      <td>0</td>\n",
              "    </tr>\n",
              "  </tbody>\n",
              "</table>\n",
              "</div>"
            ],
            "text/plain": [
              "   Survived     Fare  FamilySize  Imputed  Pclass_2  Pclass_3  Sex_male  \\\n",
              "0         0   7.2500           1        0         0         1         1   \n",
              "1         1  71.2833           1        0         0         0         0   \n",
              "2         1   7.9250           0        0         0         1         0   \n",
              "3         1  53.1000           1        0         0         0         0   \n",
              "4         0   8.0500           0        0         0         1         1   \n",
              "\n",
              "   Age_Adult  Age_Elder  Embarked_Q  Embarked_S  Title_Miss  Title_Mr  \\\n",
              "0          1          0           0           1           0         1   \n",
              "1          1          0           0           0           0         0   \n",
              "2          1          0           0           1           1         0   \n",
              "3          1          0           0           1           0         0   \n",
              "4          1          0           0           1           0         1   \n",
              "\n",
              "   Title_Mrs  Title_Other  \n",
              "0          0            0  \n",
              "1          1            0  \n",
              "2          0            0  \n",
              "3          1            0  \n",
              "4          0            0  "
            ]
          },
          "metadata": {
            "tags": []
          },
          "execution_count": 198
        }
      ]
    },
    {
      "metadata": {
        "id": "fw8m49YPjmdq",
        "colab_type": "code",
        "colab": {}
      },
      "cell_type": "code",
      "source": [
        "# Get training and test set\n",
        "X = df.loc[:, df.columns != 'Survived']\n",
        "y = df['Survived']\n",
        "\n",
        "X_train, X_test, y_train, y_test = train_test_split(X, y, test_size=0.2, random_state=1)"
      ],
      "execution_count": 0,
      "outputs": []
    },
    {
      "metadata": {
        "id": "QFrYDf9Ps0eE",
        "colab_type": "text"
      },
      "cell_type": "markdown",
      "source": [
        "**Box-Cox transformations**\n",
        "\n",
        "Box-Cox transformations aim to normalize variables. These transformations are an alternative to the typical transformations, such as square root transformations, log transformations, and inverse transformations. The main advantage of Box-Cox transformations is that they optimally normalize the chosen variable. Thus, they avoid the need to randomly try different transformations and automatize the data transformation process."
      ]
    },
    {
      "metadata": {
        "id": "nTAXnE_5kz0S",
        "colab_type": "code",
        "colab": {}
      },
      "cell_type": "code",
      "source": [
        "# Apply Box-Cox transformation\n",
        "from scipy.stats import boxcox\n",
        "\n",
        "X_train_transformed = X_train.copy()\n",
        "X_train_transformed['Fare'] = boxcox(X_train_transformed['Fare'] + 1)[0]\n",
        "X_test_transformed = X_train.copy()\n",
        "X_test_transformed['Fare'] = boxcox(X_test_transformed['Fare'] + 1)[0]"
      ],
      "execution_count": 0,
      "outputs": []
    },
    {
      "metadata": {
        "id": "pzFa_jdUs9jQ",
        "colab_type": "text"
      },
      "cell_type": "markdown",
      "source": [
        "**Polynomials**\n",
        "\n",
        "One standard way to enrich our set of features is to generate polynomials. Polynomial expansion creates interactions between features, as well as creates powers (e.g. square of a feature). This way we introduce a nonlinear dimension to our data set, which can improve the predictive power of our model.\n",
        "\n",
        "We should scale our features when we have polynomial or interaction terms in our model. These terms tend to produce multicollinearity, which can make our estimates very sensitive to minor changes in the model. Scaling features to a range allow us to reduce multicollinearity and its problems.\n",
        "\n",
        "To scale the features, we will transform the data so that it lies between a given minimum and maximum value. We will follow the common practice and say that our minimum value is zero, and our maximum value is one."
      ]
    },
    {
      "metadata": {
        "id": "69HJYM7rnUbw",
        "colab_type": "code",
        "colab": {}
      },
      "cell_type": "code",
      "source": [
        "# Rescale data\n",
        "from sklearn.preprocessing import MinMaxScaler\n",
        "\n",
        "scaler = MinMaxScaler()\n",
        "X_train_transformed_scaled = scaler.fit_transform(X_train_transformed)\n",
        "X_test_transformed_scaled = scaler.transform(X_test_transformed)"
      ],
      "execution_count": 0,
      "outputs": []
    },
    {
      "metadata": {
        "id": "qktN_xZCmvqQ",
        "colab_type": "code",
        "colab": {}
      },
      "cell_type": "code",
      "source": [
        "# Get polynomial features\n",
        "from sklearn.preprocessing import PolynomialFeatures\n",
        "\n",
        "poly = PolynomialFeatures(degree=2).fit(X_train_transformed)\n",
        "X_train_poly = poly.transform(X_train_transformed_scaled)\n",
        "X_test_poly = poly.transform(X_test_transformed_scaled)"
      ],
      "execution_count": 0,
      "outputs": []
    },
    {
      "metadata": {
        "id": "aYQZSfqvo01w",
        "colab_type": "code",
        "outputId": "88a9e224-76e7-4a9f-88cd-b75b25b4b75e",
        "colab": {
          "base_uri": "https://localhost:8080/",
          "height": 54
        }
      },
      "cell_type": "code",
      "source": [
        "# Debug\n",
        "print(poly.get_feature_names())"
      ],
      "execution_count": 0,
      "outputs": [
        {
          "output_type": "stream",
          "text": [
            "['1', 'x0', 'x1', 'x2', 'x3', 'x4', 'x5', 'x6', 'x7', 'x8', 'x9', 'x10', 'x11', 'x12', 'x13', 'x0^2', 'x0 x1', 'x0 x2', 'x0 x3', 'x0 x4', 'x0 x5', 'x0 x6', 'x0 x7', 'x0 x8', 'x0 x9', 'x0 x10', 'x0 x11', 'x0 x12', 'x0 x13', 'x1^2', 'x1 x2', 'x1 x3', 'x1 x4', 'x1 x5', 'x1 x6', 'x1 x7', 'x1 x8', 'x1 x9', 'x1 x10', 'x1 x11', 'x1 x12', 'x1 x13', 'x2^2', 'x2 x3', 'x2 x4', 'x2 x5', 'x2 x6', 'x2 x7', 'x2 x8', 'x2 x9', 'x2 x10', 'x2 x11', 'x2 x12', 'x2 x13', 'x3^2', 'x3 x4', 'x3 x5', 'x3 x6', 'x3 x7', 'x3 x8', 'x3 x9', 'x3 x10', 'x3 x11', 'x3 x12', 'x3 x13', 'x4^2', 'x4 x5', 'x4 x6', 'x4 x7', 'x4 x8', 'x4 x9', 'x4 x10', 'x4 x11', 'x4 x12', 'x4 x13', 'x5^2', 'x5 x6', 'x5 x7', 'x5 x8', 'x5 x9', 'x5 x10', 'x5 x11', 'x5 x12', 'x5 x13', 'x6^2', 'x6 x7', 'x6 x8', 'x6 x9', 'x6 x10', 'x6 x11', 'x6 x12', 'x6 x13', 'x7^2', 'x7 x8', 'x7 x9', 'x7 x10', 'x7 x11', 'x7 x12', 'x7 x13', 'x8^2', 'x8 x9', 'x8 x10', 'x8 x11', 'x8 x12', 'x8 x13', 'x9^2', 'x9 x10', 'x9 x11', 'x9 x12', 'x9 x13', 'x10^2', 'x10 x11', 'x10 x12', 'x10 x13', 'x11^2', 'x11 x12', 'x11 x13', 'x12^2', 'x12 x13', 'x13^2']\n"
          ],
          "name": "stdout"
        }
      ]
    },
    {
      "metadata": {
        "id": "uvTMYlm_tUzt",
        "colab_type": "text"
      },
      "cell_type": "markdown",
      "source": [
        "*2.3.2. Feature selection*\n",
        "\n",
        "The next step is to perform feature selection. Feature selection is about chosing the relevant information. It is good to add and generate features, but at some point we need to exclude irrelevant features. Otherwise, we will be penalizing the predictive power of our model. You can find a concise introduction to the feature selection subject in Guyon & Elisseeff (2003).\n",
        "\n",
        "In this work, we will use a univariate statistics approach. This approach selects features based on univariate statistical tests between each feature and the target variable. The intuition is that features that are independent from the target variable, are irrelevant for classification.\n",
        "\n",
        "We will use the chi-squared test for feature selection. This means that we have to choose the number of features that we want in the model. For example, if we want to have three features in our model, the method will select the three features with highest  χ2  score.\n",
        "\n",
        "Since we don't know the ideal number of features, we will test the method with all the possible number of features and choose the number of features with better performance.\n",
        "\n",
        "**Univariate statistics**"
      ]
    },
    {
      "metadata": {
        "id": "BYGD-opApl-v",
        "colab_type": "code",
        "outputId": "da8e9732-1599-404a-c628-82876b117626",
        "colab": {
          "base_uri": "https://localhost:8080/",
          "height": 2125
        }
      },
      "cell_type": "code",
      "source": [
        "# Select feature using chi-square test\n",
        "from sklearn.feature_selection import SelectKBest\n",
        "from sklearn.feature_selection import chi2\n",
        "\n",
        "# Get score using original model\n",
        "logreg = LogisticRegression(C=1)\n",
        "logreg.fit(X_train, y_train)\n",
        "scores = cross_val_score(logreg, X_train, y_train, cv=10)\n",
        "print('CV accuracy (original): %.3f +/- %.3f' % (np.mean(scores), np.std(scores)))\n",
        "highest_score = np.mean(scores)\n",
        "\n",
        "# Get score using model with feature selection\n",
        "for i in range(1, X_train_poly.shape[1] +1, 1):\n",
        "  # Select i features\n",
        "  select = SelectKBest(score_func=chi2, k=i)\n",
        "  select.fit(X_train_poly, y_train)\n",
        "  X_train_poly_selected = select.transform(X_train_poly)\n",
        "  \n",
        "  # Model with i features selected\n",
        "  logreg.fit(X_train_poly_selected, y_train)\n",
        "  scores = cross_val_score(logreg, X_train_poly_selected, y_train, cv=10)\n",
        "  print('CV accuracy (number of features = %i): %.3f +/- %.3f' % (i, np.mean(scores), np.std(scores)))\n",
        "  \n",
        "  # Save results if best score\n",
        "  if np.mean(scores) > highest_score:\n",
        "    highest_score = np.mean(scores)\n",
        "    std = np.std(scores)\n",
        "    k_features_highest_score = i\n",
        "  elif np.mean(scores) == highest_score:\n",
        "    if np.std(scores) < std:\n",
        "      highest_score = np.mean(scores)\n",
        "      std = np.std(scores)\n",
        "      k_features_highest_score = i\n",
        "# Print the number of features\n",
        "print('Number of features when highest score: %i' % k_features_highest_score)"
      ],
      "execution_count": 0,
      "outputs": [
        {
          "output_type": "stream",
          "text": [
            "CV accuracy (original): 0.826 +/- 0.030\n",
            "CV accuracy (number of features = 1): 0.792 +/- 0.041\n",
            "CV accuracy (number of features = 2): 0.792 +/- 0.041\n",
            "CV accuracy (number of features = 3): 0.792 +/- 0.041\n",
            "CV accuracy (number of features = 4): 0.792 +/- 0.041\n",
            "CV accuracy (number of features = 5): 0.792 +/- 0.042\n",
            "CV accuracy (number of features = 6): 0.791 +/- 0.040\n",
            "CV accuracy (number of features = 7): 0.791 +/- 0.040\n",
            "CV accuracy (number of features = 8): 0.792 +/- 0.042\n",
            "CV accuracy (number of features = 9): 0.792 +/- 0.042\n",
            "CV accuracy (number of features = 10): 0.781 +/- 0.031\n",
            "CV accuracy (number of features = 11): 0.789 +/- 0.030\n",
            "CV accuracy (number of features = 12): 0.791 +/- 0.028\n",
            "CV accuracy (number of features = 13): 0.791 +/- 0.030\n",
            "CV accuracy (number of features = 14): 0.791 +/- 0.030\n",
            "CV accuracy (number of features = 15): 0.791 +/- 0.030\n",
            "CV accuracy (number of features = 16): 0.791 +/- 0.030\n",
            "CV accuracy (number of features = 17): 0.791 +/- 0.030\n",
            "CV accuracy (number of features = 18): 0.791 +/- 0.030\n",
            "CV accuracy (number of features = 19): 0.820 +/- 0.019\n",
            "CV accuracy (number of features = 20): 0.820 +/- 0.019\n",
            "CV accuracy (number of features = 21): 0.817 +/- 0.028\n",
            "CV accuracy (number of features = 22): 0.817 +/- 0.028\n",
            "CV accuracy (number of features = 23): 0.816 +/- 0.027\n",
            "CV accuracy (number of features = 24): 0.816 +/- 0.027\n",
            "CV accuracy (number of features = 25): 0.812 +/- 0.025\n",
            "CV accuracy (number of features = 26): 0.827 +/- 0.036\n",
            "CV accuracy (number of features = 27): 0.827 +/- 0.036\n",
            "CV accuracy (number of features = 28): 0.829 +/- 0.036\n",
            "CV accuracy (number of features = 29): 0.826 +/- 0.036\n",
            "CV accuracy (number of features = 30): 0.817 +/- 0.034\n",
            "CV accuracy (number of features = 31): 0.817 +/- 0.034\n",
            "CV accuracy (number of features = 32): 0.822 +/- 0.035\n",
            "CV accuracy (number of features = 33): 0.822 +/- 0.037\n",
            "CV accuracy (number of features = 34): 0.826 +/- 0.034\n",
            "CV accuracy (number of features = 35): 0.834 +/- 0.028\n",
            "CV accuracy (number of features = 36): 0.834 +/- 0.028\n",
            "CV accuracy (number of features = 37): 0.836 +/- 0.027\n",
            "CV accuracy (number of features = 38): 0.834 +/- 0.026\n",
            "CV accuracy (number of features = 39): 0.834 +/- 0.026\n",
            "CV accuracy (number of features = 40): 0.834 +/- 0.026\n",
            "CV accuracy (number of features = 41): 0.834 +/- 0.026\n",
            "CV accuracy (number of features = 42): 0.834 +/- 0.026\n",
            "CV accuracy (number of features = 43): 0.834 +/- 0.026\n",
            "CV accuracy (number of features = 44): 0.834 +/- 0.026\n",
            "CV accuracy (number of features = 45): 0.833 +/- 0.026\n",
            "CV accuracy (number of features = 46): 0.833 +/- 0.026\n",
            "CV accuracy (number of features = 47): 0.833 +/- 0.026\n",
            "CV accuracy (number of features = 48): 0.833 +/- 0.026\n",
            "CV accuracy (number of features = 49): 0.833 +/- 0.026\n",
            "CV accuracy (number of features = 50): 0.833 +/- 0.026\n",
            "CV accuracy (number of features = 51): 0.837 +/- 0.030\n",
            "CV accuracy (number of features = 52): 0.839 +/- 0.028\n",
            "CV accuracy (number of features = 53): 0.837 +/- 0.027\n",
            "CV accuracy (number of features = 54): 0.837 +/- 0.027\n",
            "CV accuracy (number of features = 55): 0.834 +/- 0.028\n",
            "CV accuracy (number of features = 56): 0.836 +/- 0.029\n",
            "CV accuracy (number of features = 57): 0.836 +/- 0.026\n",
            "CV accuracy (number of features = 58): 0.836 +/- 0.026\n",
            "CV accuracy (number of features = 59): 0.839 +/- 0.026\n",
            "CV accuracy (number of features = 60): 0.837 +/- 0.023\n",
            "CV accuracy (number of features = 61): 0.839 +/- 0.026\n",
            "CV accuracy (number of features = 62): 0.839 +/- 0.026\n",
            "CV accuracy (number of features = 63): 0.839 +/- 0.026\n",
            "CV accuracy (number of features = 64): 0.839 +/- 0.026\n",
            "CV accuracy (number of features = 65): 0.837 +/- 0.023\n",
            "CV accuracy (number of features = 66): 0.837 +/- 0.023\n",
            "CV accuracy (number of features = 67): 0.839 +/- 0.023\n",
            "CV accuracy (number of features = 68): 0.837 +/- 0.023\n",
            "CV accuracy (number of features = 69): 0.837 +/- 0.023\n",
            "CV accuracy (number of features = 70): 0.837 +/- 0.023\n",
            "CV accuracy (number of features = 71): 0.839 +/- 0.024\n",
            "CV accuracy (number of features = 72): 0.841 +/- 0.027\n",
            "CV accuracy (number of features = 73): 0.841 +/- 0.023\n",
            "CV accuracy (number of features = 74): 0.839 +/- 0.021\n",
            "CV accuracy (number of features = 75): 0.837 +/- 0.019\n",
            "CV accuracy (number of features = 76): 0.837 +/- 0.019\n",
            "CV accuracy (number of features = 77): 0.837 +/- 0.019\n",
            "CV accuracy (number of features = 78): 0.837 +/- 0.019\n",
            "CV accuracy (number of features = 79): 0.837 +/- 0.019\n",
            "CV accuracy (number of features = 80): 0.836 +/- 0.018\n",
            "CV accuracy (number of features = 81): 0.836 +/- 0.018\n",
            "CV accuracy (number of features = 82): 0.836 +/- 0.018\n",
            "CV accuracy (number of features = 83): 0.837 +/- 0.020\n",
            "CV accuracy (number of features = 84): 0.837 +/- 0.020\n",
            "CV accuracy (number of features = 85): 0.837 +/- 0.020\n",
            "CV accuracy (number of features = 86): 0.836 +/- 0.022\n",
            "CV accuracy (number of features = 87): 0.836 +/- 0.022\n",
            "CV accuracy (number of features = 88): 0.836 +/- 0.022\n",
            "CV accuracy (number of features = 89): 0.836 +/- 0.022\n",
            "CV accuracy (number of features = 90): 0.836 +/- 0.022\n",
            "CV accuracy (number of features = 91): 0.839 +/- 0.022\n",
            "CV accuracy (number of features = 92): 0.839 +/- 0.022\n",
            "CV accuracy (number of features = 93): 0.839 +/- 0.026\n",
            "CV accuracy (number of features = 94): 0.839 +/- 0.026\n",
            "CV accuracy (number of features = 95): 0.839 +/- 0.026\n",
            "CV accuracy (number of features = 96): 0.839 +/- 0.026\n",
            "CV accuracy (number of features = 97): 0.839 +/- 0.026\n",
            "CV accuracy (number of features = 98): 0.839 +/- 0.026\n",
            "CV accuracy (number of features = 99): 0.839 +/- 0.026\n",
            "CV accuracy (number of features = 100): 0.839 +/- 0.026\n",
            "CV accuracy (number of features = 101): 0.839 +/- 0.026\n",
            "CV accuracy (number of features = 102): 0.839 +/- 0.026\n",
            "CV accuracy (number of features = 103): 0.839 +/- 0.026\n",
            "CV accuracy (number of features = 104): 0.839 +/- 0.026\n",
            "CV accuracy (number of features = 105): 0.839 +/- 0.026\n",
            "CV accuracy (number of features = 106): 0.839 +/- 0.026\n",
            "CV accuracy (number of features = 107): 0.839 +/- 0.026\n",
            "CV accuracy (number of features = 108): 0.839 +/- 0.026\n",
            "CV accuracy (number of features = 109): 0.839 +/- 0.026\n",
            "CV accuracy (number of features = 110): 0.839 +/- 0.026\n",
            "CV accuracy (number of features = 111): 0.839 +/- 0.026\n",
            "CV accuracy (number of features = 112): 0.839 +/- 0.026\n",
            "CV accuracy (number of features = 113): 0.839 +/- 0.026\n",
            "CV accuracy (number of features = 114): 0.839 +/- 0.026\n",
            "CV accuracy (number of features = 115): 0.839 +/- 0.026\n",
            "CV accuracy (number of features = 116): 0.839 +/- 0.026\n",
            "CV accuracy (number of features = 117): 0.839 +/- 0.026\n",
            "CV accuracy (number of features = 118): 0.839 +/- 0.026\n",
            "CV accuracy (number of features = 119): 0.839 +/- 0.026\n",
            "CV accuracy (number of features = 120): 0.839 +/- 0.026\n",
            "Number of features when highest score: 73\n"
          ],
          "name": "stdout"
        }
      ]
    },
    {
      "metadata": {
        "id": "8qmo8NX3uZNV",
        "colab_type": "text"
      },
      "cell_type": "markdown",
      "source": [
        "**3. Unicorn model**\n",
        "\n",
        "Startups use the term 'unicorn' to describe a startup that is valued at one billion dollars or more. Regardless of whether it is a European or American billion, one billion is a big number. Actually, it is so big and rare that when we find startups with such value, we associate them to those mythical creatures that are the unicorns.\n",
        "\n",
        "We've been through a long journey since we started solving this problem. Since our start with a lean model, we've been scaling our startup: we imputed missing data, we performed an exploratory data analysis and we extracted features. We also had to deal with terrible Titanic jokes that take some time to sink in.\n",
        "\n",
        "Now it's time to turn all this work into a highly accurate model, our 'unicorn' model.\n",
        "\n",
        "**3.1. Fit model for best feature combination**"
      ]
    },
    {
      "metadata": {
        "id": "gOSFTyShBler",
        "colab_type": "code",
        "colab": {}
      },
      "cell_type": "code",
      "source": [
        "# Select features\n",
        "select = SelectKBest(score_func=chi2, k=k_features_highest_score)\n",
        "select.fit(X_train_poly, y_train)\n",
        "X_train_poly_selected = select.transform(X_train_poly)"
      ],
      "execution_count": 0,
      "outputs": []
    },
    {
      "metadata": {
        "id": "OBIYkHYyCspz",
        "colab_type": "code",
        "outputId": "9d96ac02-5f2c-44b1-c55f-df0febd3e2d3",
        "colab": {
          "base_uri": "https://localhost:8080/",
          "height": 86
        }
      },
      "cell_type": "code",
      "source": [
        "# Fit model\n",
        "logreg = LogisticRegression(C=1)\n",
        "logreg.fit(X_train_poly_selected, y_train)"
      ],
      "execution_count": 0,
      "outputs": [
        {
          "output_type": "execute_result",
          "data": {
            "text/plain": [
              "LogisticRegression(C=1, class_weight=None, dual=False, fit_intercept=True,\n",
              "          intercept_scaling=1, max_iter=100, multi_class='ovr', n_jobs=1,\n",
              "          penalty='l2', random_state=None, solver='liblinear', tol=0.0001,\n",
              "          verbose=0, warm_start=False)"
            ]
          },
          "metadata": {
            "tags": []
          },
          "execution_count": 205
        }
      ]
    },
    {
      "metadata": {
        "id": "RjCbmLzfC3_z",
        "colab_type": "code",
        "outputId": "bf6e20a5-b07d-4796-bb4f-3e4e8bcee950",
        "colab": {
          "base_uri": "https://localhost:8080/",
          "height": 34
        }
      },
      "cell_type": "code",
      "source": [
        "# Model performance\n",
        "scores = cross_val_score(logreg, X_train_poly_selected, y_train, cv=10)\n",
        "print('CV accurary: %.3f +/- %.3f' % (np.mean(scores), np.std(scores)))"
      ],
      "execution_count": 0,
      "outputs": [
        {
          "output_type": "stream",
          "text": [
            "CV accurary: 0.841 +/- 0.023\n"
          ],
          "name": "stdout"
        }
      ]
    },
    {
      "metadata": {
        "id": "SQ3H2FBnu362",
        "colab_type": "text"
      },
      "cell_type": "markdown",
      "source": [
        "**3.2. Learning curve**"
      ]
    },
    {
      "metadata": {
        "id": "rlGizCmlD3bN",
        "colab_type": "code",
        "outputId": "90715d6d-93bc-4fbb-e44f-527d777e9c21",
        "colab": {
          "base_uri": "https://localhost:8080/",
          "height": 312
        }
      },
      "cell_type": "code",
      "source": [
        "# Plot learning curves\n",
        "title = 'Learning Curves (Logistic Regression)'\n",
        "cv = 10\n",
        "plot_learning_curve(logreg, title, X_train_poly_selected, y_train, ylim=(0.7, 1.01), cv=cv, n_jobs=1)"
      ],
      "execution_count": 0,
      "outputs": [
        {
          "output_type": "execute_result",
          "data": {
            "text/plain": [
              "<module 'matplotlib.pyplot' from '/usr/local/lib/python3.6/dist-packages/matplotlib/pyplot.py'>"
            ]
          },
          "metadata": {
            "tags": []
          },
          "execution_count": 207
        },
        {
          "output_type": "display_data",
          "data": {
            "image/png": "[encoded data removed]",
            "text/plain": [
              "<matplotlib.figure.Figure at 0x7f3a49a627b8>"
            ]
          },
          "metadata": {
            "tags": []
          }
        }
      ]
    },
    {
      "metadata": {
        "id": "7ulHmt_pvH6D",
        "colab_type": "text"
      },
      "cell_type": "markdown",
      "source": [
        "No signs of overfitting or underfitting.\n",
        "\n",
        "**3.3. Validation curve**"
      ]
    },
    {
      "metadata": {
        "id": "VnCEZq7XEgKh",
        "colab_type": "code",
        "outputId": "bae9f714-a58e-463c-d864-265c04fbe3a6",
        "colab": {
          "base_uri": "https://localhost:8080/",
          "height": 283
        }
      },
      "cell_type": "code",
      "source": [
        "# Plot validation curve\n",
        "title = 'Validation Curve (Logistic Regression)'\n",
        "program_name = 'C'\n",
        "param_range = [0.001, 0.01, 0.1, 1.0, 10.0, 100.0]\n",
        "cv = 10\n",
        "plot_validation_curve(estimator=logreg, title=title, X=X_train_poly_selected, y=y_train, param_name=param_name, ylim=(0.5, 1.01), param_range=param_range,)"
      ],
      "execution_count": 0,
      "outputs": [
        {
          "output_type": "display_data",
          "data": {
            "image/png": "[encoded data removed]",
            "text/plain": [
              "<matplotlib.figure.Figure at 0x7f3a499e7198>"
            ]
          },
          "metadata": {
            "tags": []
          }
        }
      ]
    },
    {
      "metadata": {
        "id": "IF4HFwxGvWmV",
        "colab_type": "text"
      },
      "cell_type": "markdown",
      "source": [
        "We used C=1, which is on the edge of overfitting. Regarding underfitting, there are no signs of it since the model performs well.\n",
        "\n",
        "**3.4. Submit predictions**"
      ]
    },
    {
      "metadata": {
        "id": "g3jP0qPcFUkR",
        "colab_type": "code",
        "colab": {}
      },
      "cell_type": "code",
      "source": [
        "# Get test data\n",
        "df = pd.read_csv('drive/My Drive/MACHINE_LEARNING_CODE/DATA_SET/titanic/test.csv')\n",
        "df_raw = df.copy()"
      ],
      "execution_count": 0,
      "outputs": []
    },
    {
      "metadata": {
        "id": "PZS0kKmcFhJC",
        "colab_type": "code",
        "colab": {}
      },
      "cell_type": "code",
      "source": [
        "# Transform data set (based on chapter 2)\n",
        "\n",
        "# 2.2\n",
        "df['FamilySize'] = df['SibSp'] + df['Parch']\n",
        "df.drop(['SibSp', 'Parch', 'Name', 'Ticket', 'Cabin'], axis=1, inplace=True)\n",
        "\n",
        "df['Title'] = 0\n",
        "for i in df:\n",
        "  df['Title'] = df_raw['Name'].str.extract('([A-Za-z]+)\\.', expand=False)\n",
        "df_raw['Title'] = df['Title']\n",
        "means = df_raw.groupby('Title')['Age'].mean()\n",
        "map_means = means.to_dict()\n",
        "# idx_nan_age = df.loc[np.isnan(df['Age'])].index\n",
        "# df['Age'].loc[idx_nan_age] = df['Title'].loc[idx_nan_age].map(map_means)\n",
        "idx_nan_age = df[np.isnan(df['Age'])].index\n",
        "df.loc[idx_nan_age, 'Age'] = df['Title'].loc[idx_nan_age].map(map_means)\n",
        "df['Title'] = df['Title'].map(titles_dict)\n",
        "df['Title'] = pd.Categorical(df['Title'])\n",
        "\n",
        "df['Imputed'] = 0\n",
        "df.at[idx_nan_age.values, 'Imputed'] = 1\n",
        "\n",
        "df['Age'] = pd.cut(df['Age'], bins=[0, 12, 50, 100], labels=['Child', 'Adult', 'Elder'])\n",
        "\n",
        "# 2.3\n",
        "passenger_id = df['PassengerId'].values\n",
        "df.drop('PassengerId', axis=1, inplace=True)\n",
        "df['Embarked'] = pd.Categorical(df['Embarked'])\n",
        "df['Pclass'] = pd.Categorical(df['Pclass'])\n",
        "df = pd.get_dummies(df, drop_first=True)\n",
        "\n",
        "df = df.fillna(df.mean()) # There is one missing value in 'Fare'\n",
        "\n",
        "X = df.loc[:, df.columns != 'Survived']\n",
        "\n",
        "X_transformed = X.copy()\n",
        "X_transformed['Fare'] = boxcox(X_transformed['Fare'] + 1)[0]\n",
        "\n",
        "scaler = MinMaxScaler()\n",
        "X_transformed_scaled = scaler.fit_transform(X_transformed)\n",
        "\n",
        "poly = PolynomialFeatures(degree=2).fit(X_transformed_scaled)\n",
        "X_poly = poly.transform(X_transformed_scaled)\n",
        "\n",
        "X_poly_selected = select.transform(X_poly)"
      ],
      "execution_count": 0,
      "outputs": []
    },
    {
      "metadata": {
        "id": "J-RyNvclLkBv",
        "colab_type": "code",
        "colab": {}
      },
      "cell_type": "code",
      "source": [
        "# Make prediction\n",
        "predictions = logreg.predict(X_poly_selected)"
      ],
      "execution_count": 0,
      "outputs": []
    },
    {
      "metadata": {
        "id": "DG_M27tGMb7p",
        "colab_type": "code",
        "colab": {}
      },
      "cell_type": "code",
      "source": [
        "# Generate submission file\n",
        "submission = pd.DataFrame({'PassengerId': passenger_id,\n",
        "                           'Survived': predictions})\n",
        "submission.to_csv('drive/My Drive/MACHINE_LEARNING_CODE/DATA_SET/titanic/my_submission.csv', index=False)"
      ],
      "execution_count": 0,
      "outputs": []
    },
    {
      "metadata": {
        "id": "BATyj4u2vwnT",
        "colab_type": "text"
      },
      "cell_type": "markdown",
      "source": [
        "**4. Conclusion**\n",
        "\n",
        "As Halevy et al. (2009) noted 'invariably, simple models and a lot of data trump more elaborate models based on less data.' Monica Rogati added that 'better data beats more data'. Based on these principles, the aim of this study was to improve data quality through exploratory data analysis and feature extraction. We didn't use a clever algorithm, but we explored clever techniques to make our data better.\n",
        "\n",
        "My expectation is that after reading this kernel, you can start compiling a cookbook of techniques in exploratory data analysis and feature extraction. These techniques will help you to obtain confidence in your data and engage with any data science problem. Also, the more you use and refine these techniques, the more you'll develop your problem solving intuition."
      ]
    }
  ]
}