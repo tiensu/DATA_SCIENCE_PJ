{
  "nbformat": 4,
  "nbformat_minor": 0,
  "metadata": {
    "colab": {
      "name": "TF:_Linear_Regression.ipynb",
      "version": "0.3.2",
      "provenance": [],
      "include_colab_link": true
    },
    "kernelspec": {
      "name": "python3",
      "display_name": "Python 3"
    }
  },
  "cells": [
    {
      "cell_type": "markdown",
      "metadata": {
        "id": "view-in-github",
        "colab_type": "text"
      },
      "source": [
        "[View in Colaboratory](https://colab.research.google.com/github/tiensu/DATA_SCIENCE_PJ/blob/master/TF__Linear_Regression.ipynb)"
      ]
    },
    {
      "metadata": {
        "id": "d19dZoR_y0AI",
        "colab_type": "code",
        "colab": {}
      },
      "cell_type": "code",
      "source": [
        "\"\"\"Build graph\"\"\"\n",
        "\n",
        "# Import lib\n",
        "import tensorflow as tf\n",
        "import matplotlib.pyplot as plt\n",
        "import numpy as np"
      ],
      "execution_count": 0,
      "outputs": []
    },
    {
      "metadata": {
        "id": "GZ2rht7PzUi-",
        "colab_type": "code",
        "colab": {}
      },
      "cell_type": "code",
      "source": [
        "# Create data\n",
        "X_train = np.asarray([3.3, 4.4, 5.5, 6.71, 6.93, 4.168, 9.779, 6.182, 7.59, 2.167,\n",
        "                      7.042, 10.791, 5.313, 7.997, 5.654, 9.27, 3.1])\n",
        "Y_train = np.asarray([1.7, 2.76, 2.09, 3.19, 1.694, 1.573, 3.366, 2.596, 2.53, 1.221,\n",
        "                      2.827, 3.465, 1.65, 2.904, 2.42, 2.94, 1.3])\n",
        "n_samples = X_train.shape[0] # Lấy số lượng mẫu huấn luyện"
      ],
      "execution_count": 0,
      "outputs": []
    },
    {
      "metadata": {
        "id": "kDx9uLyK2q_P",
        "colab_type": "code",
        "colab": {}
      },
      "cell_type": "code",
      "source": [
        "# Create two placeholders to store data\n",
        "X = tf.placeholder(tf.float32, name='X')\n",
        "Y = tf.placeholder(tf.float32, name='Y')"
      ],
      "execution_count": 0,
      "outputs": []
    },
    {
      "metadata": {
        "id": "KWN3HuwQ3FiG",
        "colab_type": "code",
        "colab": {}
      },
      "cell_type": "code",
      "source": [
        "# Create two variables to store weight and bias\n",
        "w = tf.get_variable('weight', initializer=tf.constant(0.0))\n",
        "b = tf.get_variable('bias', initializer=tf.constant(0.0))"
      ],
      "execution_count": 0,
      "outputs": []
    },
    {
      "metadata": {
        "id": "40hL_gaE3mSd",
        "colab_type": "code",
        "colab": {}
      },
      "cell_type": "code",
      "source": [
        "# Predict model\n",
        "Y_pred = w * X + b"
      ],
      "execution_count": 0,
      "outputs": []
    },
    {
      "metadata": {
        "id": "BzplUWjc3xSt",
        "colab_type": "code",
        "colab": {}
      },
      "cell_type": "code",
      "source": [
        "# Loss function\n",
        "loss = tf.square(Y - Y_pred, name='loss')"
      ],
      "execution_count": 0,
      "outputs": []
    },
    {
      "metadata": {
        "id": "DRSdm9e3Ok1e",
        "colab_type": "code",
        "colab": {}
      },
      "cell_type": "code",
      "source": [
        "# Optimization funtion\n",
        "optimizer = tf.train.GradientDescentOptimizer(learning_rate=0.001).minimize(loss)"
      ],
      "execution_count": 0,
      "outputs": []
    },
    {
      "metadata": {
        "id": "dwcDm23iO8qs",
        "colab_type": "code",
        "colab": {}
      },
      "cell_type": "code",
      "source": [
        "#writer = tf.summary.FileWriter('')\n",
        "writer.close()"
      ],
      "execution_count": 0,
      "outputs": []
    },
    {
      "metadata": {
        "id": "fKpodVtRPU4l",
        "colab_type": "code",
        "colab": {
          "base_uri": "https://localhost:8080/",
          "height": 34
        },
        "outputId": "33ae6efa-a341-4e85-9903-5bcd7b4f7b3a"
      },
      "cell_type": "code",
      "source": [
        "\"\"\"Run the graph\"\"\"\n",
        "with tf.Session() as sess:\n",
        "  sess.run(tf.global_variables_initializer())\n",
        "  for i in range(100):\n",
        "    total_loss = 0\n",
        "    for x, y in zip(X_train, Y_train):\n",
        "      _, _loss = sess.run([optimizer, loss], feed_dict={X: x, Y: y})\n",
        "      total_loss += _loss\n",
        "    #print('Epoch {0}: {1}'.format(i, total_loss/n_samples))\n",
        "  w_out, b_out = sess.run([w, b]) # Get weight and bias value\n",
        "  print(w_out, b_out)"
      ],
      "execution_count": 32,
      "outputs": [
        {
          "output_type": "stream",
          "text": [
            "0.31187806 0.31304958\n"
          ],
          "name": "stdout"
        }
      ]
    },
    {
      "metadata": {
        "id": "djvlogRHRJGy",
        "colab_type": "code",
        "colab": {}
      },
      "cell_type": "code",
      "source": [
        "# Predicted value\n",
        "Y_pred = X_train * w_out + b_out"
      ],
      "execution_count": 0,
      "outputs": []
    },
    {
      "metadata": {
        "id": "bwgrgr3ZTDgE",
        "colab_type": "code",
        "colab": {
          "base_uri": "https://localhost:8080/",
          "height": 311
        },
        "outputId": "75bc8992-87dd-44d0-8db3-332d304d33d9"
      },
      "cell_type": "code",
      "source": [
        "# Compare predicted value and real value\n",
        "for i, j in zip(Y_pred, Y_train):\n",
        "  print(i, '|', j)"
      ],
      "execution_count": 36,
      "outputs": [
        {
          "output_type": "stream",
          "text": [
            "1.3422471672296523 | 1.7\n",
            "1.6853130280971529 | 2.76\n",
            "2.028378888964653 | 2.09\n",
            "2.4057513359189033 | 3.19\n",
            "2.4743645080924033 | 1.694\n",
            "1.6129573192596436 | 1.573\n",
            "3.3629050877392292 | 3.366\n",
            "2.241079722702503 | 2.596\n",
            "2.6802040246129035 | 2.53\n",
            "0.988889330536127 | 1.221\n",
            "2.5092948502898214 | 2.827\n",
            "3.6785256797373296 | 3.465\n",
            "1.9700576926171778 | 1.65\n",
            "2.8071383931338785 | 2.904\n",
            "2.076408109486103 | 2.42\n",
            "3.2041591575741766 | 2.94\n",
            "1.2798715561628342 | 1.3\n"
          ],
          "name": "stdout"
        }
      ]
    },
    {
      "metadata": {
        "id": "YLIXMAyETSQS",
        "colab_type": "code",
        "colab": {
          "base_uri": "https://localhost:8080/",
          "height": 361
        },
        "outputId": "9c5015cb-4ef6-45b5-81c6-1ceb49ebb0d2"
      },
      "cell_type": "code",
      "source": [
        "# Plot\n",
        "plt.plot(X_train, Y_train, 'ro', X_train, Y_pred)\n",
        "#plt.axis([140, 190, 45, 75])\n",
        "plt.xlabel('X')\n",
        "plt.ylabel('Y')\n",
        "plt.show()"
      ],
      "execution_count": 38,
      "outputs": [
        {
          "output_type": "display_data",
          "data": {
            "image/png": "[encoded data removed]",
            "text/plain": [
              "<matplotlib.figure.Figure at 0x7f9b758e5630>"
            ]
          },
          "metadata": {
            "tags": []
          }
        }
      ]
    }
  ]
}