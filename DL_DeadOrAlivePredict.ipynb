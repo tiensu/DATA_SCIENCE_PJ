{
  "nbformat": 4,
  "nbformat_minor": 0,
  "metadata": {
    "colab": {
      "name": "DL_DeadOrAlivePredict.ipynb",
      "version": "0.3.2",
      "provenance": [],
      "include_colab_link": true
    },
    "kernelspec": {
      "name": "python3",
      "display_name": "Python 3"
    }
  },
  "cells": [
    {
      "cell_type": "markdown",
      "metadata": {
        "id": "view-in-github",
        "colab_type": "text"
      },
      "source": [
        "<a href=\"https://colab.research.google.com/github/tiensu/DATA_SCIENCE_PJ/blob/master/DL_DeadOrAlivePredict.ipynb\" target=\"_parent\"><img src=\"https://colab.research.google.com/assets/colab-badge.svg\" alt=\"Open In Colab\"/></a>"
      ]
    },
    {
      "metadata": {
        "id": "FsBdslEA14ig",
        "colab_type": "code",
        "colab": {
          "base_uri": "https://localhost:8080/",
          "height": 124
        },
        "outputId": "2bd42f50-4c76-4c40-b58d-0cd75b282ccc"
      },
      "cell_type": "code",
      "source": [
        "from google.colab import drive\n",
        "drive.mount('/content/drive')"
      ],
      "execution_count": 2,
      "outputs": [
        {
          "output_type": "stream",
          "text": [
            "Go to this URL in a browser: https://accounts.google.com/o/oauth2/auth?client_id=947318989803-6bn6qk8qdgf4n4g3pfee6491hc0brc4i.apps.googleusercontent.com&redirect_uri=urn%3Aietf%3Awg%3Aoauth%3A2.0%3Aoob&scope=email%20https%3A%2F%2Fwww.googleapis.com%2Fauth%2Fdocs.test%20https%3A%2F%2Fwww.googleapis.com%2Fauth%2Fdrive%20https%3A%2F%2Fwww.googleapis.com%2Fauth%2Fdrive.photos.readonly%20https%3A%2F%2Fwww.googleapis.com%2Fauth%2Fpeopleapi.readonly&response_type=code\n",
            "\n",
            "Enter your authorization code:\n",
            "··········\n",
            "Mounted at /content/drive\n"
          ],
          "name": "stdout"
        }
      ]
    },
    {
      "metadata": {
        "id": "Q1oVZWuF16Qe",
        "colab_type": "code",
        "colab": {}
      },
      "cell_type": "code",
      "source": [
        "import pandas as pd\n",
        "import numpy as np\n",
        "import keras\n",
        "\n",
        "from sklearn.model_selection import train_test_split\n",
        "from sklearn.preprocessing import StandardScaler\n",
        "from sklearn.metrics import accuracy_score\n",
        "from keras.models import Sequential\n",
        "from keras.layers import Dense"
      ],
      "execution_count": 0,
      "outputs": []
    },
    {
      "metadata": {
        "id": "MdtHblPG3sd9",
        "colab_type": "code",
        "colab": {}
      },
      "cell_type": "code",
      "source": [
        "# Load data\n",
        "X_data = pd.read_csv('./drive/My Drive/MACHINE_LEARNING_CODE/DATA_SET/game-of-thrones/character-predictions.csv', usecols= [7, 16, 17, 18, 19, 20, 25, 26, 28, 29, 30, 31])\n",
        "y_data = pd.read_csv('./drive/My Drive/MACHINE_LEARNING_CODE/DATA_SET/game-of-thrones/character-predictions.csv', usecols= [32])\n"
      ],
      "execution_count": 0,
      "outputs": []
    },
    {
      "metadata": {
        "id": "ryJuEL-y8Myf",
        "colab_type": "code",
        "colab": {
          "base_uri": "https://localhost:8080/",
          "height": 34
        },
        "outputId": "bd7ce2c3-77bf-4ee8-d758-4f8e056b54d2"
      },
      "cell_type": "code",
      "source": [
        "y_data.shape"
      ],
      "execution_count": 5,
      "outputs": [
        {
          "output_type": "execute_result",
          "data": {
            "text/plain": [
              "(1946, 1)"
            ]
          },
          "metadata": {
            "tags": []
          },
          "execution_count": 5
        }
      ]
    },
    {
      "metadata": {
        "id": "jTSHSjvA4-5M",
        "colab_type": "code",
        "colab": {}
      },
      "cell_type": "code",
      "source": [
        "# Split data\n",
        "X_train, X_test, y_train, y_test = train_test_split(X_data.values, y_data.values, test_size=0.2)"
      ],
      "execution_count": 0,
      "outputs": []
    },
    {
      "metadata": {
        "id": "tb07316i7M0p",
        "colab_type": "code",
        "colab": {}
      },
      "cell_type": "code",
      "source": [
        "# Feature scaling\n",
        "scaler = StandardScaler()\n",
        "X_train = scaler.fit_transform(X_train)\n",
        "X_test = scaler.transform(X_test)"
      ],
      "execution_count": 0,
      "outputs": []
    },
    {
      "metadata": {
        "id": "oyDPqYs_71QA",
        "colab_type": "code",
        "colab": {}
      },
      "cell_type": "code",
      "source": [
        "# Fix random seed for reproducibility\n",
        "seed = 7\n",
        "np.random.seed(7)"
      ],
      "execution_count": 0,
      "outputs": []
    },
    {
      "metadata": {
        "id": "ui90KTcQ8AqS",
        "colab_type": "code",
        "colab": {
          "base_uri": "https://localhost:8080/",
          "height": 276
        },
        "outputId": "758031a6-8d24-4629-da41-7e17a5f5ab53"
      },
      "cell_type": "code",
      "source": [
        "# Cerate model\n",
        "model = Sequential()\n",
        "model.add(Dense(units=15, input_dim=12, activation='relu'))\n",
        "model.add(Dense(units=15, activation='relu'))\n",
        "model.add(Dense(units=15, activation='relu'))\n",
        "model.add(Dense(units=1, activation='sigmoid'))\n",
        "model.summary()"
      ],
      "execution_count": 9,
      "outputs": [
        {
          "output_type": "stream",
          "text": [
            "_________________________________________________________________\n",
            "Layer (type)                 Output Shape              Param #   \n",
            "=================================================================\n",
            "dense_1 (Dense)              (None, 15)                195       \n",
            "_________________________________________________________________\n",
            "dense_2 (Dense)              (None, 15)                240       \n",
            "_________________________________________________________________\n",
            "dense_3 (Dense)              (None, 15)                240       \n",
            "_________________________________________________________________\n",
            "dense_4 (Dense)              (None, 1)                 16        \n",
            "=================================================================\n",
            "Total params: 691\n",
            "Trainable params: 691\n",
            "Non-trainable params: 0\n",
            "_________________________________________________________________\n"
          ],
          "name": "stdout"
        }
      ]
    },
    {
      "metadata": {
        "id": "bJ_E8_w18Gny",
        "colab_type": "code",
        "colab": {}
      },
      "cell_type": "code",
      "source": [
        "# Compile model\n",
        "model.compile(loss='binary_crossentropy', optimizer='adam', metrics=['accuracy'])"
      ],
      "execution_count": 0,
      "outputs": []
    },
    {
      "metadata": {
        "id": "X42J28A8FGW-",
        "colab_type": "code",
        "colab": {}
      },
      "cell_type": "code",
      "source": [
        "# Log for tensorboard graph purpose\n",
        "tbCallback = keras.callbacks.TensorBoard(log_dir='./drive/My Drive/MACHINE_LEARNING_CODE/DATA_SET/game-of-thrones', write_graph=True)"
      ],
      "execution_count": 0,
      "outputs": []
    },
    {
      "metadata": {
        "id": "iJYieJmRGkQp",
        "colab_type": "code",
        "colab": {
          "base_uri": "https://localhost:8080/",
          "height": 3510
        },
        "outputId": "4756ddd0-ec7a-4d1d-f195-2ebb97408ca5"
      },
      "cell_type": "code",
      "source": [
        "# Fit the model\n",
        "model.fit(X_train, y_train, epochs=100, batch_size=50,verbose=1,callbacks=[tbCallback])"
      ],
      "execution_count": 15,
      "outputs": [
        {
          "output_type": "stream",
          "text": [
            "Epoch 1/100\n",
            "1556/1556 [==============================] - 0s 278us/step - loss: 0.6407 - acc: 0.7159\n",
            "Epoch 2/100\n",
            "1556/1556 [==============================] - 0s 30us/step - loss: 0.5722 - acc: 0.7564\n",
            "Epoch 3/100\n",
            "1556/1556 [==============================] - 0s 30us/step - loss: 0.5340 - acc: 0.7635\n",
            "Epoch 4/100\n",
            "1556/1556 [==============================] - 0s 30us/step - loss: 0.5141 - acc: 0.7596\n",
            "Epoch 5/100\n",
            "1556/1556 [==============================] - 0s 31us/step - loss: 0.5009 - acc: 0.7719\n",
            "Epoch 6/100\n",
            "1556/1556 [==============================] - 0s 30us/step - loss: 0.4926 - acc: 0.7738\n",
            "Epoch 7/100\n",
            "1556/1556 [==============================] - 0s 31us/step - loss: 0.4843 - acc: 0.7789\n",
            "Epoch 8/100\n",
            "1556/1556 [==============================] - 0s 33us/step - loss: 0.4793 - acc: 0.7802\n",
            "Epoch 9/100\n",
            "1556/1556 [==============================] - 0s 33us/step - loss: 0.4737 - acc: 0.7841\n",
            "Epoch 10/100\n",
            "1556/1556 [==============================] - 0s 31us/step - loss: 0.4699 - acc: 0.7866\n",
            "Epoch 11/100\n",
            "1556/1556 [==============================] - 0s 30us/step - loss: 0.4654 - acc: 0.7892\n",
            "Epoch 12/100\n",
            "1556/1556 [==============================] - 0s 30us/step - loss: 0.4603 - acc: 0.7943\n",
            "Epoch 13/100\n",
            "1556/1556 [==============================] - 0s 30us/step - loss: 0.4590 - acc: 0.7956\n",
            "Epoch 14/100\n",
            "1556/1556 [==============================] - 0s 30us/step - loss: 0.4542 - acc: 0.7969\n",
            "Epoch 15/100\n",
            "1556/1556 [==============================] - 0s 32us/step - loss: 0.4523 - acc: 0.7976\n",
            "Epoch 16/100\n",
            "1556/1556 [==============================] - 0s 30us/step - loss: 0.4480 - acc: 0.7982\n",
            "Epoch 17/100\n",
            "1556/1556 [==============================] - 0s 29us/step - loss: 0.4454 - acc: 0.7982\n",
            "Epoch 18/100\n",
            "1556/1556 [==============================] - 0s 32us/step - loss: 0.4437 - acc: 0.8021\n",
            "Epoch 19/100\n",
            "1556/1556 [==============================] - 0s 31us/step - loss: 0.4411 - acc: 0.8027\n",
            "Epoch 20/100\n",
            "1556/1556 [==============================] - 0s 34us/step - loss: 0.4395 - acc: 0.8046\n",
            "Epoch 21/100\n",
            "1556/1556 [==============================] - 0s 32us/step - loss: 0.4364 - acc: 0.8098\n",
            "Epoch 22/100\n",
            "1556/1556 [==============================] - 0s 31us/step - loss: 0.4353 - acc: 0.8085\n",
            "Epoch 23/100\n",
            "1556/1556 [==============================] - 0s 32us/step - loss: 0.4354 - acc: 0.8123\n",
            "Epoch 24/100\n",
            "1556/1556 [==============================] - 0s 32us/step - loss: 0.4326 - acc: 0.8104\n",
            "Epoch 25/100\n",
            "1556/1556 [==============================] - 0s 32us/step - loss: 0.4317 - acc: 0.8117\n",
            "Epoch 26/100\n",
            "1556/1556 [==============================] - 0s 32us/step - loss: 0.4296 - acc: 0.8098\n",
            "Epoch 27/100\n",
            "1556/1556 [==============================] - 0s 31us/step - loss: 0.4276 - acc: 0.8181\n",
            "Epoch 28/100\n",
            "1556/1556 [==============================] - 0s 32us/step - loss: 0.4259 - acc: 0.8156\n",
            "Epoch 29/100\n",
            "1556/1556 [==============================] - 0s 32us/step - loss: 0.4265 - acc: 0.8175\n",
            "Epoch 30/100\n",
            "1556/1556 [==============================] - 0s 30us/step - loss: 0.4241 - acc: 0.8162\n",
            "Epoch 31/100\n",
            "1556/1556 [==============================] - 0s 29us/step - loss: 0.4230 - acc: 0.8201\n",
            "Epoch 32/100\n",
            "1556/1556 [==============================] - 0s 31us/step - loss: 0.4212 - acc: 0.8201\n",
            "Epoch 33/100\n",
            "1556/1556 [==============================] - 0s 30us/step - loss: 0.4210 - acc: 0.8194\n",
            "Epoch 34/100\n",
            "1556/1556 [==============================] - 0s 28us/step - loss: 0.4190 - acc: 0.8246\n",
            "Epoch 35/100\n",
            "1556/1556 [==============================] - 0s 35us/step - loss: 0.4183 - acc: 0.8181\n",
            "Epoch 36/100\n",
            "1556/1556 [==============================] - 0s 32us/step - loss: 0.4185 - acc: 0.8201\n",
            "Epoch 37/100\n",
            "1556/1556 [==============================] - 0s 36us/step - loss: 0.4195 - acc: 0.8233\n",
            "Epoch 38/100\n",
            "1556/1556 [==============================] - 0s 39us/step - loss: 0.4161 - acc: 0.8226\n",
            "Epoch 39/100\n",
            "1556/1556 [==============================] - 0s 40us/step - loss: 0.4147 - acc: 0.8213\n",
            "Epoch 40/100\n",
            "1556/1556 [==============================] - 0s 35us/step - loss: 0.4135 - acc: 0.8226\n",
            "Epoch 41/100\n",
            "1556/1556 [==============================] - 0s 34us/step - loss: 0.4123 - acc: 0.8213\n",
            "Epoch 42/100\n",
            "1556/1556 [==============================] - 0s 33us/step - loss: 0.4121 - acc: 0.8239\n",
            "Epoch 43/100\n",
            "1556/1556 [==============================] - 0s 30us/step - loss: 0.4100 - acc: 0.8258\n",
            "Epoch 44/100\n",
            "1556/1556 [==============================] - 0s 31us/step - loss: 0.4108 - acc: 0.8233\n",
            "Epoch 45/100\n",
            "1556/1556 [==============================] - 0s 28us/step - loss: 0.4085 - acc: 0.8265\n",
            "Epoch 46/100\n",
            "1556/1556 [==============================] - 0s 29us/step - loss: 0.4108 - acc: 0.8290\n",
            "Epoch 47/100\n",
            "1556/1556 [==============================] - 0s 31us/step - loss: 0.4072 - acc: 0.8297\n",
            "Epoch 48/100\n",
            "1556/1556 [==============================] - 0s 31us/step - loss: 0.4062 - acc: 0.8278\n",
            "Epoch 49/100\n",
            "1556/1556 [==============================] - 0s 32us/step - loss: 0.4054 - acc: 0.8265\n",
            "Epoch 50/100\n",
            "1556/1556 [==============================] - 0s 28us/step - loss: 0.4069 - acc: 0.8226\n",
            "Epoch 51/100\n",
            "1556/1556 [==============================] - 0s 30us/step - loss: 0.4062 - acc: 0.8226\n",
            "Epoch 52/100\n",
            "1556/1556 [==============================] - 0s 29us/step - loss: 0.4058 - acc: 0.8297\n",
            "Epoch 53/100\n",
            "1556/1556 [==============================] - 0s 30us/step - loss: 0.4028 - acc: 0.8310\n",
            "Epoch 54/100\n",
            "1556/1556 [==============================] - 0s 29us/step - loss: 0.4023 - acc: 0.8316\n",
            "Epoch 55/100\n",
            "1556/1556 [==============================] - 0s 32us/step - loss: 0.4013 - acc: 0.8303\n",
            "Epoch 56/100\n",
            "1556/1556 [==============================] - 0s 29us/step - loss: 0.4001 - acc: 0.8290\n",
            "Epoch 57/100\n",
            "1556/1556 [==============================] - 0s 29us/step - loss: 0.4009 - acc: 0.8303\n",
            "Epoch 58/100\n",
            "1556/1556 [==============================] - 0s 29us/step - loss: 0.4014 - acc: 0.8271\n",
            "Epoch 59/100\n",
            "1556/1556 [==============================] - 0s 28us/step - loss: 0.3980 - acc: 0.8297\n",
            "Epoch 60/100\n",
            "1556/1556 [==============================] - 0s 31us/step - loss: 0.4023 - acc: 0.8252\n",
            "Epoch 61/100\n",
            "1556/1556 [==============================] - 0s 29us/step - loss: 0.3991 - acc: 0.8278\n",
            "Epoch 62/100\n",
            "1556/1556 [==============================] - 0s 31us/step - loss: 0.3995 - acc: 0.8290\n",
            "Epoch 63/100\n",
            "1556/1556 [==============================] - 0s 30us/step - loss: 0.3987 - acc: 0.8303\n",
            "Epoch 64/100\n",
            "1556/1556 [==============================] - 0s 30us/step - loss: 0.3982 - acc: 0.8310\n",
            "Epoch 65/100\n",
            "1556/1556 [==============================] - 0s 30us/step - loss: 0.3964 - acc: 0.8310\n",
            "Epoch 66/100\n",
            "1556/1556 [==============================] - 0s 32us/step - loss: 0.3971 - acc: 0.8297\n",
            "Epoch 67/100\n",
            "1556/1556 [==============================] - 0s 29us/step - loss: 0.3971 - acc: 0.8252\n",
            "Epoch 68/100\n",
            "1556/1556 [==============================] - 0s 29us/step - loss: 0.3951 - acc: 0.8303\n",
            "Epoch 69/100\n",
            "1556/1556 [==============================] - 0s 28us/step - loss: 0.3961 - acc: 0.8278\n",
            "Epoch 70/100\n",
            "1556/1556 [==============================] - 0s 30us/step - loss: 0.3917 - acc: 0.8303\n",
            "Epoch 71/100\n",
            "1556/1556 [==============================] - 0s 32us/step - loss: 0.3922 - acc: 0.8316\n",
            "Epoch 72/100\n",
            "1556/1556 [==============================] - 0s 28us/step - loss: 0.3924 - acc: 0.8335\n",
            "Epoch 73/100\n",
            "1556/1556 [==============================] - 0s 28us/step - loss: 0.4010 - acc: 0.8246\n",
            "Epoch 74/100\n",
            "1556/1556 [==============================] - 0s 30us/step - loss: 0.3916 - acc: 0.8303\n",
            "Epoch 75/100\n",
            "1556/1556 [==============================] - 0s 28us/step - loss: 0.3903 - acc: 0.8297\n",
            "Epoch 76/100\n",
            "1556/1556 [==============================] - 0s 31us/step - loss: 0.3913 - acc: 0.8323\n",
            "Epoch 77/100\n",
            "1556/1556 [==============================] - 0s 28us/step - loss: 0.3907 - acc: 0.8316\n",
            "Epoch 78/100\n",
            "1556/1556 [==============================] - 0s 28us/step - loss: 0.3879 - acc: 0.8329\n",
            "Epoch 79/100\n",
            "1556/1556 [==============================] - 0s 28us/step - loss: 0.3887 - acc: 0.8316\n",
            "Epoch 80/100\n",
            "1556/1556 [==============================] - 0s 31us/step - loss: 0.3875 - acc: 0.8310\n",
            "Epoch 81/100\n",
            "1556/1556 [==============================] - 0s 33us/step - loss: 0.3869 - acc: 0.8323\n",
            "Epoch 82/100\n",
            "1556/1556 [==============================] - 0s 30us/step - loss: 0.3851 - acc: 0.8297\n",
            "Epoch 83/100\n",
            "1556/1556 [==============================] - 0s 30us/step - loss: 0.3843 - acc: 0.8316\n",
            "Epoch 84/100\n",
            "1556/1556 [==============================] - 0s 32us/step - loss: 0.3880 - acc: 0.8348\n",
            "Epoch 85/100\n",
            "1556/1556 [==============================] - 0s 29us/step - loss: 0.3838 - acc: 0.8342\n",
            "Epoch 86/100\n",
            "1556/1556 [==============================] - 0s 30us/step - loss: 0.3839 - acc: 0.8316\n",
            "Epoch 87/100\n",
            "1556/1556 [==============================] - 0s 32us/step - loss: 0.3826 - acc: 0.8368\n",
            "Epoch 88/100\n",
            "1556/1556 [==============================] - 0s 29us/step - loss: 0.3824 - acc: 0.8355\n",
            "Epoch 89/100\n",
            "1556/1556 [==============================] - 0s 28us/step - loss: 0.3827 - acc: 0.8329\n",
            "Epoch 90/100\n",
            "1556/1556 [==============================] - 0s 29us/step - loss: 0.3814 - acc: 0.8342\n",
            "Epoch 91/100\n",
            "1556/1556 [==============================] - 0s 31us/step - loss: 0.3816 - acc: 0.8355\n",
            "Epoch 92/100\n",
            "1556/1556 [==============================] - 0s 31us/step - loss: 0.3806 - acc: 0.8310\n",
            "Epoch 93/100\n",
            "1556/1556 [==============================] - 0s 30us/step - loss: 0.3831 - acc: 0.8342\n",
            "Epoch 94/100\n",
            "1556/1556 [==============================] - 0s 29us/step - loss: 0.3836 - acc: 0.8374\n",
            "Epoch 95/100\n",
            "1556/1556 [==============================] - 0s 30us/step - loss: 0.3801 - acc: 0.8316\n",
            "Epoch 96/100\n",
            "1556/1556 [==============================] - 0s 29us/step - loss: 0.3794 - acc: 0.8342\n",
            "Epoch 97/100\n",
            "1556/1556 [==============================] - 0s 31us/step - loss: 0.3789 - acc: 0.8355\n",
            "Epoch 98/100\n",
            "1556/1556 [==============================] - 0s 28us/step - loss: 0.3788 - acc: 0.8368\n",
            "Epoch 99/100\n",
            "1556/1556 [==============================] - 0s 29us/step - loss: 0.3784 - acc: 0.8323\n",
            "Epoch 100/100\n",
            "1556/1556 [==============================] - 0s 28us/step - loss: 0.3766 - acc: 0.8361\n"
          ],
          "name": "stdout"
        },
        {
          "output_type": "execute_result",
          "data": {
            "text/plain": [
              "<keras.callbacks.History at 0x7f6525abfcf8>"
            ]
          },
          "metadata": {
            "tags": []
          },
          "execution_count": 15
        }
      ]
    },
    {
      "metadata": {
        "id": "YDcIY7giHCOd",
        "colab_type": "code",
        "colab": {}
      },
      "cell_type": "code",
      "source": [
        "# Predict the results with test data\n",
        "y_pred = model.predict(X_test)\n",
        "y_pred = (y_pred > 0.5)"
      ],
      "execution_count": 0,
      "outputs": []
    },
    {
      "metadata": {
        "id": "uvp18CVuHuKV",
        "colab_type": "code",
        "colab": {
          "base_uri": "https://localhost:8080/",
          "height": 52
        },
        "outputId": "eec16af8-42b7-4811-9c66-cc5b33197cc0"
      },
      "cell_type": "code",
      "source": [
        "# Calculate Model accuracy\n",
        "acs = accuracy_score(y_test, y_pred)\n",
        "print('\\nAccuracy score: %.2f%%' % (acs * 100))"
      ],
      "execution_count": 25,
      "outputs": [
        {
          "output_type": "stream",
          "text": [
            "\n",
            "Accuracy score: 77.44%\n"
          ],
          "name": "stdout"
        }
      ]
    },
    {
      "metadata": {
        "id": "3q-xXFXVIj6t",
        "colab_type": "code",
        "colab": {}
      },
      "cell_type": "code",
      "source": [
        "# Save the model\n",
        "model.save('./drive/My Drive/MACHINE_LEARNING_CODE/DATA_SET/game-of-thrones/model.h5')"
      ],
      "execution_count": 0,
      "outputs": []
    }
  ]
}